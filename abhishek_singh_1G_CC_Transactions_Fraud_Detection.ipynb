{
  "nbformat": 4,
  "nbformat_minor": 0,
  "metadata": {
    "colab": {
      "provenance": [],
      "toc_visible": true
    },
    "kernelspec": {
      "name": "python3",
      "display_name": "Python 3"
    },
    "language_info": {
      "name": "python"
    }
  },
  "cells": [
    {
      "cell_type": "markdown",
      "source": [
        "# Problem Statement and Project Objective "
      ],
      "metadata": {
        "id": "jVEdXtTW2EK9"
      }
    },
    {
      "cell_type": "markdown",
      "source": [
        "Dataset\n",
        "https://www.kaggle.com/datasets/kartik2112/fraud-detection"
      ],
      "metadata": {
        "id": "EVte7qd6RWWk"
      }
    },
    {
      "cell_type": "markdown",
      "source": [
        "## **About dataset**\n",
        "\n"
      ],
      "metadata": {
        "id": "NRpWEZRD8pLp"
      }
    },
    {
      "cell_type": "markdown",
      "source": [
        "## **Data set information**"
      ],
      "metadata": {
        "id": "ul1bHaOPEv0m"
      }
    },
    {
      "cell_type": "markdown",
      "source": [
        "This dataset contains the credit card history of many users all over the united states for a period of 3 years."
      ],
      "metadata": {
        "id": "_XrOl3OTE3Vn"
      }
    },
    {
      "cell_type": "markdown",
      "source": [
        "## **Content**"
      ],
      "metadata": {
        "id": "nz_9gKBaFAST"
      }
    },
    {
      "cell_type": "markdown",
      "source": [
        "There are total 22 variables in which '**is_fraud**' is our target variable.\n",
        "\n",
        "trans_date_trans_time -> Transaction time stamp,\n",
        "cc_num -> Credit card number,\n",
        "merchant -> merchant name,\n",
        "category -> transaction category,\n",
        "amt -> Transaction amount,\n",
        "first -> First name of card holder,\n",
        "last -> Last name of card holder,\n",
        "gender -> Sex of card holder,\n",
        "street -> transaction address,\n",
        "city -> transaction city,\n",
        "state -> transaction state,\n",
        "zip -> transaction zipcode,\n",
        "lat -> transaction lattitude,\n",
        "long -> transaction longitude,\n",
        "city_pop -> Population of the city,\n",
        "job -> job of the card holder,\n",
        "dob -> date of birth of card holder,\n",
        "trans_num -> transaction number of transaction,\n",
        "unix_time -> time in unix format,\n",
        "merch_lat -> lattitude of the merchant,\n",
        "merch_long -> longitude of merchant,\n",
        "is_fraud -> nature of transaction (fraud or not fraud)."
      ],
      "metadata": {
        "id": "zBWUYJ7_Emm9"
      }
    },
    {
      "cell_type": "markdown",
      "source": [
        "## **Project Objective**"
      ],
      "metadata": {
        "id": "Ei9bECCxFgIl"
      }
    },
    {
      "cell_type": "markdown",
      "source": [
        "\n",
        "\n",
        "*   There are daily cases of fraud not only in US but all over the world. Many of them are becoming victims of these cases nowdays.The loss which occurs on a daily basis is unimaginable.\n",
        "*   In this project we will evaluate the strong related factors with the fraud transactions and those type of factors should be given special attention to.\n",
        "\n",
        "\n",
        "*   This type of model would help us to decrease the fraud rate in Business.\n",
        "*   The whole of this project was done in 15 days and the total number of resources used was 10.\n",
        "\n",
        "\n",
        "\n"
      ],
      "metadata": {
        "id": "QiClYI4AEq9a"
      }
    },
    {
      "cell_type": "markdown",
      "source": [
        "Data Exploration Steps for all the variables. Write down your findings after every variable exploration"
      ],
      "metadata": {
        "id": "jYvHWi8w83tg"
      }
    },
    {
      "cell_type": "code",
      "source": [
        "#packages required to import data from goole drive\n",
        "\n",
        "from pydrive.auth import GoogleAuth\n",
        "from pydrive.drive import GoogleDrive\n",
        "from google.colab import auth\n",
        "from oauth2client.client import GoogleCredentials\n",
        "import pandas as pd\n",
        "import seaborn as sns\n"
      ],
      "metadata": {
        "id": "ye6t6jpO2c1F"
      },
      "execution_count": null,
      "outputs": []
    },
    {
      "cell_type": "code",
      "source": [
        "from mpl_toolkits.mplot3d import Axes3D\n",
        "from sklearn.preprocessing import StandardScaler\n",
        "import matplotlib.pyplot as plt # plotting\n",
        "import numpy as np # linear algebra\n",
        "import os # accessing directory structure\n",
        "import pandas as pd # data processing, CSV file I/O (e.g. pd.read_csv)"
      ],
      "metadata": {
        "id": "XgWlEKE9sLCx"
      },
      "execution_count": null,
      "outputs": []
    },
    {
      "cell_type": "code",
      "source": [
        "g_drive_file_id=\"1MNvPcDYLKWI8WbbQYFk6yqMWcvpX3-cq\""
      ],
      "metadata": {
        "id": "wtpjkxtHuJmD"
      },
      "execution_count": null,
      "outputs": []
    },
    {
      "cell_type": "code",
      "source": [
        "auth.authenticate_user()\n",
        "gauth=GoogleAuth()\n",
        "gauth.credentials=GoogleCredentials.get_application_default()\n",
        "drive=GoogleDrive(gauth)\n",
        "downloaded=drive.CreateFile({'id':g_drive_file_id})\n",
        "downloaded.GetContentFile('fraudTest.csv')"
      ],
      "metadata": {
        "id": "Dy1Lvu9A_6bZ"
      },
      "execution_count": null,
      "outputs": []
    },
    {
      "cell_type": "code",
      "source": [
        "#Getting the test data\n",
        "fraud_test_data=pd.read_csv(\"/content/fraudTest.csv\")"
      ],
      "metadata": {
        "id": "TsUzVQqr_6d9"
      },
      "execution_count": null,
      "outputs": []
    },
    {
      "cell_type": "code",
      "source": [
        "#Train data Getting\n",
        "g_drive_file_id1=\"1iVaakheZpqG722UdY-Xknm6QfDm4HSjm\"\n",
        "auth.authenticate_user()\n",
        "gauth=GoogleAuth()\n",
        "gauth.credentials=GoogleCredentials.get_application_default()\n",
        "drive=GoogleDrive(gauth)\n",
        "downloaded=drive.CreateFile({'id':g_drive_file_id})\n",
        "downloaded.GetContentFile('fraudTrain.csv')"
      ],
      "metadata": {
        "id": "EfclLHeA_6jK"
      },
      "execution_count": null,
      "outputs": []
    },
    {
      "cell_type": "code",
      "source": [
        "fraud_train_data=pd.read_csv(\"/content/fraudTrain.csv\")"
      ],
      "metadata": {
        "id": "p22Nwc8y_6lt"
      },
      "execution_count": null,
      "outputs": []
    },
    {
      "cell_type": "markdown",
      "source": [
        "# Data Exploration and Validation\n"
      ],
      "metadata": {
        "id": "7C1vjC5St_t0"
      }
    },
    {
      "cell_type": "code",
      "source": [
        "fraud_test_data.info()"
      ],
      "metadata": {
        "id": "gkPG4CQj_6oF",
        "colab": {
          "base_uri": "https://localhost:8080/"
        },
        "outputId": "4ca3c1f0-c34f-464e-a544-15b311ebdaa0"
      },
      "execution_count": null,
      "outputs": [
        {
          "output_type": "stream",
          "name": "stdout",
          "text": [
            "<class 'pandas.core.frame.DataFrame'>\n",
            "RangeIndex: 555719 entries, 0 to 555718\n",
            "Data columns (total 23 columns):\n",
            " #   Column                 Non-Null Count   Dtype  \n",
            "---  ------                 --------------   -----  \n",
            " 0   Unnamed: 0             555719 non-null  int64  \n",
            " 1   trans_date_trans_time  555719 non-null  object \n",
            " 2   cc_num                 555719 non-null  int64  \n",
            " 3   merchant               555719 non-null  object \n",
            " 4   category               555719 non-null  object \n",
            " 5   amt                    555719 non-null  float64\n",
            " 6   first                  555719 non-null  object \n",
            " 7   last                   555719 non-null  object \n",
            " 8   gender                 555719 non-null  object \n",
            " 9   street                 555719 non-null  object \n",
            " 10  city                   555719 non-null  object \n",
            " 11  state                  555719 non-null  object \n",
            " 12  zip                    555719 non-null  int64  \n",
            " 13  lat                    555719 non-null  float64\n",
            " 14  long                   555719 non-null  float64\n",
            " 15  city_pop               555719 non-null  int64  \n",
            " 16  job                    555719 non-null  object \n",
            " 17  dob                    555719 non-null  object \n",
            " 18  trans_num              555719 non-null  object \n",
            " 19  unix_time              555719 non-null  int64  \n",
            " 20  merch_lat              555719 non-null  float64\n",
            " 21  merch_long             555719 non-null  float64\n",
            " 22  is_fraud               555719 non-null  int64  \n",
            "dtypes: float64(5), int64(6), object(12)\n",
            "memory usage: 97.5+ MB\n"
          ]
        }
      ]
    },
    {
      "cell_type": "code",
      "source": [
        "fraud_train_data.info()"
      ],
      "metadata": {
        "id": "XKYRw6Zw_6q9",
        "colab": {
          "base_uri": "https://localhost:8080/"
        },
        "outputId": "7098dafe-0404-4470-aed1-d11377c88203"
      },
      "execution_count": null,
      "outputs": [
        {
          "output_type": "stream",
          "name": "stdout",
          "text": [
            "<class 'pandas.core.frame.DataFrame'>\n",
            "RangeIndex: 555719 entries, 0 to 555718\n",
            "Data columns (total 23 columns):\n",
            " #   Column                 Non-Null Count   Dtype  \n",
            "---  ------                 --------------   -----  \n",
            " 0   Unnamed: 0             555719 non-null  int64  \n",
            " 1   trans_date_trans_time  555719 non-null  object \n",
            " 2   cc_num                 555719 non-null  int64  \n",
            " 3   merchant               555719 non-null  object \n",
            " 4   category               555719 non-null  object \n",
            " 5   amt                    555719 non-null  float64\n",
            " 6   first                  555719 non-null  object \n",
            " 7   last                   555719 non-null  object \n",
            " 8   gender                 555719 non-null  object \n",
            " 9   street                 555719 non-null  object \n",
            " 10  city                   555719 non-null  object \n",
            " 11  state                  555719 non-null  object \n",
            " 12  zip                    555719 non-null  int64  \n",
            " 13  lat                    555719 non-null  float64\n",
            " 14  long                   555719 non-null  float64\n",
            " 15  city_pop               555719 non-null  int64  \n",
            " 16  job                    555719 non-null  object \n",
            " 17  dob                    555719 non-null  object \n",
            " 18  trans_num              555719 non-null  object \n",
            " 19  unix_time              555719 non-null  int64  \n",
            " 20  merch_lat              555719 non-null  float64\n",
            " 21  merch_long             555719 non-null  float64\n",
            " 22  is_fraud               555719 non-null  int64  \n",
            "dtypes: float64(5), int64(6), object(12)\n",
            "memory usage: 97.5+ MB\n"
          ]
        }
      ]
    },
    {
      "cell_type": "code",
      "source": [
        "#Concatinating the test and train data as one dataset, so that we can clean them in one go.\n",
        "fraud_data=pd.concat([fraud_test_data,fraud_train_data])"
      ],
      "metadata": {
        "id": "_oI-SuUx_6tR"
      },
      "execution_count": null,
      "outputs": []
    },
    {
      "cell_type": "code",
      "source": [
        "fraud_data.info()"
      ],
      "metadata": {
        "id": "SFyJwEdmuJwK",
        "colab": {
          "base_uri": "https://localhost:8080/"
        },
        "outputId": "68deb85b-9624-44ae-9fc3-fa1001f3e8af"
      },
      "execution_count": null,
      "outputs": [
        {
          "output_type": "stream",
          "name": "stdout",
          "text": [
            "<class 'pandas.core.frame.DataFrame'>\n",
            "Int64Index: 1111438 entries, 0 to 555718\n",
            "Data columns (total 23 columns):\n",
            " #   Column                 Non-Null Count    Dtype  \n",
            "---  ------                 --------------    -----  \n",
            " 0   Unnamed: 0             1111438 non-null  int64  \n",
            " 1   trans_date_trans_time  1111438 non-null  object \n",
            " 2   cc_num                 1111438 non-null  int64  \n",
            " 3   merchant               1111438 non-null  object \n",
            " 4   category               1111438 non-null  object \n",
            " 5   amt                    1111438 non-null  float64\n",
            " 6   first                  1111438 non-null  object \n",
            " 7   last                   1111438 non-null  object \n",
            " 8   gender                 1111438 non-null  object \n",
            " 9   street                 1111438 non-null  object \n",
            " 10  city                   1111438 non-null  object \n",
            " 11  state                  1111438 non-null  object \n",
            " 12  zip                    1111438 non-null  int64  \n",
            " 13  lat                    1111438 non-null  float64\n",
            " 14  long                   1111438 non-null  float64\n",
            " 15  city_pop               1111438 non-null  int64  \n",
            " 16  job                    1111438 non-null  object \n",
            " 17  dob                    1111438 non-null  object \n",
            " 18  trans_num              1111438 non-null  object \n",
            " 19  unix_time              1111438 non-null  int64  \n",
            " 20  merch_lat              1111438 non-null  float64\n",
            " 21  merch_long             1111438 non-null  float64\n",
            " 22  is_fraud               1111438 non-null  int64  \n",
            "dtypes: float64(5), int64(6), object(12)\n",
            "memory usage: 203.5+ MB\n"
          ]
        }
      ]
    },
    {
      "cell_type": "code",
      "source": [
        "fraud_data.shape"
      ],
      "metadata": {
        "colab": {
          "base_uri": "https://localhost:8080/"
        },
        "id": "7KjWy5yCkPw7",
        "outputId": "1f26d596-caab-4624-880f-871f605dc473"
      },
      "execution_count": null,
      "outputs": [
        {
          "output_type": "execute_result",
          "data": {
            "text/plain": [
              "(1111438, 23)"
            ]
          },
          "metadata": {},
          "execution_count": 11
        }
      ]
    },
    {
      "cell_type": "code",
      "source": [
        "fraud_data.columns.values"
      ],
      "metadata": {
        "colab": {
          "base_uri": "https://localhost:8080/"
        },
        "id": "ARX81LzukPzg",
        "outputId": "044ee935-cf38-4814-bfe4-a9cd5c44e12d"
      },
      "execution_count": null,
      "outputs": [
        {
          "output_type": "execute_result",
          "data": {
            "text/plain": [
              "array(['Unnamed: 0', 'trans_date_trans_time', 'cc_num', 'merchant',\n",
              "       'category', 'amt', 'first', 'last', 'gender', 'street', 'city',\n",
              "       'state', 'zip', 'lat', 'long', 'city_pop', 'job', 'dob',\n",
              "       'trans_num', 'unix_time', 'merch_lat', 'merch_long', 'is_fraud'],\n",
              "      dtype=object)"
            ]
          },
          "metadata": {},
          "execution_count": 12
        }
      ]
    },
    {
      "cell_type": "code",
      "source": [
        "fraud_data.dtypes"
      ],
      "metadata": {
        "colab": {
          "base_uri": "https://localhost:8080/"
        },
        "id": "mrA20Q-5kP2I",
        "outputId": "d597efbb-42db-4619-c315-5401669eb60c"
      },
      "execution_count": null,
      "outputs": [
        {
          "output_type": "execute_result",
          "data": {
            "text/plain": [
              "Unnamed: 0                 int64\n",
              "trans_date_trans_time     object\n",
              "cc_num                     int64\n",
              "merchant                  object\n",
              "category                  object\n",
              "amt                      float64\n",
              "first                     object\n",
              "last                      object\n",
              "gender                    object\n",
              "street                    object\n",
              "city                      object\n",
              "state                     object\n",
              "zip                        int64\n",
              "lat                      float64\n",
              "long                     float64\n",
              "city_pop                   int64\n",
              "job                       object\n",
              "dob                       object\n",
              "trans_num                 object\n",
              "unix_time                  int64\n",
              "merch_lat                float64\n",
              "merch_long               float64\n",
              "is_fraud                   int64\n",
              "dtype: object"
            ]
          },
          "metadata": {},
          "execution_count": 13
        }
      ]
    },
    {
      "cell_type": "code",
      "source": [
        "fraud_data.head(20).T"
      ],
      "metadata": {
        "colab": {
          "base_uri": "https://localhost:8080/",
          "height": 852
        },
        "id": "CWHR_mP6kP45",
        "outputId": "5d4d4dac-872c-460d-e0ce-91191d192468"
      },
      "execution_count": null,
      "outputs": [
        {
          "output_type": "execute_result",
          "data": {
            "text/plain": [
              "                                                     0   \\\n",
              "Unnamed: 0                                            0   \n",
              "trans_date_trans_time               2020-06-21 12:14:25   \n",
              "cc_num                                 2291163933867244   \n",
              "merchant                          fraud_Kirlin and Sons   \n",
              "category                                  personal_care   \n",
              "amt                                                2.86   \n",
              "first                                              Jeff   \n",
              "last                                            Elliott   \n",
              "gender                                                M   \n",
              "street                                351 Darlene Green   \n",
              "city                                           Columbia   \n",
              "state                                                SC   \n",
              "zip                                               29209   \n",
              "lat                                             33.9659   \n",
              "long                                           -80.9355   \n",
              "city_pop                                         333497   \n",
              "job                                 Mechanical engineer   \n",
              "dob                                          1968-03-19   \n",
              "trans_num              2da90c7d74bd46a0caf3777415b3ebd3   \n",
              "unix_time                                    1371816865   \n",
              "merch_lat                                     33.986391   \n",
              "merch_long                                   -81.200714   \n",
              "is_fraud                                              0   \n",
              "\n",
              "                                                     1   \\\n",
              "Unnamed: 0                                            1   \n",
              "trans_date_trans_time               2020-06-21 12:14:33   \n",
              "cc_num                                 3573030041201292   \n",
              "merchant                           fraud_Sporer-Keebler   \n",
              "category                                  personal_care   \n",
              "amt                                               29.84   \n",
              "first                                            Joanne   \n",
              "last                                           Williams   \n",
              "gender                                                F   \n",
              "street                                 3638 Marsh Union   \n",
              "city                                            Altonah   \n",
              "state                                                UT   \n",
              "zip                                               84002   \n",
              "lat                                             40.3207   \n",
              "long                                           -110.436   \n",
              "city_pop                                            302   \n",
              "job                              Sales professional, IT   \n",
              "dob                                          1990-01-17   \n",
              "trans_num              324cc204407e99f51b0d6ca0055005e7   \n",
              "unix_time                                    1371816873   \n",
              "merch_lat                                     39.450498   \n",
              "merch_long                                  -109.960431   \n",
              "is_fraud                                              0   \n",
              "\n",
              "                                                         2   \\\n",
              "Unnamed: 0                                                2   \n",
              "trans_date_trans_time                   2020-06-21 12:14:53   \n",
              "cc_num                                     3598215285024754   \n",
              "merchant               fraud_Swaniawski, Nitzsche and Welch   \n",
              "category                                     health_fitness   \n",
              "amt                                                   41.28   \n",
              "first                                                Ashley   \n",
              "last                                                  Lopez   \n",
              "gender                                                    F   \n",
              "street                                 9333 Valentine Point   \n",
              "city                                               Bellmore   \n",
              "state                                                    NY   \n",
              "zip                                                   11710   \n",
              "lat                                                 40.6729   \n",
              "long                                               -73.5365   \n",
              "city_pop                                              34496   \n",
              "job                                       Librarian, public   \n",
              "dob                                              1970-10-21   \n",
              "trans_num                  c81755dbbbea9d5c77f094348a7579be   \n",
              "unix_time                                        1371816893   \n",
              "merch_lat                                          40.49581   \n",
              "merch_long                                       -74.196111   \n",
              "is_fraud                                                  0   \n",
              "\n",
              "                                                     3   \\\n",
              "Unnamed: 0                                            3   \n",
              "trans_date_trans_time               2020-06-21 12:15:15   \n",
              "cc_num                                 3591919803438423   \n",
              "merchant                              fraud_Haley Group   \n",
              "category                                       misc_pos   \n",
              "amt                                               60.05   \n",
              "first                                             Brian   \n",
              "last                                           Williams   \n",
              "gender                                                M   \n",
              "street                      32941 Krystal Mill Apt. 552   \n",
              "city                                         Titusville   \n",
              "state                                                FL   \n",
              "zip                                               32780   \n",
              "lat                                             28.5697   \n",
              "long                                           -80.8191   \n",
              "city_pop                                          54767   \n",
              "job                                        Set designer   \n",
              "dob                                          1987-07-25   \n",
              "trans_num              2159175b9efe66dc301f149d3d5abf8c   \n",
              "unix_time                                    1371816915   \n",
              "merch_lat                                     28.812398   \n",
              "merch_long                                   -80.883061   \n",
              "is_fraud                                              0   \n",
              "\n",
              "                                                     4   \\\n",
              "Unnamed: 0                                            4   \n",
              "trans_date_trans_time               2020-06-21 12:15:17   \n",
              "cc_num                                 3526826139003047   \n",
              "merchant                          fraud_Johnston-Casper   \n",
              "category                                         travel   \n",
              "amt                                                3.19   \n",
              "first                                            Nathan   \n",
              "last                                             Massey   \n",
              "gender                                                M   \n",
              "street                         5783 Evan Roads Apt. 465   \n",
              "city                                           Falmouth   \n",
              "state                                                MI   \n",
              "zip                                               49632   \n",
              "lat                                             44.2529   \n",
              "long                                            -85.017   \n",
              "city_pop                                           1126   \n",
              "job                                  Furniture designer   \n",
              "dob                                          1955-07-06   \n",
              "trans_num              57ff021bd3f328f8738bb535c302a31b   \n",
              "unix_time                                    1371816917   \n",
              "merch_lat                                     44.959148   \n",
              "merch_long                                   -85.884734   \n",
              "is_fraud                                              0   \n",
              "\n",
              "                                                     5   \\\n",
              "Unnamed: 0                                            5   \n",
              "trans_date_trans_time               2020-06-21 12:15:37   \n",
              "cc_num                                   30407675418785   \n",
              "merchant                            fraud_Daugherty LLC   \n",
              "category                                      kids_pets   \n",
              "amt                                               19.55   \n",
              "first                                          Danielle   \n",
              "last                                              Evans   \n",
              "gender                                                F   \n",
              "street                       76752 David Lodge Apt. 064   \n",
              "city                                          Breesport   \n",
              "state                                                NY   \n",
              "zip                                               14816   \n",
              "lat                                             42.1939   \n",
              "long                                           -76.7361   \n",
              "city_pop                                            520   \n",
              "job                                     Psychotherapist   \n",
              "dob                                          1991-10-13   \n",
              "trans_num              798db04aaceb4febd084f1a7c404da93   \n",
              "unix_time                                    1371816937   \n",
              "merch_lat                                     41.747157   \n",
              "merch_long                                   -77.584197   \n",
              "is_fraud                                              0   \n",
              "\n",
              "                                                     6   \\\n",
              "Unnamed: 0                                            6   \n",
              "trans_date_trans_time               2020-06-21 12:15:44   \n",
              "cc_num                                  213180742685905   \n",
              "merchant                            fraud_Romaguera Ltd   \n",
              "category                                 health_fitness   \n",
              "amt                                              133.93   \n",
              "first                                             Kayla   \n",
              "last                                             Sutton   \n",
              "gender                                                F   \n",
              "street                                  010 Weaver Land   \n",
              "city                                           Carlotta   \n",
              "state                                                CA   \n",
              "zip                                               95528   \n",
              "lat                                              40.507   \n",
              "long                                          -123.9743   \n",
              "city_pop                                           1139   \n",
              "job                             Therapist, occupational   \n",
              "dob                                          1951-01-15   \n",
              "trans_num              17003d7ce534440eadb10c4750e020e5   \n",
              "unix_time                                    1371816944   \n",
              "merch_lat                                     41.499458   \n",
              "merch_long                                  -124.888729   \n",
              "is_fraud                                              0   \n",
              "\n",
              "                                                          7   \\\n",
              "Unnamed: 0                                                 7   \n",
              "trans_date_trans_time                    2020-06-21 12:15:50   \n",
              "cc_num                                      3589289942931264   \n",
              "merchant                                   fraud_Reichel LLC   \n",
              "category                                       personal_care   \n",
              "amt                                                    10.37   \n",
              "first                                                  Paula   \n",
              "last                                                 Estrada   \n",
              "gender                                                     F   \n",
              "street                                       350 Stacy Glens   \n",
              "city                                                 Spencer   \n",
              "state                                                     SD   \n",
              "zip                                                    57374   \n",
              "lat                                                  43.7557   \n",
              "long                                                -97.5936   \n",
              "city_pop                                                 343   \n",
              "job                    Development worker, international aid   \n",
              "dob                                               1972-03-05   \n",
              "trans_num                   8be473af4f05fc6146ea55ace73e7ca2   \n",
              "unix_time                                         1371816950   \n",
              "merch_lat                                          44.495498   \n",
              "merch_long                                        -97.728453   \n",
              "is_fraud                                                   0   \n",
              "\n",
              "                                                      8   \\\n",
              "Unnamed: 0                                             8   \n",
              "trans_date_trans_time                2020-06-21 12:16:10   \n",
              "cc_num                                  3596357274378601   \n",
              "merchant               fraud_Goyette, Howell and Collier   \n",
              "category                                    shopping_pos   \n",
              "amt                                                 4.37   \n",
              "first                                              David   \n",
              "last                                             Everett   \n",
              "gender                                                 M   \n",
              "street                                   4138 David Fall   \n",
              "city                                          Morrisdale   \n",
              "state                                                 PA   \n",
              "zip                                                16858   \n",
              "lat                                              41.0001   \n",
              "long                                            -78.2357   \n",
              "city_pop                                            3688   \n",
              "job                                        Advice worker   \n",
              "dob                                           1973-05-27   \n",
              "trans_num               71a1da150d1ce510193d7622e08e784e   \n",
              "unix_time                                     1371816970   \n",
              "merch_lat                                      41.546067   \n",
              "merch_long                                    -78.120238   \n",
              "is_fraud                                               0   \n",
              "\n",
              "                                                     9   \\\n",
              "Unnamed: 0                                            9   \n",
              "trans_date_trans_time               2020-06-21 12:16:11   \n",
              "cc_num                                 3546897637165774   \n",
              "merchant                            fraud_Kilback Group   \n",
              "category                                    food_dining   \n",
              "amt                                               66.54   \n",
              "first                                             Kayla   \n",
              "last                                             Obrien   \n",
              "gender                                                F   \n",
              "street                       7921 Robert Port Suite 343   \n",
              "city                                       Prairie Hill   \n",
              "state                                                TX   \n",
              "zip                                               76678   \n",
              "lat                                             31.6591   \n",
              "long                                           -96.8094   \n",
              "city_pop                                            263   \n",
              "job                                           Barrister   \n",
              "dob                                          1956-05-30   \n",
              "trans_num              a7915132c7c4240996ba03a47f81e3bd   \n",
              "unix_time                                    1371816971   \n",
              "merch_lat                                     31.782919   \n",
              "merch_long                                   -96.366185   \n",
              "is_fraud                                              0   \n",
              "\n",
              "                                                     10  \\\n",
              "Unnamed: 0                                           10   \n",
              "trans_date_trans_time               2020-06-21 12:16:20   \n",
              "cc_num                                 2242542703101233   \n",
              "merchant                   fraud_Feil, Hilpert and Koss   \n",
              "category                                    food_dining   \n",
              "amt                                                7.01   \n",
              "first                                            Samuel   \n",
              "last                                            Jenkins   \n",
              "gender                                                M   \n",
              "street                    43235 Mckenzie Views Apt. 837   \n",
              "city                                           Westport   \n",
              "state                                                KY   \n",
              "zip                                               40077   \n",
              "lat                                             38.4921   \n",
              "long                                           -85.4524   \n",
              "city_pop                                            564   \n",
              "job                                 Pensions consultant   \n",
              "dob                                          1996-04-10   \n",
              "trans_num              3b8e4d02d9e1a3bf97cf449eb0317f2c   \n",
              "unix_time                                    1371816980   \n",
              "merch_lat                                     38.977546   \n",
              "merch_long                                   -84.727994   \n",
              "is_fraud                                              0   \n",
              "\n",
              "                                                     11  \\\n",
              "Unnamed: 0                                           11   \n",
              "trans_date_trans_time               2020-06-21 12:16:47   \n",
              "cc_num                                     571465035400   \n",
              "merchant                           fraud_Gottlieb Group   \n",
              "category                                      kids_pets   \n",
              "amt                                                42.4   \n",
              "first                                             Louis   \n",
              "last                                             Fisher   \n",
              "gender                                                M   \n",
              "street                                  45654 Hess Rest   \n",
              "city                                      Fort Washakie   \n",
              "state                                                WY   \n",
              "zip                                               82514   \n",
              "lat                                             43.0048   \n",
              "long                                          -108.8964   \n",
              "city_pop                                           1645   \n",
              "job                                   Freight forwarder   \n",
              "dob                                          1976-02-26   \n",
              "trans_num              fa3071565d94fb286cb0ed398c6d61d3   \n",
              "unix_time                                    1371817007   \n",
              "merch_lat                                     42.687774   \n",
              "merch_long                                  -108.670054   \n",
              "is_fraud                                              0   \n",
              "\n",
              "                                                     12  \\\n",
              "Unnamed: 0                                           12   \n",
              "trans_date_trans_time               2020-06-21 12:17:21   \n",
              "cc_num                                 6593250708747804   \n",
              "merchant                          fraud_Connelly-Carter   \n",
              "category                                           home   \n",
              "amt                                                2.91   \n",
              "first                                           Melissa   \n",
              "last                                               Meza   \n",
              "gender                                                F   \n",
              "street                               244 Abbott Parkway   \n",
              "city                                        Loxahatchee   \n",
              "state                                                FL   \n",
              "zip                                               33470   \n",
              "lat                                             26.7383   \n",
              "long                                            -80.276   \n",
              "city_pop                                          26551   \n",
              "job                                           Paramedic   \n",
              "dob                                          1977-01-04   \n",
              "trans_num              a21cb82e7d8fdbf4062f15c9422a4ca6   \n",
              "unix_time                                    1371817041   \n",
              "merch_lat                                      26.07846   \n",
              "merch_long                                   -80.569932   \n",
              "is_fraud                                              0   \n",
              "\n",
              "                                                     13  \\\n",
              "Unnamed: 0                                           13   \n",
              "trans_date_trans_time               2020-06-21 12:18:27   \n",
              "cc_num                                    4988304376504   \n",
              "merchant                         fraud_Bechtelar-Rippin   \n",
              "category                                    food_dining   \n",
              "amt                                                7.93   \n",
              "first                                           William   \n",
              "last                                           Thompson   \n",
              "gender                                                M   \n",
              "street                          977 Rita Grove Apt. 000   \n",
              "city                                        Rock Tavern   \n",
              "state                                                NY   \n",
              "zip                                               12575   \n",
              "lat                                             41.4575   \n",
              "long                                           -74.1659   \n",
              "city_pop                                           2258   \n",
              "job                                   Building surveyor   \n",
              "dob                                          1937-03-17   \n",
              "trans_num              d0d2b5cca5ae19e0a07dc7ef5d51e59e   \n",
              "unix_time                                    1371817107   \n",
              "merch_lat                                      40.71168   \n",
              "merch_long                                   -73.668384   \n",
              "is_fraud                                              0   \n",
              "\n",
              "                                                     14  \\\n",
              "Unnamed: 0                                           14   \n",
              "trans_date_trans_time               2020-06-21 12:18:37   \n",
              "cc_num                                 6011504998544485   \n",
              "merchant                          fraud_Lubowitz-Walter   \n",
              "category                                      kids_pets   \n",
              "amt                                                2.91   \n",
              "first                                            Ashley   \n",
              "last                                            Whitney   \n",
              "gender                                                F   \n",
              "street                                4038 Smith Avenue   \n",
              "city                                              Jones   \n",
              "state                                                AL   \n",
              "zip                                               36749   \n",
              "lat                                             32.5104   \n",
              "long                                           -86.8138   \n",
              "city_pop                                           1089   \n",
              "job                                  Materials engineer   \n",
              "dob                                          1971-11-02   \n",
              "trans_num              61dca41a9728ea5fd6db99efd59768f8   \n",
              "unix_time                                    1371817117   \n",
              "merch_lat                                     32.721131   \n",
              "merch_long                                   -87.253846   \n",
              "is_fraud                                              0   \n",
              "\n",
              "                                                     15  \\\n",
              "Unnamed: 0                                           15   \n",
              "trans_date_trans_time               2020-06-21 12:18:41   \n",
              "cc_num                                 4570636521433188   \n",
              "merchant                    fraud_Welch, Rath and Koepp   \n",
              "category                                  entertainment   \n",
              "amt                                               24.73   \n",
              "first                                         Christine   \n",
              "last                                            Leblanc   \n",
              "gender                                                F   \n",
              "street                        5097 Jodi Vista Suite 811   \n",
              "city                                            Deltona   \n",
              "state                                                FL   \n",
              "zip                                               32725   \n",
              "lat                                             28.8989   \n",
              "long                                           -81.2473   \n",
              "city_pop                                          88735   \n",
              "job                           Commercial horticulturist   \n",
              "dob                                          1988-04-09   \n",
              "trans_num              ea11379e8aa1b08d584149d65770faee   \n",
              "unix_time                                    1371817121   \n",
              "merch_lat                                      29.83155   \n",
              "merch_long                                   -80.926829   \n",
              "is_fraud                                              0   \n",
              "\n",
              "                                                     16  \\\n",
              "Unnamed: 0                                           16   \n",
              "trans_date_trans_time               2020-06-21 12:18:54   \n",
              "cc_num                              4906628655840914250   \n",
              "merchant                             fraud_Hickle Group   \n",
              "category                                   shopping_pos   \n",
              "amt                                                2.33   \n",
              "first                                           Charles   \n",
              "last                                             Moreno   \n",
              "gender                                                M   \n",
              "street                    838 Franklin Prairie Apt. 902   \n",
              "city                                           Key West   \n",
              "state                                                FL   \n",
              "zip                                               33040   \n",
              "lat                                             24.6557   \n",
              "long                                           -81.3824   \n",
              "city_pop                                          32891   \n",
              "job                                        Town planner   \n",
              "dob                                          1987-02-13   \n",
              "trans_num              00da72495351ce6bd9ecb75d51cca89b   \n",
              "unix_time                                    1371817134   \n",
              "merch_lat                                     24.306325   \n",
              "merch_long                                   -81.065169   \n",
              "is_fraud                                              0   \n",
              "\n",
              "                                                     17  \\\n",
              "Unnamed: 0                                           17   \n",
              "trans_date_trans_time               2020-06-21 12:19:50   \n",
              "cc_num                                 4908846471916297   \n",
              "merchant                  fraud_Lang, Towne and Schuppe   \n",
              "category                                      kids_pets   \n",
              "amt                                                16.6   \n",
              "first                                            Lauren   \n",
              "last                                             Torres   \n",
              "gender                                                F   \n",
              "street                                03030 White Lakes   \n",
              "city                                          Grandview   \n",
              "state                                                TX   \n",
              "zip                                               76050   \n",
              "lat                                             32.2779   \n",
              "long                                           -97.2351   \n",
              "city_pop                                           5875   \n",
              "job                           Radiographer, therapeutic   \n",
              "dob                                          1992-07-24   \n",
              "trans_num              67288141e8206f6f49706c1cef5b75d3   \n",
              "unix_time                                    1371817190   \n",
              "merch_lat                                     33.182349   \n",
              "merch_long                                   -97.919284   \n",
              "is_fraud                                              0   \n",
              "\n",
              "                                                     18  \\\n",
              "Unnamed: 0                                           18   \n",
              "trans_date_trans_time               2020-06-21 12:19:56   \n",
              "cc_num                              4861310130652566408   \n",
              "merchant                           fraud_Morissette LLC   \n",
              "category                                  entertainment   \n",
              "amt                                               80.11   \n",
              "first                                            Ashley   \n",
              "last                                               Cruz   \n",
              "gender                                                F   \n",
              "street                     65417 Walsh Radial Suite 691   \n",
              "city                                        Saint Amant   \n",
              "state                                                LA   \n",
              "zip                                               70774   \n",
              "lat                                             30.2385   \n",
              "long                                           -90.8435   \n",
              "city_pop                                          10076   \n",
              "job                            Surveyor, rural practice   \n",
              "dob                                          1977-12-16   \n",
              "trans_num              71bb6ee81f9af4d2a38bf6af2b614708   \n",
              "unix_time                                    1371817196   \n",
              "merch_lat                                      30.44999   \n",
              "merch_long                                   -89.930996   \n",
              "is_fraud                                              0   \n",
              "\n",
              "                                                     19  \n",
              "Unnamed: 0                                           19  \n",
              "trans_date_trans_time               2020-06-21 12:20:13  \n",
              "cc_num                                 6538441737335434  \n",
              "merchant                             fraud_Prosacco LLC  \n",
              "category                                  personal_care  \n",
              "amt                                                5.71  \n",
              "first                                              Gina  \n",
              "last                                             Grimes  \n",
              "gender                                                F  \n",
              "street                                  444 Robert Mews  \n",
              "city                                       Clarks Mills  \n",
              "state                                                PA  \n",
              "zip                                               16114  \n",
              "lat                                             41.3851  \n",
              "long                                           -80.1752  \n",
              "city_pop                                            606  \n",
              "job                                      Energy manager  \n",
              "dob                                          1997-09-22  \n",
              "trans_num              2d7640ea4f3bcd520a3c33200c393dd8  \n",
              "unix_time                                    1371817213  \n",
              "merch_lat                                     40.508064  \n",
              "merch_long                                   -79.615158  \n",
              "is_fraud                                              0  "
            ],
            "text/html": [
              "\n",
              "  <div id=\"df-11e93544-da1f-45cd-8334-fb8db8e54ee3\">\n",
              "    <div class=\"colab-df-container\">\n",
              "      <div>\n",
              "<style scoped>\n",
              "    .dataframe tbody tr th:only-of-type {\n",
              "        vertical-align: middle;\n",
              "    }\n",
              "\n",
              "    .dataframe tbody tr th {\n",
              "        vertical-align: top;\n",
              "    }\n",
              "\n",
              "    .dataframe thead th {\n",
              "        text-align: right;\n",
              "    }\n",
              "</style>\n",
              "<table border=\"1\" class=\"dataframe\">\n",
              "  <thead>\n",
              "    <tr style=\"text-align: right;\">\n",
              "      <th></th>\n",
              "      <th>0</th>\n",
              "      <th>1</th>\n",
              "      <th>2</th>\n",
              "      <th>3</th>\n",
              "      <th>4</th>\n",
              "      <th>5</th>\n",
              "      <th>6</th>\n",
              "      <th>7</th>\n",
              "      <th>8</th>\n",
              "      <th>9</th>\n",
              "      <th>10</th>\n",
              "      <th>11</th>\n",
              "      <th>12</th>\n",
              "      <th>13</th>\n",
              "      <th>14</th>\n",
              "      <th>15</th>\n",
              "      <th>16</th>\n",
              "      <th>17</th>\n",
              "      <th>18</th>\n",
              "      <th>19</th>\n",
              "    </tr>\n",
              "  </thead>\n",
              "  <tbody>\n",
              "    <tr>\n",
              "      <th>Unnamed: 0</th>\n",
              "      <td>0</td>\n",
              "      <td>1</td>\n",
              "      <td>2</td>\n",
              "      <td>3</td>\n",
              "      <td>4</td>\n",
              "      <td>5</td>\n",
              "      <td>6</td>\n",
              "      <td>7</td>\n",
              "      <td>8</td>\n",
              "      <td>9</td>\n",
              "      <td>10</td>\n",
              "      <td>11</td>\n",
              "      <td>12</td>\n",
              "      <td>13</td>\n",
              "      <td>14</td>\n",
              "      <td>15</td>\n",
              "      <td>16</td>\n",
              "      <td>17</td>\n",
              "      <td>18</td>\n",
              "      <td>19</td>\n",
              "    </tr>\n",
              "    <tr>\n",
              "      <th>trans_date_trans_time</th>\n",
              "      <td>2020-06-21 12:14:25</td>\n",
              "      <td>2020-06-21 12:14:33</td>\n",
              "      <td>2020-06-21 12:14:53</td>\n",
              "      <td>2020-06-21 12:15:15</td>\n",
              "      <td>2020-06-21 12:15:17</td>\n",
              "      <td>2020-06-21 12:15:37</td>\n",
              "      <td>2020-06-21 12:15:44</td>\n",
              "      <td>2020-06-21 12:15:50</td>\n",
              "      <td>2020-06-21 12:16:10</td>\n",
              "      <td>2020-06-21 12:16:11</td>\n",
              "      <td>2020-06-21 12:16:20</td>\n",
              "      <td>2020-06-21 12:16:47</td>\n",
              "      <td>2020-06-21 12:17:21</td>\n",
              "      <td>2020-06-21 12:18:27</td>\n",
              "      <td>2020-06-21 12:18:37</td>\n",
              "      <td>2020-06-21 12:18:41</td>\n",
              "      <td>2020-06-21 12:18:54</td>\n",
              "      <td>2020-06-21 12:19:50</td>\n",
              "      <td>2020-06-21 12:19:56</td>\n",
              "      <td>2020-06-21 12:20:13</td>\n",
              "    </tr>\n",
              "    <tr>\n",
              "      <th>cc_num</th>\n",
              "      <td>2291163933867244</td>\n",
              "      <td>3573030041201292</td>\n",
              "      <td>3598215285024754</td>\n",
              "      <td>3591919803438423</td>\n",
              "      <td>3526826139003047</td>\n",
              "      <td>30407675418785</td>\n",
              "      <td>213180742685905</td>\n",
              "      <td>3589289942931264</td>\n",
              "      <td>3596357274378601</td>\n",
              "      <td>3546897637165774</td>\n",
              "      <td>2242542703101233</td>\n",
              "      <td>571465035400</td>\n",
              "      <td>6593250708747804</td>\n",
              "      <td>4988304376504</td>\n",
              "      <td>6011504998544485</td>\n",
              "      <td>4570636521433188</td>\n",
              "      <td>4906628655840914250</td>\n",
              "      <td>4908846471916297</td>\n",
              "      <td>4861310130652566408</td>\n",
              "      <td>6538441737335434</td>\n",
              "    </tr>\n",
              "    <tr>\n",
              "      <th>merchant</th>\n",
              "      <td>fraud_Kirlin and Sons</td>\n",
              "      <td>fraud_Sporer-Keebler</td>\n",
              "      <td>fraud_Swaniawski, Nitzsche and Welch</td>\n",
              "      <td>fraud_Haley Group</td>\n",
              "      <td>fraud_Johnston-Casper</td>\n",
              "      <td>fraud_Daugherty LLC</td>\n",
              "      <td>fraud_Romaguera Ltd</td>\n",
              "      <td>fraud_Reichel LLC</td>\n",
              "      <td>fraud_Goyette, Howell and Collier</td>\n",
              "      <td>fraud_Kilback Group</td>\n",
              "      <td>fraud_Feil, Hilpert and Koss</td>\n",
              "      <td>fraud_Gottlieb Group</td>\n",
              "      <td>fraud_Connelly-Carter</td>\n",
              "      <td>fraud_Bechtelar-Rippin</td>\n",
              "      <td>fraud_Lubowitz-Walter</td>\n",
              "      <td>fraud_Welch, Rath and Koepp</td>\n",
              "      <td>fraud_Hickle Group</td>\n",
              "      <td>fraud_Lang, Towne and Schuppe</td>\n",
              "      <td>fraud_Morissette LLC</td>\n",
              "      <td>fraud_Prosacco LLC</td>\n",
              "    </tr>\n",
              "    <tr>\n",
              "      <th>category</th>\n",
              "      <td>personal_care</td>\n",
              "      <td>personal_care</td>\n",
              "      <td>health_fitness</td>\n",
              "      <td>misc_pos</td>\n",
              "      <td>travel</td>\n",
              "      <td>kids_pets</td>\n",
              "      <td>health_fitness</td>\n",
              "      <td>personal_care</td>\n",
              "      <td>shopping_pos</td>\n",
              "      <td>food_dining</td>\n",
              "      <td>food_dining</td>\n",
              "      <td>kids_pets</td>\n",
              "      <td>home</td>\n",
              "      <td>food_dining</td>\n",
              "      <td>kids_pets</td>\n",
              "      <td>entertainment</td>\n",
              "      <td>shopping_pos</td>\n",
              "      <td>kids_pets</td>\n",
              "      <td>entertainment</td>\n",
              "      <td>personal_care</td>\n",
              "    </tr>\n",
              "    <tr>\n",
              "      <th>amt</th>\n",
              "      <td>2.86</td>\n",
              "      <td>29.84</td>\n",
              "      <td>41.28</td>\n",
              "      <td>60.05</td>\n",
              "      <td>3.19</td>\n",
              "      <td>19.55</td>\n",
              "      <td>133.93</td>\n",
              "      <td>10.37</td>\n",
              "      <td>4.37</td>\n",
              "      <td>66.54</td>\n",
              "      <td>7.01</td>\n",
              "      <td>42.4</td>\n",
              "      <td>2.91</td>\n",
              "      <td>7.93</td>\n",
              "      <td>2.91</td>\n",
              "      <td>24.73</td>\n",
              "      <td>2.33</td>\n",
              "      <td>16.6</td>\n",
              "      <td>80.11</td>\n",
              "      <td>5.71</td>\n",
              "    </tr>\n",
              "    <tr>\n",
              "      <th>first</th>\n",
              "      <td>Jeff</td>\n",
              "      <td>Joanne</td>\n",
              "      <td>Ashley</td>\n",
              "      <td>Brian</td>\n",
              "      <td>Nathan</td>\n",
              "      <td>Danielle</td>\n",
              "      <td>Kayla</td>\n",
              "      <td>Paula</td>\n",
              "      <td>David</td>\n",
              "      <td>Kayla</td>\n",
              "      <td>Samuel</td>\n",
              "      <td>Louis</td>\n",
              "      <td>Melissa</td>\n",
              "      <td>William</td>\n",
              "      <td>Ashley</td>\n",
              "      <td>Christine</td>\n",
              "      <td>Charles</td>\n",
              "      <td>Lauren</td>\n",
              "      <td>Ashley</td>\n",
              "      <td>Gina</td>\n",
              "    </tr>\n",
              "    <tr>\n",
              "      <th>last</th>\n",
              "      <td>Elliott</td>\n",
              "      <td>Williams</td>\n",
              "      <td>Lopez</td>\n",
              "      <td>Williams</td>\n",
              "      <td>Massey</td>\n",
              "      <td>Evans</td>\n",
              "      <td>Sutton</td>\n",
              "      <td>Estrada</td>\n",
              "      <td>Everett</td>\n",
              "      <td>Obrien</td>\n",
              "      <td>Jenkins</td>\n",
              "      <td>Fisher</td>\n",
              "      <td>Meza</td>\n",
              "      <td>Thompson</td>\n",
              "      <td>Whitney</td>\n",
              "      <td>Leblanc</td>\n",
              "      <td>Moreno</td>\n",
              "      <td>Torres</td>\n",
              "      <td>Cruz</td>\n",
              "      <td>Grimes</td>\n",
              "    </tr>\n",
              "    <tr>\n",
              "      <th>gender</th>\n",
              "      <td>M</td>\n",
              "      <td>F</td>\n",
              "      <td>F</td>\n",
              "      <td>M</td>\n",
              "      <td>M</td>\n",
              "      <td>F</td>\n",
              "      <td>F</td>\n",
              "      <td>F</td>\n",
              "      <td>M</td>\n",
              "      <td>F</td>\n",
              "      <td>M</td>\n",
              "      <td>M</td>\n",
              "      <td>F</td>\n",
              "      <td>M</td>\n",
              "      <td>F</td>\n",
              "      <td>F</td>\n",
              "      <td>M</td>\n",
              "      <td>F</td>\n",
              "      <td>F</td>\n",
              "      <td>F</td>\n",
              "    </tr>\n",
              "    <tr>\n",
              "      <th>street</th>\n",
              "      <td>351 Darlene Green</td>\n",
              "      <td>3638 Marsh Union</td>\n",
              "      <td>9333 Valentine Point</td>\n",
              "      <td>32941 Krystal Mill Apt. 552</td>\n",
              "      <td>5783 Evan Roads Apt. 465</td>\n",
              "      <td>76752 David Lodge Apt. 064</td>\n",
              "      <td>010 Weaver Land</td>\n",
              "      <td>350 Stacy Glens</td>\n",
              "      <td>4138 David Fall</td>\n",
              "      <td>7921 Robert Port Suite 343</td>\n",
              "      <td>43235 Mckenzie Views Apt. 837</td>\n",
              "      <td>45654 Hess Rest</td>\n",
              "      <td>244 Abbott Parkway</td>\n",
              "      <td>977 Rita Grove Apt. 000</td>\n",
              "      <td>4038 Smith Avenue</td>\n",
              "      <td>5097 Jodi Vista Suite 811</td>\n",
              "      <td>838 Franklin Prairie Apt. 902</td>\n",
              "      <td>03030 White Lakes</td>\n",
              "      <td>65417 Walsh Radial Suite 691</td>\n",
              "      <td>444 Robert Mews</td>\n",
              "    </tr>\n",
              "    <tr>\n",
              "      <th>city</th>\n",
              "      <td>Columbia</td>\n",
              "      <td>Altonah</td>\n",
              "      <td>Bellmore</td>\n",
              "      <td>Titusville</td>\n",
              "      <td>Falmouth</td>\n",
              "      <td>Breesport</td>\n",
              "      <td>Carlotta</td>\n",
              "      <td>Spencer</td>\n",
              "      <td>Morrisdale</td>\n",
              "      <td>Prairie Hill</td>\n",
              "      <td>Westport</td>\n",
              "      <td>Fort Washakie</td>\n",
              "      <td>Loxahatchee</td>\n",
              "      <td>Rock Tavern</td>\n",
              "      <td>Jones</td>\n",
              "      <td>Deltona</td>\n",
              "      <td>Key West</td>\n",
              "      <td>Grandview</td>\n",
              "      <td>Saint Amant</td>\n",
              "      <td>Clarks Mills</td>\n",
              "    </tr>\n",
              "    <tr>\n",
              "      <th>state</th>\n",
              "      <td>SC</td>\n",
              "      <td>UT</td>\n",
              "      <td>NY</td>\n",
              "      <td>FL</td>\n",
              "      <td>MI</td>\n",
              "      <td>NY</td>\n",
              "      <td>CA</td>\n",
              "      <td>SD</td>\n",
              "      <td>PA</td>\n",
              "      <td>TX</td>\n",
              "      <td>KY</td>\n",
              "      <td>WY</td>\n",
              "      <td>FL</td>\n",
              "      <td>NY</td>\n",
              "      <td>AL</td>\n",
              "      <td>FL</td>\n",
              "      <td>FL</td>\n",
              "      <td>TX</td>\n",
              "      <td>LA</td>\n",
              "      <td>PA</td>\n",
              "    </tr>\n",
              "    <tr>\n",
              "      <th>zip</th>\n",
              "      <td>29209</td>\n",
              "      <td>84002</td>\n",
              "      <td>11710</td>\n",
              "      <td>32780</td>\n",
              "      <td>49632</td>\n",
              "      <td>14816</td>\n",
              "      <td>95528</td>\n",
              "      <td>57374</td>\n",
              "      <td>16858</td>\n",
              "      <td>76678</td>\n",
              "      <td>40077</td>\n",
              "      <td>82514</td>\n",
              "      <td>33470</td>\n",
              "      <td>12575</td>\n",
              "      <td>36749</td>\n",
              "      <td>32725</td>\n",
              "      <td>33040</td>\n",
              "      <td>76050</td>\n",
              "      <td>70774</td>\n",
              "      <td>16114</td>\n",
              "    </tr>\n",
              "    <tr>\n",
              "      <th>lat</th>\n",
              "      <td>33.9659</td>\n",
              "      <td>40.3207</td>\n",
              "      <td>40.6729</td>\n",
              "      <td>28.5697</td>\n",
              "      <td>44.2529</td>\n",
              "      <td>42.1939</td>\n",
              "      <td>40.507</td>\n",
              "      <td>43.7557</td>\n",
              "      <td>41.0001</td>\n",
              "      <td>31.6591</td>\n",
              "      <td>38.4921</td>\n",
              "      <td>43.0048</td>\n",
              "      <td>26.7383</td>\n",
              "      <td>41.4575</td>\n",
              "      <td>32.5104</td>\n",
              "      <td>28.8989</td>\n",
              "      <td>24.6557</td>\n",
              "      <td>32.2779</td>\n",
              "      <td>30.2385</td>\n",
              "      <td>41.3851</td>\n",
              "    </tr>\n",
              "    <tr>\n",
              "      <th>long</th>\n",
              "      <td>-80.9355</td>\n",
              "      <td>-110.436</td>\n",
              "      <td>-73.5365</td>\n",
              "      <td>-80.8191</td>\n",
              "      <td>-85.017</td>\n",
              "      <td>-76.7361</td>\n",
              "      <td>-123.9743</td>\n",
              "      <td>-97.5936</td>\n",
              "      <td>-78.2357</td>\n",
              "      <td>-96.8094</td>\n",
              "      <td>-85.4524</td>\n",
              "      <td>-108.8964</td>\n",
              "      <td>-80.276</td>\n",
              "      <td>-74.1659</td>\n",
              "      <td>-86.8138</td>\n",
              "      <td>-81.2473</td>\n",
              "      <td>-81.3824</td>\n",
              "      <td>-97.2351</td>\n",
              "      <td>-90.8435</td>\n",
              "      <td>-80.1752</td>\n",
              "    </tr>\n",
              "    <tr>\n",
              "      <th>city_pop</th>\n",
              "      <td>333497</td>\n",
              "      <td>302</td>\n",
              "      <td>34496</td>\n",
              "      <td>54767</td>\n",
              "      <td>1126</td>\n",
              "      <td>520</td>\n",
              "      <td>1139</td>\n",
              "      <td>343</td>\n",
              "      <td>3688</td>\n",
              "      <td>263</td>\n",
              "      <td>564</td>\n",
              "      <td>1645</td>\n",
              "      <td>26551</td>\n",
              "      <td>2258</td>\n",
              "      <td>1089</td>\n",
              "      <td>88735</td>\n",
              "      <td>32891</td>\n",
              "      <td>5875</td>\n",
              "      <td>10076</td>\n",
              "      <td>606</td>\n",
              "    </tr>\n",
              "    <tr>\n",
              "      <th>job</th>\n",
              "      <td>Mechanical engineer</td>\n",
              "      <td>Sales professional, IT</td>\n",
              "      <td>Librarian, public</td>\n",
              "      <td>Set designer</td>\n",
              "      <td>Furniture designer</td>\n",
              "      <td>Psychotherapist</td>\n",
              "      <td>Therapist, occupational</td>\n",
              "      <td>Development worker, international aid</td>\n",
              "      <td>Advice worker</td>\n",
              "      <td>Barrister</td>\n",
              "      <td>Pensions consultant</td>\n",
              "      <td>Freight forwarder</td>\n",
              "      <td>Paramedic</td>\n",
              "      <td>Building surveyor</td>\n",
              "      <td>Materials engineer</td>\n",
              "      <td>Commercial horticulturist</td>\n",
              "      <td>Town planner</td>\n",
              "      <td>Radiographer, therapeutic</td>\n",
              "      <td>Surveyor, rural practice</td>\n",
              "      <td>Energy manager</td>\n",
              "    </tr>\n",
              "    <tr>\n",
              "      <th>dob</th>\n",
              "      <td>1968-03-19</td>\n",
              "      <td>1990-01-17</td>\n",
              "      <td>1970-10-21</td>\n",
              "      <td>1987-07-25</td>\n",
              "      <td>1955-07-06</td>\n",
              "      <td>1991-10-13</td>\n",
              "      <td>1951-01-15</td>\n",
              "      <td>1972-03-05</td>\n",
              "      <td>1973-05-27</td>\n",
              "      <td>1956-05-30</td>\n",
              "      <td>1996-04-10</td>\n",
              "      <td>1976-02-26</td>\n",
              "      <td>1977-01-04</td>\n",
              "      <td>1937-03-17</td>\n",
              "      <td>1971-11-02</td>\n",
              "      <td>1988-04-09</td>\n",
              "      <td>1987-02-13</td>\n",
              "      <td>1992-07-24</td>\n",
              "      <td>1977-12-16</td>\n",
              "      <td>1997-09-22</td>\n",
              "    </tr>\n",
              "    <tr>\n",
              "      <th>trans_num</th>\n",
              "      <td>2da90c7d74bd46a0caf3777415b3ebd3</td>\n",
              "      <td>324cc204407e99f51b0d6ca0055005e7</td>\n",
              "      <td>c81755dbbbea9d5c77f094348a7579be</td>\n",
              "      <td>2159175b9efe66dc301f149d3d5abf8c</td>\n",
              "      <td>57ff021bd3f328f8738bb535c302a31b</td>\n",
              "      <td>798db04aaceb4febd084f1a7c404da93</td>\n",
              "      <td>17003d7ce534440eadb10c4750e020e5</td>\n",
              "      <td>8be473af4f05fc6146ea55ace73e7ca2</td>\n",
              "      <td>71a1da150d1ce510193d7622e08e784e</td>\n",
              "      <td>a7915132c7c4240996ba03a47f81e3bd</td>\n",
              "      <td>3b8e4d02d9e1a3bf97cf449eb0317f2c</td>\n",
              "      <td>fa3071565d94fb286cb0ed398c6d61d3</td>\n",
              "      <td>a21cb82e7d8fdbf4062f15c9422a4ca6</td>\n",
              "      <td>d0d2b5cca5ae19e0a07dc7ef5d51e59e</td>\n",
              "      <td>61dca41a9728ea5fd6db99efd59768f8</td>\n",
              "      <td>ea11379e8aa1b08d584149d65770faee</td>\n",
              "      <td>00da72495351ce6bd9ecb75d51cca89b</td>\n",
              "      <td>67288141e8206f6f49706c1cef5b75d3</td>\n",
              "      <td>71bb6ee81f9af4d2a38bf6af2b614708</td>\n",
              "      <td>2d7640ea4f3bcd520a3c33200c393dd8</td>\n",
              "    </tr>\n",
              "    <tr>\n",
              "      <th>unix_time</th>\n",
              "      <td>1371816865</td>\n",
              "      <td>1371816873</td>\n",
              "      <td>1371816893</td>\n",
              "      <td>1371816915</td>\n",
              "      <td>1371816917</td>\n",
              "      <td>1371816937</td>\n",
              "      <td>1371816944</td>\n",
              "      <td>1371816950</td>\n",
              "      <td>1371816970</td>\n",
              "      <td>1371816971</td>\n",
              "      <td>1371816980</td>\n",
              "      <td>1371817007</td>\n",
              "      <td>1371817041</td>\n",
              "      <td>1371817107</td>\n",
              "      <td>1371817117</td>\n",
              "      <td>1371817121</td>\n",
              "      <td>1371817134</td>\n",
              "      <td>1371817190</td>\n",
              "      <td>1371817196</td>\n",
              "      <td>1371817213</td>\n",
              "    </tr>\n",
              "    <tr>\n",
              "      <th>merch_lat</th>\n",
              "      <td>33.986391</td>\n",
              "      <td>39.450498</td>\n",
              "      <td>40.49581</td>\n",
              "      <td>28.812398</td>\n",
              "      <td>44.959148</td>\n",
              "      <td>41.747157</td>\n",
              "      <td>41.499458</td>\n",
              "      <td>44.495498</td>\n",
              "      <td>41.546067</td>\n",
              "      <td>31.782919</td>\n",
              "      <td>38.977546</td>\n",
              "      <td>42.687774</td>\n",
              "      <td>26.07846</td>\n",
              "      <td>40.71168</td>\n",
              "      <td>32.721131</td>\n",
              "      <td>29.83155</td>\n",
              "      <td>24.306325</td>\n",
              "      <td>33.182349</td>\n",
              "      <td>30.44999</td>\n",
              "      <td>40.508064</td>\n",
              "    </tr>\n",
              "    <tr>\n",
              "      <th>merch_long</th>\n",
              "      <td>-81.200714</td>\n",
              "      <td>-109.960431</td>\n",
              "      <td>-74.196111</td>\n",
              "      <td>-80.883061</td>\n",
              "      <td>-85.884734</td>\n",
              "      <td>-77.584197</td>\n",
              "      <td>-124.888729</td>\n",
              "      <td>-97.728453</td>\n",
              "      <td>-78.120238</td>\n",
              "      <td>-96.366185</td>\n",
              "      <td>-84.727994</td>\n",
              "      <td>-108.670054</td>\n",
              "      <td>-80.569932</td>\n",
              "      <td>-73.668384</td>\n",
              "      <td>-87.253846</td>\n",
              "      <td>-80.926829</td>\n",
              "      <td>-81.065169</td>\n",
              "      <td>-97.919284</td>\n",
              "      <td>-89.930996</td>\n",
              "      <td>-79.615158</td>\n",
              "    </tr>\n",
              "    <tr>\n",
              "      <th>is_fraud</th>\n",
              "      <td>0</td>\n",
              "      <td>0</td>\n",
              "      <td>0</td>\n",
              "      <td>0</td>\n",
              "      <td>0</td>\n",
              "      <td>0</td>\n",
              "      <td>0</td>\n",
              "      <td>0</td>\n",
              "      <td>0</td>\n",
              "      <td>0</td>\n",
              "      <td>0</td>\n",
              "      <td>0</td>\n",
              "      <td>0</td>\n",
              "      <td>0</td>\n",
              "      <td>0</td>\n",
              "      <td>0</td>\n",
              "      <td>0</td>\n",
              "      <td>0</td>\n",
              "      <td>0</td>\n",
              "      <td>0</td>\n",
              "    </tr>\n",
              "  </tbody>\n",
              "</table>\n",
              "</div>\n",
              "      <button class=\"colab-df-convert\" onclick=\"convertToInteractive('df-11e93544-da1f-45cd-8334-fb8db8e54ee3')\"\n",
              "              title=\"Convert this dataframe to an interactive table.\"\n",
              "              style=\"display:none;\">\n",
              "        \n",
              "  <svg xmlns=\"http://www.w3.org/2000/svg\" height=\"24px\"viewBox=\"0 0 24 24\"\n",
              "       width=\"24px\">\n",
              "    <path d=\"M0 0h24v24H0V0z\" fill=\"none\"/>\n",
              "    <path d=\"M18.56 5.44l.94 2.06.94-2.06 2.06-.94-2.06-.94-.94-2.06-.94 2.06-2.06.94zm-11 1L8.5 8.5l.94-2.06 2.06-.94-2.06-.94L8.5 2.5l-.94 2.06-2.06.94zm10 10l.94 2.06.94-2.06 2.06-.94-2.06-.94-.94-2.06-.94 2.06-2.06.94z\"/><path d=\"M17.41 7.96l-1.37-1.37c-.4-.4-.92-.59-1.43-.59-.52 0-1.04.2-1.43.59L10.3 9.45l-7.72 7.72c-.78.78-.78 2.05 0 2.83L4 21.41c.39.39.9.59 1.41.59.51 0 1.02-.2 1.41-.59l7.78-7.78 2.81-2.81c.8-.78.8-2.07 0-2.86zM5.41 20L4 18.59l7.72-7.72 1.47 1.35L5.41 20z\"/>\n",
              "  </svg>\n",
              "      </button>\n",
              "      \n",
              "  <style>\n",
              "    .colab-df-container {\n",
              "      display:flex;\n",
              "      flex-wrap:wrap;\n",
              "      gap: 12px;\n",
              "    }\n",
              "\n",
              "    .colab-df-convert {\n",
              "      background-color: #E8F0FE;\n",
              "      border: none;\n",
              "      border-radius: 50%;\n",
              "      cursor: pointer;\n",
              "      display: none;\n",
              "      fill: #1967D2;\n",
              "      height: 32px;\n",
              "      padding: 0 0 0 0;\n",
              "      width: 32px;\n",
              "    }\n",
              "\n",
              "    .colab-df-convert:hover {\n",
              "      background-color: #E2EBFA;\n",
              "      box-shadow: 0px 1px 2px rgba(60, 64, 67, 0.3), 0px 1px 3px 1px rgba(60, 64, 67, 0.15);\n",
              "      fill: #174EA6;\n",
              "    }\n",
              "\n",
              "    [theme=dark] .colab-df-convert {\n",
              "      background-color: #3B4455;\n",
              "      fill: #D2E3FC;\n",
              "    }\n",
              "\n",
              "    [theme=dark] .colab-df-convert:hover {\n",
              "      background-color: #434B5C;\n",
              "      box-shadow: 0px 1px 3px 1px rgba(0, 0, 0, 0.15);\n",
              "      filter: drop-shadow(0px 1px 2px rgba(0, 0, 0, 0.3));\n",
              "      fill: #FFFFFF;\n",
              "    }\n",
              "  </style>\n",
              "\n",
              "      <script>\n",
              "        const buttonEl =\n",
              "          document.querySelector('#df-11e93544-da1f-45cd-8334-fb8db8e54ee3 button.colab-df-convert');\n",
              "        buttonEl.style.display =\n",
              "          google.colab.kernel.accessAllowed ? 'block' : 'none';\n",
              "\n",
              "        async function convertToInteractive(key) {\n",
              "          const element = document.querySelector('#df-11e93544-da1f-45cd-8334-fb8db8e54ee3');\n",
              "          const dataTable =\n",
              "            await google.colab.kernel.invokeFunction('convertToInteractive',\n",
              "                                                     [key], {});\n",
              "          if (!dataTable) return;\n",
              "\n",
              "          const docLinkHtml = 'Like what you see? Visit the ' +\n",
              "            '<a target=\"_blank\" href=https://colab.research.google.com/notebooks/data_table.ipynb>data table notebook</a>'\n",
              "            + ' to learn more about interactive tables.';\n",
              "          element.innerHTML = '';\n",
              "          dataTable['output_type'] = 'display_data';\n",
              "          await google.colab.output.renderOutput(dataTable, element);\n",
              "          const docLink = document.createElement('div');\n",
              "          docLink.innerHTML = docLinkHtml;\n",
              "          element.appendChild(docLink);\n",
              "        }\n",
              "      </script>\n",
              "    </div>\n",
              "  </div>\n",
              "  "
            ]
          },
          "metadata": {},
          "execution_count": 117
        }
      ]
    },
    {
      "cell_type": "markdown",
      "source": [
        "## **Converting 'trans_details'and 'age' into date time stamp**"
      ],
      "metadata": {
        "id": "LX1ey3avTB1N"
      }
    },
    {
      "cell_type": "code",
      "source": [
        "fraud_data.trans_date_trans_time=pd.to_datetime(fraud_data.trans_date_trans_time)\n",
        "fraud_data.dtypes"
      ],
      "metadata": {
        "colab": {
          "base_uri": "https://localhost:8080/"
        },
        "id": "Mf0MpRMDYhxd",
        "outputId": "8a773385-a502-4e4a-82e8-6e7d9592ff94"
      },
      "execution_count": null,
      "outputs": [
        {
          "output_type": "execute_result",
          "data": {
            "text/plain": [
              "Unnamed: 0                        int64\n",
              "trans_date_trans_time    datetime64[ns]\n",
              "cc_num                            int64\n",
              "merchant                         object\n",
              "category                         object\n",
              "amt                             float64\n",
              "first                            object\n",
              "last                             object\n",
              "gender                           object\n",
              "street                           object\n",
              "city                             object\n",
              "state                            object\n",
              "zip                               int64\n",
              "lat                             float64\n",
              "long                            float64\n",
              "city_pop                          int64\n",
              "job                              object\n",
              "dob                              object\n",
              "trans_num                        object\n",
              "unix_time                         int64\n",
              "merch_lat                       float64\n",
              "merch_long                      float64\n",
              "is_fraud                          int64\n",
              "dtype: object"
            ]
          },
          "metadata": {},
          "execution_count": 14
        }
      ]
    },
    {
      "cell_type": "code",
      "source": [
        "fraud_data.dob=pd.to_datetime(fraud_data.dob)\n",
        "fraud_data.dtypes"
      ],
      "metadata": {
        "colab": {
          "base_uri": "https://localhost:8080/"
        },
        "id": "TN_b0mR8rj1u",
        "outputId": "3d3b9f42-9a48-411f-b2ae-287e1ba11d29"
      },
      "execution_count": null,
      "outputs": [
        {
          "output_type": "execute_result",
          "data": {
            "text/plain": [
              "Unnamed: 0                        int64\n",
              "trans_date_trans_time    datetime64[ns]\n",
              "cc_num                            int64\n",
              "merchant                         object\n",
              "category                         object\n",
              "amt                             float64\n",
              "first                            object\n",
              "last                             object\n",
              "gender                           object\n",
              "street                           object\n",
              "city                             object\n",
              "state                            object\n",
              "zip                               int64\n",
              "lat                             float64\n",
              "long                            float64\n",
              "city_pop                          int64\n",
              "job                              object\n",
              "dob                      datetime64[ns]\n",
              "trans_num                        object\n",
              "unix_time                         int64\n",
              "merch_lat                       float64\n",
              "merch_long                      float64\n",
              "is_fraud                          int64\n",
              "dtype: object"
            ]
          },
          "metadata": {},
          "execution_count": 16
        }
      ]
    },
    {
      "cell_type": "code",
      "source": [
        "#There is no missing data in this data set.\n",
        "fraud_data.isnull().sum()"
      ],
      "metadata": {
        "colab": {
          "base_uri": "https://localhost:8080/"
        },
        "id": "Ywwl4YpxkP70",
        "outputId": "34c438c1-5219-4708-e627-d58859e00b5f"
      },
      "execution_count": null,
      "outputs": [
        {
          "output_type": "execute_result",
          "data": {
            "text/plain": [
              "Unnamed: 0               0\n",
              "trans_date_trans_time    0\n",
              "cc_num                   0\n",
              "merchant                 0\n",
              "category                 0\n",
              "amt                      0\n",
              "first                    0\n",
              "last                     0\n",
              "gender                   0\n",
              "street                   0\n",
              "city                     0\n",
              "state                    0\n",
              "zip                      0\n",
              "lat                      0\n",
              "long                     0\n",
              "city_pop                 0\n",
              "job                      0\n",
              "dob                      0\n",
              "trans_num                0\n",
              "unix_time                0\n",
              "merch_lat                0\n",
              "merch_long               0\n",
              "is_fraud                 0\n",
              "dtype: int64"
            ]
          },
          "metadata": {},
          "execution_count": 17
        }
      ]
    },
    {
      "cell_type": "code",
      "source": [
        "fraud_data.rename(columns={'Unnamed: 0 ':'Unnamed','trans_date_trans_time':'trans_details'},inplace=True)"
      ],
      "metadata": {
        "id": "m873osRPkP-8"
      },
      "execution_count": null,
      "outputs": []
    },
    {
      "cell_type": "code",
      "source": [
        "fraud_data.info()"
      ],
      "metadata": {
        "colab": {
          "base_uri": "https://localhost:8080/"
        },
        "id": "SPt-mOf7kQBs",
        "outputId": "03822d0b-a488-404f-b2ac-eb6abb5dc753"
      },
      "execution_count": null,
      "outputs": [
        {
          "output_type": "stream",
          "name": "stdout",
          "text": [
            "<class 'pandas.core.frame.DataFrame'>\n",
            "Int64Index: 1111438 entries, 0 to 555718\n",
            "Data columns (total 23 columns):\n",
            " #   Column         Non-Null Count    Dtype         \n",
            "---  ------         --------------    -----         \n",
            " 0   Unnamed: 0     1111438 non-null  int64         \n",
            " 1   trans_details  1111438 non-null  datetime64[ns]\n",
            " 2   cc_num         1111438 non-null  int64         \n",
            " 3   merchant       1111438 non-null  object        \n",
            " 4   category       1111438 non-null  object        \n",
            " 5   amt            1111438 non-null  float64       \n",
            " 6   first          1111438 non-null  object        \n",
            " 7   last           1111438 non-null  object        \n",
            " 8   gender         1111438 non-null  object        \n",
            " 9   street         1111438 non-null  object        \n",
            " 10  city           1111438 non-null  object        \n",
            " 11  state          1111438 non-null  object        \n",
            " 12  zip            1111438 non-null  int64         \n",
            " 13  lat            1111438 non-null  float64       \n",
            " 14  long           1111438 non-null  float64       \n",
            " 15  city_pop       1111438 non-null  int64         \n",
            " 16  job            1111438 non-null  object        \n",
            " 17  dob            1111438 non-null  datetime64[ns]\n",
            " 18  trans_num      1111438 non-null  object        \n",
            " 19  unix_time      1111438 non-null  int64         \n",
            " 20  merch_lat      1111438 non-null  float64       \n",
            " 21  merch_long     1111438 non-null  float64       \n",
            " 22  is_fraud       1111438 non-null  int64         \n",
            "dtypes: datetime64[ns](2), float64(5), int64(6), object(10)\n",
            "memory usage: 203.5+ MB\n"
          ]
        }
      ]
    },
    {
      "cell_type": "code",
      "source": [
        "fraud_data.drop(fraud_data.columns[0],axis=1,inplace=True)"
      ],
      "metadata": {
        "id": "a5dm0JZGkQEo"
      },
      "execution_count": null,
      "outputs": []
    },
    {
      "cell_type": "code",
      "source": [
        "fraud_data.info()"
      ],
      "metadata": {
        "colab": {
          "base_uri": "https://localhost:8080/"
        },
        "id": "5cdGwiwZkQHj",
        "outputId": "d80236f8-0d06-4be6-a062-6d3ba9aa7e01"
      },
      "execution_count": null,
      "outputs": [
        {
          "output_type": "stream",
          "name": "stdout",
          "text": [
            "<class 'pandas.core.frame.DataFrame'>\n",
            "Int64Index: 1111438 entries, 0 to 555718\n",
            "Data columns (total 22 columns):\n",
            " #   Column         Non-Null Count    Dtype         \n",
            "---  ------         --------------    -----         \n",
            " 0   trans_details  1111438 non-null  datetime64[ns]\n",
            " 1   cc_num         1111438 non-null  int64         \n",
            " 2   merchant       1111438 non-null  object        \n",
            " 3   category       1111438 non-null  object        \n",
            " 4   amt            1111438 non-null  float64       \n",
            " 5   first          1111438 non-null  object        \n",
            " 6   last           1111438 non-null  object        \n",
            " 7   gender         1111438 non-null  object        \n",
            " 8   street         1111438 non-null  object        \n",
            " 9   city           1111438 non-null  object        \n",
            " 10  state          1111438 non-null  object        \n",
            " 11  zip            1111438 non-null  int64         \n",
            " 12  lat            1111438 non-null  float64       \n",
            " 13  long           1111438 non-null  float64       \n",
            " 14  city_pop       1111438 non-null  int64         \n",
            " 15  job            1111438 non-null  object        \n",
            " 16  dob            1111438 non-null  datetime64[ns]\n",
            " 17  trans_num      1111438 non-null  object        \n",
            " 18  unix_time      1111438 non-null  int64         \n",
            " 19  merch_lat      1111438 non-null  float64       \n",
            " 20  merch_long     1111438 non-null  float64       \n",
            " 21  is_fraud       1111438 non-null  int64         \n",
            "dtypes: datetime64[ns](2), float64(5), int64(5), object(10)\n",
            "memory usage: 195.0+ MB\n"
          ]
        }
      ]
    },
    {
      "cell_type": "code",
      "source": [
        "print(fraud_data['gender'].value_counts())\n",
        "print(fraud_data['state'].value_counts())"
      ],
      "metadata": {
        "colab": {
          "base_uri": "https://localhost:8080/"
        },
        "id": "iAHgrcL8oHQP",
        "outputId": "54d21ee0-4bcf-4c62-9b06-862e0477a0ee"
      },
      "execution_count": null,
      "outputs": [
        {
          "output_type": "stream",
          "name": "stdout",
          "text": [
            "F    609772\n",
            "M    501666\n",
            "Name: gender, dtype: int64\n",
            "TX    80786\n",
            "NY    71836\n",
            "PA    68652\n",
            "CA    48270\n",
            "OH    40294\n",
            "MI    39342\n",
            "IL    37920\n",
            "FL    36208\n",
            "AL    35064\n",
            "MO    33002\n",
            "MN    27438\n",
            "AR    26968\n",
            "NC    25736\n",
            "SC    25082\n",
            "KY    25012\n",
            "VA    25012\n",
            "WI    24740\n",
            "IN    23918\n",
            "IA    23638\n",
            "OK    22758\n",
            "GA    22554\n",
            "MD    22304\n",
            "WV    21676\n",
            "NJ    21056\n",
            "NE    20514\n",
            "KS    19886\n",
            "LA    17976\n",
            "MS    17666\n",
            "WY    16908\n",
            "WA    16232\n",
            "OR    15622\n",
            "TN    14718\n",
            "NM    14040\n",
            "ME    13856\n",
            "ND    12794\n",
            "CO    11772\n",
            "SD    10500\n",
            "MA    10372\n",
            "MT    10104\n",
            "VT    10088\n",
            "UT     9316\n",
            "AZ     9184\n",
            "NH     6898\n",
            "CT     6554\n",
            "ID     4980\n",
            "NV     4902\n",
            "DC     3034\n",
            "HI     2180\n",
            "AK     1686\n",
            "RI      390\n",
            "Name: state, dtype: int64\n"
          ]
        }
      ]
    },
    {
      "cell_type": "code",
      "source": [
        "print(fraud_data['is_fraud'].value_counts())\n",
        "fraud_data['is_fraud'].value_counts().plot.bar()"
      ],
      "metadata": {
        "colab": {
          "base_uri": "https://localhost:8080/",
          "height": 342
        },
        "id": "5YV4SB4xoHSz",
        "outputId": "85430527-c977-46a0-921f-d969815d5ef3"
      },
      "execution_count": null,
      "outputs": [
        {
          "output_type": "stream",
          "name": "stdout",
          "text": [
            "0    1107148\n",
            "1       4290\n",
            "Name: is_fraud, dtype: int64\n"
          ]
        },
        {
          "output_type": "execute_result",
          "data": {
            "text/plain": [
              "<matplotlib.axes._subplots.AxesSubplot at 0x7f7bb5931350>"
            ]
          },
          "metadata": {},
          "execution_count": 23
        },
        {
          "output_type": "display_data",
          "data": {
            "text/plain": [
              "<Figure size 432x288 with 1 Axes>"
            ],
            "image/png": "[encoded data removed]"
          },
          "metadata": {
            "needs_background": "light"
          }
        }
      ]
    },
    {
      "cell_type": "markdown",
      "source": [
        "From this analysis it was concluded that the data needs to balanced and then worked upon.(As there are huge number of counts which are not fraud)"
      ],
      "metadata": {
        "id": "22ptOK5mt_Sy"
      }
    },
    {
      "cell_type": "code",
      "source": [
        "import plotly.express as px\n",
        "plt.figure(figsize=(20,20))\n",
        "corr=fraud_data.corr().round(1)\n",
        "fig = px.imshow(corr)\n",
        "fig.show()\n"
      ],
      "metadata": {
        "colab": {
          "base_uri": "https://localhost:8080/",
          "height": 559
        },
        "id": "WQpnDAqzvDDf",
        "outputId": "f6570f22-69e5-40ac-9941-2f5be11c291c"
      },
      "execution_count": null,
      "outputs": [
        {
          "output_type": "display_data",
          "data": {
            "text/html": [
              "<html>\n",
              "<head><meta charset=\"utf-8\" /></head>\n",
              "<body>\n",
              "    <div>            <script src=\"https://cdnjs.cloudflare.com/ajax/libs/mathjax/2.7.5/MathJax.js?config=TeX-AMS-MML_SVG\"></script><script type=\"text/javascript\">if (window.MathJax) {MathJax.Hub.Config({SVG: {font: \"STIX-Web\"}});}</script>                <script type=\"text/javascript\">window.PlotlyConfig = {MathJaxConfig: 'local'};</script>\n",
              "        <script src=\"https://cdn.plot.ly/plotly-2.8.3.min.js\"></script>                <div id=\"e0aadc39-5307-4186-ac9f-fdf991dbee38\" class=\"plotly-graph-div\" style=\"height:525px; width:100%;\"></div>            <script type=\"text/javascript\">                                    window.PLOTLYENV=window.PLOTLYENV || {};                                    if (document.getElementById(\"e0aadc39-5307-4186-ac9f-fdf991dbee38\")) {                    Plotly.newPlot(                        \"e0aadc39-5307-4186-ac9f-fdf991dbee38\",                        [{\"coloraxis\":\"coloraxis\",\"name\":\"0\",\"x\":[\"cc_num\",\"amt\",\"zip\",\"lat\",\"long\",\"city_pop\",\"unix_time\",\"merch_lat\",\"merch_long\",\"is_fraud\"],\"y\":[\"cc_num\",\"amt\",\"zip\",\"lat\",\"long\",\"city_pop\",\"unix_time\",\"merch_lat\",\"merch_long\",\"is_fraud\"],\"z\":[[1.0,0.0,0.0,-0.1,-0.0,-0.0,-0.0,-0.1,-0.0,-0.0],[0.0,1.0,0.0,0.0,-0.0,0.0,-0.0,0.0,-0.0,0.2],[0.0,0.0,1.0,-0.1,-0.9,0.1,0.0,-0.1,-0.9,-0.0],[-0.1,0.0,-0.1,1.0,-0.0,-0.2,0.0,1.0,-0.0,0.0],[-0.0,-0.0,-0.9,-0.0,1.0,-0.1,-0.0,-0.0,1.0,-0.0],[-0.0,0.0,0.1,-0.2,-0.1,1.0,-0.0,-0.2,-0.1,-0.0],[-0.0,-0.0,0.0,0.0,-0.0,-0.0,1.0,0.0,-0.0,-0.0],[-0.1,0.0,-0.1,1.0,-0.0,-0.2,0.0,1.0,-0.0,0.0],[-0.0,-0.0,-0.9,-0.0,1.0,-0.1,-0.0,-0.0,1.0,-0.0],[-0.0,0.2,-0.0,0.0,-0.0,-0.0,-0.0,0.0,-0.0,1.0]],\"type\":\"heatmap\",\"xaxis\":\"x\",\"yaxis\":\"y\",\"hovertemplate\":\"x: %{x}<br>y: %{y}<br>color: %{z}<extra></extra>\"}],                        {\"template\":{\"data\":{\"bar\":[{\"error_x\":{\"color\":\"#2a3f5f\"},\"error_y\":{\"color\":\"#2a3f5f\"},\"marker\":{\"line\":{\"color\":\"#E5ECF6\",\"width\":0.5},\"pattern\":{\"fillmode\":\"overlay\",\"size\":10,\"solidity\":0.2}},\"type\":\"bar\"}],\"barpolar\":[{\"marker\":{\"line\":{\"color\":\"#E5ECF6\",\"width\":0.5},\"pattern\":{\"fillmode\":\"overlay\",\"size\":10,\"solidity\":0.2}},\"type\":\"barpolar\"}],\"carpet\":[{\"aaxis\":{\"endlinecolor\":\"#2a3f5f\",\"gridcolor\":\"white\",\"linecolor\":\"white\",\"minorgridcolor\":\"white\",\"startlinecolor\":\"#2a3f5f\"},\"baxis\":{\"endlinecolor\":\"#2a3f5f\",\"gridcolor\":\"white\",\"linecolor\":\"white\",\"minorgridcolor\":\"white\",\"startlinecolor\":\"#2a3f5f\"},\"type\":\"carpet\"}],\"choropleth\":[{\"colorbar\":{\"outlinewidth\":0,\"ticks\":\"\"},\"type\":\"choropleth\"}],\"contour\":[{\"colorbar\":{\"outlinewidth\":0,\"ticks\":\"\"},\"colorscale\":[[0.0,\"#0d0887\"],[0.1111111111111111,\"#46039f\"],[0.2222222222222222,\"#7201a8\"],[0.3333333333333333,\"#9c179e\"],[0.4444444444444444,\"#bd3786\"],[0.5555555555555556,\"#d8576b\"],[0.6666666666666666,\"#ed7953\"],[0.7777777777777778,\"#fb9f3a\"],[0.8888888888888888,\"#fdca26\"],[1.0,\"#f0f921\"]],\"type\":\"contour\"}],\"contourcarpet\":[{\"colorbar\":{\"outlinewidth\":0,\"ticks\":\"\"},\"type\":\"contourcarpet\"}],\"heatmap\":[{\"colorbar\":{\"outlinewidth\":0,\"ticks\":\"\"},\"colorscale\":[[0.0,\"#0d0887\"],[0.1111111111111111,\"#46039f\"],[0.2222222222222222,\"#7201a8\"],[0.3333333333333333,\"#9c179e\"],[0.4444444444444444,\"#bd3786\"],[0.5555555555555556,\"#d8576b\"],[0.6666666666666666,\"#ed7953\"],[0.7777777777777778,\"#fb9f3a\"],[0.8888888888888888,\"#fdca26\"],[1.0,\"#f0f921\"]],\"type\":\"heatmap\"}],\"heatmapgl\":[{\"colorbar\":{\"outlinewidth\":0,\"ticks\":\"\"},\"colorscale\":[[0.0,\"#0d0887\"],[0.1111111111111111,\"#46039f\"],[0.2222222222222222,\"#7201a8\"],[0.3333333333333333,\"#9c179e\"],[0.4444444444444444,\"#bd3786\"],[0.5555555555555556,\"#d8576b\"],[0.6666666666666666,\"#ed7953\"],[0.7777777777777778,\"#fb9f3a\"],[0.8888888888888888,\"#fdca26\"],[1.0,\"#f0f921\"]],\"type\":\"heatmapgl\"}],\"histogram\":[{\"marker\":{\"pattern\":{\"fillmode\":\"overlay\",\"size\":10,\"solidity\":0.2}},\"type\":\"histogram\"}],\"histogram2d\":[{\"colorbar\":{\"outlinewidth\":0,\"ticks\":\"\"},\"colorscale\":[[0.0,\"#0d0887\"],[0.1111111111111111,\"#46039f\"],[0.2222222222222222,\"#7201a8\"],[0.3333333333333333,\"#9c179e\"],[0.4444444444444444,\"#bd3786\"],[0.5555555555555556,\"#d8576b\"],[0.6666666666666666,\"#ed7953\"],[0.7777777777777778,\"#fb9f3a\"],[0.8888888888888888,\"#fdca26\"],[1.0,\"#f0f921\"]],\"type\":\"histogram2d\"}],\"histogram2dcontour\":[{\"colorbar\":{\"outlinewidth\":0,\"ticks\":\"\"},\"colorscale\":[[0.0,\"#0d0887\"],[0.1111111111111111,\"#46039f\"],[0.2222222222222222,\"#7201a8\"],[0.3333333333333333,\"#9c179e\"],[0.4444444444444444,\"#bd3786\"],[0.5555555555555556,\"#d8576b\"],[0.6666666666666666,\"#ed7953\"],[0.7777777777777778,\"#fb9f3a\"],[0.8888888888888888,\"#fdca26\"],[1.0,\"#f0f921\"]],\"type\":\"histogram2dcontour\"}],\"mesh3d\":[{\"colorbar\":{\"outlinewidth\":0,\"ticks\":\"\"},\"type\":\"mesh3d\"}],\"parcoords\":[{\"line\":{\"colorbar\":{\"outlinewidth\":0,\"ticks\":\"\"}},\"type\":\"parcoords\"}],\"pie\":[{\"automargin\":true,\"type\":\"pie\"}],\"scatter\":[{\"marker\":{\"colorbar\":{\"outlinewidth\":0,\"ticks\":\"\"}},\"type\":\"scatter\"}],\"scatter3d\":[{\"line\":{\"colorbar\":{\"outlinewidth\":0,\"ticks\":\"\"}},\"marker\":{\"colorbar\":{\"outlinewidth\":0,\"ticks\":\"\"}},\"type\":\"scatter3d\"}],\"scattercarpet\":[{\"marker\":{\"colorbar\":{\"outlinewidth\":0,\"ticks\":\"\"}},\"type\":\"scattercarpet\"}],\"scattergeo\":[{\"marker\":{\"colorbar\":{\"outlinewidth\":0,\"ticks\":\"\"}},\"type\":\"scattergeo\"}],\"scattergl\":[{\"marker\":{\"colorbar\":{\"outlinewidth\":0,\"ticks\":\"\"}},\"type\":\"scattergl\"}],\"scattermapbox\":[{\"marker\":{\"colorbar\":{\"outlinewidth\":0,\"ticks\":\"\"}},\"type\":\"scattermapbox\"}],\"scatterpolar\":[{\"marker\":{\"colorbar\":{\"outlinewidth\":0,\"ticks\":\"\"}},\"type\":\"scatterpolar\"}],\"scatterpolargl\":[{\"marker\":{\"colorbar\":{\"outlinewidth\":0,\"ticks\":\"\"}},\"type\":\"scatterpolargl\"}],\"scatterternary\":[{\"marker\":{\"colorbar\":{\"outlinewidth\":0,\"ticks\":\"\"}},\"type\":\"scatterternary\"}],\"surface\":[{\"colorbar\":{\"outlinewidth\":0,\"ticks\":\"\"},\"colorscale\":[[0.0,\"#0d0887\"],[0.1111111111111111,\"#46039f\"],[0.2222222222222222,\"#7201a8\"],[0.3333333333333333,\"#9c179e\"],[0.4444444444444444,\"#bd3786\"],[0.5555555555555556,\"#d8576b\"],[0.6666666666666666,\"#ed7953\"],[0.7777777777777778,\"#fb9f3a\"],[0.8888888888888888,\"#fdca26\"],[1.0,\"#f0f921\"]],\"type\":\"surface\"}],\"table\":[{\"cells\":{\"fill\":{\"color\":\"#EBF0F8\"},\"line\":{\"color\":\"white\"}},\"header\":{\"fill\":{\"color\":\"#C8D4E3\"},\"line\":{\"color\":\"white\"}},\"type\":\"table\"}]},\"layout\":{\"annotationdefaults\":{\"arrowcolor\":\"#2a3f5f\",\"arrowhead\":0,\"arrowwidth\":1},\"autotypenumbers\":\"strict\",\"coloraxis\":{\"colorbar\":{\"outlinewidth\":0,\"ticks\":\"\"}},\"colorscale\":{\"diverging\":[[0,\"#8e0152\"],[0.1,\"#c51b7d\"],[0.2,\"#de77ae\"],[0.3,\"#f1b6da\"],[0.4,\"#fde0ef\"],[0.5,\"#f7f7f7\"],[0.6,\"#e6f5d0\"],[0.7,\"#b8e186\"],[0.8,\"#7fbc41\"],[0.9,\"#4d9221\"],[1,\"#276419\"]],\"sequential\":[[0.0,\"#0d0887\"],[0.1111111111111111,\"#46039f\"],[0.2222222222222222,\"#7201a8\"],[0.3333333333333333,\"#9c179e\"],[0.4444444444444444,\"#bd3786\"],[0.5555555555555556,\"#d8576b\"],[0.6666666666666666,\"#ed7953\"],[0.7777777777777778,\"#fb9f3a\"],[0.8888888888888888,\"#fdca26\"],[1.0,\"#f0f921\"]],\"sequentialminus\":[[0.0,\"#0d0887\"],[0.1111111111111111,\"#46039f\"],[0.2222222222222222,\"#7201a8\"],[0.3333333333333333,\"#9c179e\"],[0.4444444444444444,\"#bd3786\"],[0.5555555555555556,\"#d8576b\"],[0.6666666666666666,\"#ed7953\"],[0.7777777777777778,\"#fb9f3a\"],[0.8888888888888888,\"#fdca26\"],[1.0,\"#f0f921\"]]},\"colorway\":[\"#636efa\",\"#EF553B\",\"#00cc96\",\"#ab63fa\",\"#FFA15A\",\"#19d3f3\",\"#FF6692\",\"#B6E880\",\"#FF97FF\",\"#FECB52\"],\"font\":{\"color\":\"#2a3f5f\"},\"geo\":{\"bgcolor\":\"white\",\"lakecolor\":\"white\",\"landcolor\":\"#E5ECF6\",\"showlakes\":true,\"showland\":true,\"subunitcolor\":\"white\"},\"hoverlabel\":{\"align\":\"left\"},\"hovermode\":\"closest\",\"mapbox\":{\"style\":\"light\"},\"paper_bgcolor\":\"white\",\"plot_bgcolor\":\"#E5ECF6\",\"polar\":{\"angularaxis\":{\"gridcolor\":\"white\",\"linecolor\":\"white\",\"ticks\":\"\"},\"bgcolor\":\"#E5ECF6\",\"radialaxis\":{\"gridcolor\":\"white\",\"linecolor\":\"white\",\"ticks\":\"\"}},\"scene\":{\"xaxis\":{\"backgroundcolor\":\"#E5ECF6\",\"gridcolor\":\"white\",\"gridwidth\":2,\"linecolor\":\"white\",\"showbackground\":true,\"ticks\":\"\",\"zerolinecolor\":\"white\"},\"yaxis\":{\"backgroundcolor\":\"#E5ECF6\",\"gridcolor\":\"white\",\"gridwidth\":2,\"linecolor\":\"white\",\"showbackground\":true,\"ticks\":\"\",\"zerolinecolor\":\"white\"},\"zaxis\":{\"backgroundcolor\":\"#E5ECF6\",\"gridcolor\":\"white\",\"gridwidth\":2,\"linecolor\":\"white\",\"showbackground\":true,\"ticks\":\"\",\"zerolinecolor\":\"white\"}},\"shapedefaults\":{\"line\":{\"color\":\"#2a3f5f\"}},\"ternary\":{\"aaxis\":{\"gridcolor\":\"white\",\"linecolor\":\"white\",\"ticks\":\"\"},\"baxis\":{\"gridcolor\":\"white\",\"linecolor\":\"white\",\"ticks\":\"\"},\"bgcolor\":\"#E5ECF6\",\"caxis\":{\"gridcolor\":\"white\",\"linecolor\":\"white\",\"ticks\":\"\"}},\"title\":{\"x\":0.05},\"xaxis\":{\"automargin\":true,\"gridcolor\":\"white\",\"linecolor\":\"white\",\"ticks\":\"\",\"title\":{\"standoff\":15},\"zerolinecolor\":\"white\",\"zerolinewidth\":2},\"yaxis\":{\"automargin\":true,\"gridcolor\":\"white\",\"linecolor\":\"white\",\"ticks\":\"\",\"title\":{\"standoff\":15},\"zerolinecolor\":\"white\",\"zerolinewidth\":2}}},\"xaxis\":{\"anchor\":\"y\",\"domain\":[0.0,1.0],\"scaleanchor\":\"y\",\"constrain\":\"domain\"},\"yaxis\":{\"anchor\":\"x\",\"domain\":[0.0,1.0],\"autorange\":\"reversed\",\"constrain\":\"domain\"},\"coloraxis\":{\"colorscale\":[[0.0,\"#0d0887\"],[0.1111111111111111,\"#46039f\"],[0.2222222222222222,\"#7201a8\"],[0.3333333333333333,\"#9c179e\"],[0.4444444444444444,\"#bd3786\"],[0.5555555555555556,\"#d8576b\"],[0.6666666666666666,\"#ed7953\"],[0.7777777777777778,\"#fb9f3a\"],[0.8888888888888888,\"#fdca26\"],[1.0,\"#f0f921\"]]},\"margin\":{\"t\":60}},                        {\"responsive\": true}                    ).then(function(){\n",
              "                            \n",
              "var gd = document.getElementById('e0aadc39-5307-4186-ac9f-fdf991dbee38');\n",
              "var x = new MutationObserver(function (mutations, observer) {{\n",
              "        var display = window.getComputedStyle(gd).display;\n",
              "        if (!display || display === 'none') {{\n",
              "            console.log([gd, 'removed!']);\n",
              "            Plotly.purge(gd);\n",
              "            observer.disconnect();\n",
              "        }}\n",
              "}});\n",
              "\n",
              "// Listen for the removal of the full notebook cells\n",
              "var notebookContainer = gd.closest('#notebook-container');\n",
              "if (notebookContainer) {{\n",
              "    x.observe(notebookContainer, {childList: true});\n",
              "}}\n",
              "\n",
              "// Listen for the clearing of the current output cell\n",
              "var outputEl = gd.closest('.output');\n",
              "if (outputEl) {{\n",
              "    x.observe(outputEl, {childList: true});\n",
              "}}\n",
              "\n",
              "                        })                };                            </script>        </div>\n",
              "</body>\n",
              "</html>"
            ]
          },
          "metadata": {}
        },
        {
          "output_type": "display_data",
          "data": {
            "text/plain": [
              "<Figure size 1440x1440 with 0 Axes>"
            ]
          },
          "metadata": {}
        }
      ]
    },
    {
      "cell_type": "markdown",
      "source": [
        "Plotting a Heatmap out of the data will show us the how strong corelation exist between the categories and the target variable."
      ],
      "metadata": {
        "id": "LWbQ51u0wGah"
      }
    },
    {
      "cell_type": "markdown",
      "source": [
        "# Data Cleaning and Data Preparation"
      ],
      "metadata": {
        "id": "-EPlIzkSuFf6"
      }
    },
    {
      "cell_type": "markdown",
      "source": [
        "Write down Outlier treatment and missing value treatment code"
      ],
      "metadata": {
        "id": "vNPVzNbb-R0J"
      }
    },
    {
      "cell_type": "markdown",
      "source": [
        "## **Data cleaning for 'amt'**"
      ],
      "metadata": {
        "id": "gu-ND4XAweMB"
      }
    },
    {
      "cell_type": "code",
      "source": [
        "boxplot=fraud_data.boxplot('amt')"
      ],
      "metadata": {
        "id": "0qUJKLisuP6C",
        "colab": {
          "base_uri": "https://localhost:8080/",
          "height": 265
        },
        "outputId": "eb43e778-f2a8-4b8a-977b-51912657e987"
      },
      "execution_count": null,
      "outputs": [
        {
          "output_type": "display_data",
          "data": {
            "text/plain": [
              "<Figure size 432x288 with 1 Axes>"
            ],
            "image/png": "[encoded data removed]"
          },
          "metadata": {
            "needs_background": "light"
          }
        }
      ]
    },
    {
      "cell_type": "markdown",
      "source": [
        "From the Box plot outlier were detected just seeeing the plot for it. To get a confirmation of this **quantile** was used in the next step."
      ],
      "metadata": {
        "id": "QCFZkDPBxGp4"
      }
    },
    {
      "cell_type": "code",
      "source": [
        "x_percentiles=fraud_data['amt'].quantile([0,0.05,0.1,0.25,0.5,0.75,0.8,0.9,0.93,0.96,0.99,1])\n",
        "round(x_percentiles,2)"
      ],
      "metadata": {
        "id": "j-B2cvuSuP9b",
        "colab": {
          "base_uri": "https://localhost:8080/"
        },
        "outputId": "32e0b868-b684-4dc9-b01d-134bf8287a1a"
      },
      "execution_count": null,
      "outputs": [
        {
          "output_type": "execute_result",
          "data": {
            "text/plain": [
              "0.00        1.00\n",
              "0.05        2.43\n",
              "0.10        4.08\n",
              "0.25        9.63\n",
              "0.50       47.29\n",
              "0.75       83.01\n",
              "0.80       94.40\n",
              "0.90      135.55\n",
              "0.93      162.74\n",
              "0.96      210.08\n",
              "0.99      519.86\n",
              "1.00    22768.11\n",
              "Name: amt, dtype: float64"
            ]
          },
          "metadata": {},
          "execution_count": 26
        }
      ]
    },
    {
      "cell_type": "code",
      "source": [
        "fraud_data.loc[fraud_data['amt']>520,'amt']=fraud_data['amt'].median()"
      ],
      "metadata": {
        "id": "K_Q109zeyuY-"
      },
      "execution_count": null,
      "outputs": []
    },
    {
      "cell_type": "code",
      "source": [
        "x_percentiles=fraud_data['amt'].quantile([0,0.05,0.1,0.25,0.5,0.75,0.8,0.9,0.93,0.96,0.99,1])\n",
        "round(x_percentiles,2)\n",
        "boxplot=fraud_data.boxplot('amt')"
      ],
      "metadata": {
        "colab": {
          "base_uri": "https://localhost:8080/",
          "height": 265
        },
        "id": "VX7Awyq5yunF",
        "outputId": "2eee1e1e-0b62-4fb1-9161-50e1b0dd91dd"
      },
      "execution_count": null,
      "outputs": [
        {
          "output_type": "display_data",
          "data": {
            "text/plain": [
              "<Figure size 432x288 with 1 Axes>"
            ],
            "image/png": "[encoded data removed]"
          },
          "metadata": {
            "needs_background": "light"
          }
        }
      ]
    },
    {
      "cell_type": "code",
      "source": [
        "#Let us copy the following data to a new data set for further analysis.\n",
        "fraud_data_new=fraud_data.copy(deep=True)\n",
        "fraud_data_new.head()"
      ],
      "metadata": {
        "colab": {
          "base_uri": "https://localhost:8080/",
          "height": 508
        },
        "id": "AHd-0pWKyup-",
        "outputId": "d0a584bd-ed21-4556-d181-a0d30a815f15"
      },
      "execution_count": null,
      "outputs": [
        {
          "output_type": "execute_result",
          "data": {
            "text/plain": [
              "        trans_details            cc_num                              merchant  \\\n",
              "0 2020-06-21 12:14:25  2291163933867244                 fraud_Kirlin and Sons   \n",
              "1 2020-06-21 12:14:33  3573030041201292                  fraud_Sporer-Keebler   \n",
              "2 2020-06-21 12:14:53  3598215285024754  fraud_Swaniawski, Nitzsche and Welch   \n",
              "3 2020-06-21 12:15:15  3591919803438423                     fraud_Haley Group   \n",
              "4 2020-06-21 12:15:17  3526826139003047                 fraud_Johnston-Casper   \n",
              "\n",
              "         category    amt   first      last gender  \\\n",
              "0   personal_care   2.86    Jeff   Elliott      M   \n",
              "1   personal_care  29.84  Joanne  Williams      F   \n",
              "2  health_fitness  41.28  Ashley     Lopez      F   \n",
              "3        misc_pos  60.05   Brian  Williams      M   \n",
              "4          travel   3.19  Nathan    Massey      M   \n",
              "\n",
              "                        street        city  ...      lat      long  city_pop  \\\n",
              "0            351 Darlene Green    Columbia  ...  33.9659  -80.9355    333497   \n",
              "1             3638 Marsh Union     Altonah  ...  40.3207 -110.4360       302   \n",
              "2         9333 Valentine Point    Bellmore  ...  40.6729  -73.5365     34496   \n",
              "3  32941 Krystal Mill Apt. 552  Titusville  ...  28.5697  -80.8191     54767   \n",
              "4     5783 Evan Roads Apt. 465    Falmouth  ...  44.2529  -85.0170      1126   \n",
              "\n",
              "                      job        dob                         trans_num  \\\n",
              "0     Mechanical engineer 1968-03-19  2da90c7d74bd46a0caf3777415b3ebd3   \n",
              "1  Sales professional, IT 1990-01-17  324cc204407e99f51b0d6ca0055005e7   \n",
              "2       Librarian, public 1970-10-21  c81755dbbbea9d5c77f094348a7579be   \n",
              "3            Set designer 1987-07-25  2159175b9efe66dc301f149d3d5abf8c   \n",
              "4      Furniture designer 1955-07-06  57ff021bd3f328f8738bb535c302a31b   \n",
              "\n",
              "    unix_time  merch_lat  merch_long  is_fraud  \n",
              "0  1371816865  33.986391  -81.200714         0  \n",
              "1  1371816873  39.450498 -109.960431         0  \n",
              "2  1371816893  40.495810  -74.196111         0  \n",
              "3  1371816915  28.812398  -80.883061         0  \n",
              "4  1371816917  44.959148  -85.884734         0  \n",
              "\n",
              "[5 rows x 22 columns]"
            ],
            "text/html": [
              "\n",
              "  <div id=\"df-53e27e16-ce50-4346-af27-30e2be1fb9f4\">\n",
              "    <div class=\"colab-df-container\">\n",
              "      <div>\n",
              "<style scoped>\n",
              "    .dataframe tbody tr th:only-of-type {\n",
              "        vertical-align: middle;\n",
              "    }\n",
              "\n",
              "    .dataframe tbody tr th {\n",
              "        vertical-align: top;\n",
              "    }\n",
              "\n",
              "    .dataframe thead th {\n",
              "        text-align: right;\n",
              "    }\n",
              "</style>\n",
              "<table border=\"1\" class=\"dataframe\">\n",
              "  <thead>\n",
              "    <tr style=\"text-align: right;\">\n",
              "      <th></th>\n",
              "      <th>trans_details</th>\n",
              "      <th>cc_num</th>\n",
              "      <th>merchant</th>\n",
              "      <th>category</th>\n",
              "      <th>amt</th>\n",
              "      <th>first</th>\n",
              "      <th>last</th>\n",
              "      <th>gender</th>\n",
              "      <th>street</th>\n",
              "      <th>city</th>\n",
              "      <th>...</th>\n",
              "      <th>lat</th>\n",
              "      <th>long</th>\n",
              "      <th>city_pop</th>\n",
              "      <th>job</th>\n",
              "      <th>dob</th>\n",
              "      <th>trans_num</th>\n",
              "      <th>unix_time</th>\n",
              "      <th>merch_lat</th>\n",
              "      <th>merch_long</th>\n",
              "      <th>is_fraud</th>\n",
              "    </tr>\n",
              "  </thead>\n",
              "  <tbody>\n",
              "    <tr>\n",
              "      <th>0</th>\n",
              "      <td>2020-06-21 12:14:25</td>\n",
              "      <td>2291163933867244</td>\n",
              "      <td>fraud_Kirlin and Sons</td>\n",
              "      <td>personal_care</td>\n",
              "      <td>2.86</td>\n",
              "      <td>Jeff</td>\n",
              "      <td>Elliott</td>\n",
              "      <td>M</td>\n",
              "      <td>351 Darlene Green</td>\n",
              "      <td>Columbia</td>\n",
              "      <td>...</td>\n",
              "      <td>33.9659</td>\n",
              "      <td>-80.9355</td>\n",
              "      <td>333497</td>\n",
              "      <td>Mechanical engineer</td>\n",
              "      <td>1968-03-19</td>\n",
              "      <td>2da90c7d74bd46a0caf3777415b3ebd3</td>\n",
              "      <td>1371816865</td>\n",
              "      <td>33.986391</td>\n",
              "      <td>-81.200714</td>\n",
              "      <td>0</td>\n",
              "    </tr>\n",
              "    <tr>\n",
              "      <th>1</th>\n",
              "      <td>2020-06-21 12:14:33</td>\n",
              "      <td>3573030041201292</td>\n",
              "      <td>fraud_Sporer-Keebler</td>\n",
              "      <td>personal_care</td>\n",
              "      <td>29.84</td>\n",
              "      <td>Joanne</td>\n",
              "      <td>Williams</td>\n",
              "      <td>F</td>\n",
              "      <td>3638 Marsh Union</td>\n",
              "      <td>Altonah</td>\n",
              "      <td>...</td>\n",
              "      <td>40.3207</td>\n",
              "      <td>-110.4360</td>\n",
              "      <td>302</td>\n",
              "      <td>Sales professional, IT</td>\n",
              "      <td>1990-01-17</td>\n",
              "      <td>324cc204407e99f51b0d6ca0055005e7</td>\n",
              "      <td>1371816873</td>\n",
              "      <td>39.450498</td>\n",
              "      <td>-109.960431</td>\n",
              "      <td>0</td>\n",
              "    </tr>\n",
              "    <tr>\n",
              "      <th>2</th>\n",
              "      <td>2020-06-21 12:14:53</td>\n",
              "      <td>3598215285024754</td>\n",
              "      <td>fraud_Swaniawski, Nitzsche and Welch</td>\n",
              "      <td>health_fitness</td>\n",
              "      <td>41.28</td>\n",
              "      <td>Ashley</td>\n",
              "      <td>Lopez</td>\n",
              "      <td>F</td>\n",
              "      <td>9333 Valentine Point</td>\n",
              "      <td>Bellmore</td>\n",
              "      <td>...</td>\n",
              "      <td>40.6729</td>\n",
              "      <td>-73.5365</td>\n",
              "      <td>34496</td>\n",
              "      <td>Librarian, public</td>\n",
              "      <td>1970-10-21</td>\n",
              "      <td>c81755dbbbea9d5c77f094348a7579be</td>\n",
              "      <td>1371816893</td>\n",
              "      <td>40.495810</td>\n",
              "      <td>-74.196111</td>\n",
              "      <td>0</td>\n",
              "    </tr>\n",
              "    <tr>\n",
              "      <th>3</th>\n",
              "      <td>2020-06-21 12:15:15</td>\n",
              "      <td>3591919803438423</td>\n",
              "      <td>fraud_Haley Group</td>\n",
              "      <td>misc_pos</td>\n",
              "      <td>60.05</td>\n",
              "      <td>Brian</td>\n",
              "      <td>Williams</td>\n",
              "      <td>M</td>\n",
              "      <td>32941 Krystal Mill Apt. 552</td>\n",
              "      <td>Titusville</td>\n",
              "      <td>...</td>\n",
              "      <td>28.5697</td>\n",
              "      <td>-80.8191</td>\n",
              "      <td>54767</td>\n",
              "      <td>Set designer</td>\n",
              "      <td>1987-07-25</td>\n",
              "      <td>2159175b9efe66dc301f149d3d5abf8c</td>\n",
              "      <td>1371816915</td>\n",
              "      <td>28.812398</td>\n",
              "      <td>-80.883061</td>\n",
              "      <td>0</td>\n",
              "    </tr>\n",
              "    <tr>\n",
              "      <th>4</th>\n",
              "      <td>2020-06-21 12:15:17</td>\n",
              "      <td>3526826139003047</td>\n",
              "      <td>fraud_Johnston-Casper</td>\n",
              "      <td>travel</td>\n",
              "      <td>3.19</td>\n",
              "      <td>Nathan</td>\n",
              "      <td>Massey</td>\n",
              "      <td>M</td>\n",
              "      <td>5783 Evan Roads Apt. 465</td>\n",
              "      <td>Falmouth</td>\n",
              "      <td>...</td>\n",
              "      <td>44.2529</td>\n",
              "      <td>-85.0170</td>\n",
              "      <td>1126</td>\n",
              "      <td>Furniture designer</td>\n",
              "      <td>1955-07-06</td>\n",
              "      <td>57ff021bd3f328f8738bb535c302a31b</td>\n",
              "      <td>1371816917</td>\n",
              "      <td>44.959148</td>\n",
              "      <td>-85.884734</td>\n",
              "      <td>0</td>\n",
              "    </tr>\n",
              "  </tbody>\n",
              "</table>\n",
              "<p>5 rows × 22 columns</p>\n",
              "</div>\n",
              "      <button class=\"colab-df-convert\" onclick=\"convertToInteractive('df-53e27e16-ce50-4346-af27-30e2be1fb9f4')\"\n",
              "              title=\"Convert this dataframe to an interactive table.\"\n",
              "              style=\"display:none;\">\n",
              "        \n",
              "  <svg xmlns=\"http://www.w3.org/2000/svg\" height=\"24px\"viewBox=\"0 0 24 24\"\n",
              "       width=\"24px\">\n",
              "    <path d=\"M0 0h24v24H0V0z\" fill=\"none\"/>\n",
              "    <path d=\"M18.56 5.44l.94 2.06.94-2.06 2.06-.94-2.06-.94-.94-2.06-.94 2.06-2.06.94zm-11 1L8.5 8.5l.94-2.06 2.06-.94-2.06-.94L8.5 2.5l-.94 2.06-2.06.94zm10 10l.94 2.06.94-2.06 2.06-.94-2.06-.94-.94-2.06-.94 2.06-2.06.94z\"/><path d=\"M17.41 7.96l-1.37-1.37c-.4-.4-.92-.59-1.43-.59-.52 0-1.04.2-1.43.59L10.3 9.45l-7.72 7.72c-.78.78-.78 2.05 0 2.83L4 21.41c.39.39.9.59 1.41.59.51 0 1.02-.2 1.41-.59l7.78-7.78 2.81-2.81c.8-.78.8-2.07 0-2.86zM5.41 20L4 18.59l7.72-7.72 1.47 1.35L5.41 20z\"/>\n",
              "  </svg>\n",
              "      </button>\n",
              "      \n",
              "  <style>\n",
              "    .colab-df-container {\n",
              "      display:flex;\n",
              "      flex-wrap:wrap;\n",
              "      gap: 12px;\n",
              "    }\n",
              "\n",
              "    .colab-df-convert {\n",
              "      background-color: #E8F0FE;\n",
              "      border: none;\n",
              "      border-radius: 50%;\n",
              "      cursor: pointer;\n",
              "      display: none;\n",
              "      fill: #1967D2;\n",
              "      height: 32px;\n",
              "      padding: 0 0 0 0;\n",
              "      width: 32px;\n",
              "    }\n",
              "\n",
              "    .colab-df-convert:hover {\n",
              "      background-color: #E2EBFA;\n",
              "      box-shadow: 0px 1px 2px rgba(60, 64, 67, 0.3), 0px 1px 3px 1px rgba(60, 64, 67, 0.15);\n",
              "      fill: #174EA6;\n",
              "    }\n",
              "\n",
              "    [theme=dark] .colab-df-convert {\n",
              "      background-color: #3B4455;\n",
              "      fill: #D2E3FC;\n",
              "    }\n",
              "\n",
              "    [theme=dark] .colab-df-convert:hover {\n",
              "      background-color: #434B5C;\n",
              "      box-shadow: 0px 1px 3px 1px rgba(0, 0, 0, 0.15);\n",
              "      filter: drop-shadow(0px 1px 2px rgba(0, 0, 0, 0.3));\n",
              "      fill: #FFFFFF;\n",
              "    }\n",
              "  </style>\n",
              "\n",
              "      <script>\n",
              "        const buttonEl =\n",
              "          document.querySelector('#df-53e27e16-ce50-4346-af27-30e2be1fb9f4 button.colab-df-convert');\n",
              "        buttonEl.style.display =\n",
              "          google.colab.kernel.accessAllowed ? 'block' : 'none';\n",
              "\n",
              "        async function convertToInteractive(key) {\n",
              "          const element = document.querySelector('#df-53e27e16-ce50-4346-af27-30e2be1fb9f4');\n",
              "          const dataTable =\n",
              "            await google.colab.kernel.invokeFunction('convertToInteractive',\n",
              "                                                     [key], {});\n",
              "          if (!dataTable) return;\n",
              "\n",
              "          const docLinkHtml = 'Like what you see? Visit the ' +\n",
              "            '<a target=\"_blank\" href=https://colab.research.google.com/notebooks/data_table.ipynb>data table notebook</a>'\n",
              "            + ' to learn more about interactive tables.';\n",
              "          element.innerHTML = '';\n",
              "          dataTable['output_type'] = 'display_data';\n",
              "          await google.colab.output.renderOutput(dataTable, element);\n",
              "          const docLink = document.createElement('div');\n",
              "          docLink.innerHTML = docLinkHtml;\n",
              "          element.appendChild(docLink);\n",
              "        }\n",
              "      </script>\n",
              "    </div>\n",
              "  </div>\n",
              "  "
            ]
          },
          "metadata": {},
          "execution_count": 29
        }
      ]
    },
    {
      "cell_type": "code",
      "source": [
        "fraud_data_new1=fraud_data_new.sample(frac=0.05)"
      ],
      "metadata": {
        "id": "gdF9Bl6ZDSdr"
      },
      "execution_count": null,
      "outputs": []
    },
    {
      "cell_type": "markdown",
      "source": [
        "In this step 5% of the whole data was selected to work upon.\n",
        "Note- This was done to avoid the Goggle Colab system fail."
      ],
      "metadata": {
        "id": "cDQclTSs4NuY"
      }
    },
    {
      "cell_type": "code",
      "source": [
        "#Checking the size of new dataset\n",
        "fraud_data_new1.shape"
      ],
      "metadata": {
        "colab": {
          "base_uri": "https://localhost:8080/"
        },
        "id": "AYfu2BupDS_p",
        "outputId": "726a84a1-41b2-4347-dde3-48711592fa2e"
      },
      "execution_count": null,
      "outputs": [
        {
          "output_type": "execute_result",
          "data": {
            "text/plain": [
              "(55572, 22)"
            ]
          },
          "metadata": {},
          "execution_count": 32
        }
      ]
    },
    {
      "cell_type": "code",
      "source": [
        "fraud_data_new1.info()"
      ],
      "metadata": {
        "id": "UF7a6wxaFYMW",
        "outputId": "7dc77829-ebca-40a0-9857-3a0fe78b3818",
        "colab": {
          "base_uri": "https://localhost:8080/"
        }
      },
      "execution_count": null,
      "outputs": [
        {
          "output_type": "stream",
          "name": "stdout",
          "text": [
            "<class 'pandas.core.frame.DataFrame'>\n",
            "Int64Index: 55572 entries, 216685 to 192733\n",
            "Data columns (total 22 columns):\n",
            " #   Column         Non-Null Count  Dtype         \n",
            "---  ------         --------------  -----         \n",
            " 0   trans_details  55572 non-null  datetime64[ns]\n",
            " 1   cc_num         55572 non-null  int64         \n",
            " 2   merchant       55572 non-null  object        \n",
            " 3   category       55572 non-null  object        \n",
            " 4   amt            55572 non-null  float64       \n",
            " 5   first          55572 non-null  object        \n",
            " 6   last           55572 non-null  object        \n",
            " 7   gender         55572 non-null  object        \n",
            " 8   street         55572 non-null  object        \n",
            " 9   city           55572 non-null  object        \n",
            " 10  state          55572 non-null  object        \n",
            " 11  zip            55572 non-null  int64         \n",
            " 12  lat            55572 non-null  float64       \n",
            " 13  long           55572 non-null  float64       \n",
            " 14  city_pop       55572 non-null  int64         \n",
            " 15  job            55572 non-null  object        \n",
            " 16  dob            55572 non-null  datetime64[ns]\n",
            " 17  trans_num      55572 non-null  object        \n",
            " 18  unix_time      55572 non-null  int64         \n",
            " 19  merch_lat      55572 non-null  float64       \n",
            " 20  merch_long     55572 non-null  float64       \n",
            " 21  is_fraud       55572 non-null  int64         \n",
            "dtypes: datetime64[ns](2), float64(5), int64(5), object(10)\n",
            "memory usage: 9.8+ MB\n"
          ]
        }
      ]
    },
    {
      "cell_type": "markdown",
      "source": [
        "# **Featured Engineering**"
      ],
      "metadata": {
        "id": "NwI9mS3s4tZ_"
      }
    },
    {
      "cell_type": "markdown",
      "source": [
        "In the start of featured engineering itself the customer Dob, transaction year, transaction week, transaction hour will be derived from the timestamp datatype which we have in our data set."
      ],
      "metadata": {
        "id": "WbXEEkFf4xCH"
      }
    },
    {
      "cell_type": "code",
      "source": [
        "# deriving additonal columns from 'trans_date_trans_time'\n",
        "#deriving hour\n",
        "fraud_data_new1['trans_hour'] = fraud_data_new1['trans_details'].dt.hour\n",
        "#deriving 'day of the week'\n",
        "fraud_data_new1['trans_day_of_week'] = fraud_data_new1['trans_details'].dt.day_name()\n",
        "#deriving 'year_month'\n",
        "fraud_data_new1['trans_year_month'] = fraud_data_new1['trans_details'].dt.to_period('M')"
      ],
      "metadata": {
        "id": "mNYmpJvFS8G9"
      },
      "execution_count": null,
      "outputs": []
    },
    {
      "cell_type": "code",
      "source": [
        "fraud_data_new1.shape"
      ],
      "metadata": {
        "colab": {
          "base_uri": "https://localhost:8080/"
        },
        "id": "KWCrI_f4rjzE",
        "outputId": "2998d5af-04a5-4c01-be3d-bb9913ca2cd5"
      },
      "execution_count": null,
      "outputs": [
        {
          "output_type": "execute_result",
          "data": {
            "text/plain": [
              "(55572, 25)"
            ]
          },
          "metadata": {},
          "execution_count": 35
        }
      ]
    },
    {
      "cell_type": "code",
      "source": [
        "#finding age\n",
        "fraud_data_new1['age'] = np.round((fraud_data_new1['trans_details'] - \n",
        "                      fraud_data_new1['dob'])/np.timedelta64(1, 'Y'))\n",
        "fraud_data_new1.age.head()"
      ],
      "metadata": {
        "colab": {
          "base_uri": "https://localhost:8080/"
        },
        "id": "8jl89GoKrj4G",
        "outputId": "9fa13c6b-bb13-49b1-c6b1-b8032adaf0e5"
      },
      "execution_count": null,
      "outputs": [
        {
          "output_type": "execute_result",
          "data": {
            "text/plain": [
              "216685    52.0\n",
              "297007    30.0\n",
              "200927    48.0\n",
              "534867    34.0\n",
              "332587    40.0\n",
              "Name: age, dtype: float64"
            ]
          },
          "metadata": {},
          "execution_count": 36
        }
      ]
    },
    {
      "cell_type": "code",
      "source": [
        "fraud_data_new1.head(10)"
      ],
      "metadata": {
        "colab": {
          "base_uri": "https://localhost:8080/",
          "height": 838
        },
        "id": "qjkydXKOrj6r",
        "outputId": "d3028165-3198-425c-859d-e6188e80a070"
      },
      "execution_count": null,
      "outputs": [
        {
          "output_type": "execute_result",
          "data": {
            "text/plain": [
              "             trans_details               cc_num  \\\n",
              "216685 2020-09-06 12:23:12     6573561108825071   \n",
              "297007 2020-10-11 14:10:32     4822367783500458   \n",
              "200927 2020-08-31 02:30:11      180094419304907   \n",
              "534867 2020-12-27 16:43:59  4653178848915023204   \n",
              "332587 2020-10-26 18:16:52  4469777115158234880   \n",
              "371394 2020-11-12 18:59:54         571365235126   \n",
              "234093 2020-09-13 21:15:48     4364010865167176   \n",
              "453564 2020-12-08 22:07:51     6538441737335434   \n",
              "396664 2020-11-23 20:47:17         581686439828   \n",
              "440848 2020-12-06 21:39:24     4428154703770710   \n",
              "\n",
              "                                 merchant        category     amt  \\\n",
              "216685               fraud_Crona and Sons       kids_pets   44.56   \n",
              "297007               fraud_Morissette LLC   entertainment   28.83   \n",
              "200927            fraud_Kuphal-Bartoletti        misc_net   24.06   \n",
              "534867    fraud_Parker, Nolan and Trantow   entertainment  226.04   \n",
              "332587              fraud_Quitzon-Goyette            home   16.99   \n",
              "371394                 fraud_Hudson-Grady    shopping_pos    1.60   \n",
              "234093  fraud_Jones, Sawayn and Romaguera        misc_net   26.78   \n",
              "453564                fraud_Auer-Mosciski     grocery_pos   36.96   \n",
              "396664                  fraud_Kulas Group  health_fitness   95.43   \n",
              "440848            fraud_Botsford and Sons            home   46.99   \n",
              "\n",
              "              first      last gender                        street  \\\n",
              "216685     Kristina     Lewis      F  5449 Brandi Heights Apt. 111   \n",
              "297007  Christopher   Farrell      M           97070 Anderson Land   \n",
              "200927       Sharon     Smith      F           17666 David Valleys   \n",
              "534867       Robert      Hall      M   371 Anthony Trail Suite 354   \n",
              "332587      Gregory    Graham      M               4005 Dana Glens   \n",
              "371394      Barbara    Taylor      F    0069 Robin Brooks Apt. 695   \n",
              "234093         Gary  Martinez      M           03512 Jackson Ports   \n",
              "453564         Gina    Grimes      F               444 Robert Mews   \n",
              "396664        Larry     House      M        911 Sabrina Trafficway   \n",
              "440848     Brittany    Guerra      F               79209 Gary Dale   \n",
              "\n",
              "                city  ...        dob                         trans_num  \\\n",
              "216685         Tulsa  ... 1968-06-18  9b14b44855366649cee5d3e8b85da5c3   \n",
              "297007   Haines City  ... 1991-01-01  2686541e959e56724924f3e329aaf197   \n",
              "200927      Sun City  ... 1972-09-22  7c6953644395bff8c85e14b5d32dfa26   \n",
              "534867  Glade Spring  ... 1987-04-29  d3656bf4d16dc27a5a3d64ae177aa836   \n",
              "332587       Methuen  ... 1980-11-22  561ad83bbcdd8c01e9d46126776ba60f   \n",
              "371394       Elberta  ... 1995-07-12  8490d86d0d279242efed77a48abeed59   \n",
              "234093          Reno  ... 1997-03-12  16503fef391f641d03414c81af5b4ad7   \n",
              "453564  Clarks Mills  ... 1997-09-22  59d904f6fb518963407d2ee50340fed8   \n",
              "396664    Cochranton  ... 1973-07-28  3fb9d7676f9b6ecf547625339f6742c3   \n",
              "440848        Colton  ... 1943-06-30  d08b45f6044a4eb5015f951beee9b9bb   \n",
              "\n",
              "         unix_time  merch_lat  merch_long is_fraud trans_hour  \\\n",
              "216685  1378470192  35.547943  -95.531015        0         12   \n",
              "297007  1381500632  28.735373  -81.220985        0         14   \n",
              "200927  1377916211  33.850349 -116.588643        0          2   \n",
              "534867  1388162639  37.253381  -81.538928        0         16   \n",
              "332587  1382811412  43.289276  -70.839745        0         18   \n",
              "371394  1384282794  44.352729  -85.981312        0         18   \n",
              "234093  1379106948  38.636481 -120.530124        0         21   \n",
              "453564  1386540471  41.540453  -79.658305        0         22   \n",
              "396664  1385239637  41.542013  -80.514905        0         20   \n",
              "440848  1386365964  46.580722 -117.191971        0         21   \n",
              "\n",
              "       trans_day_of_week  trans_year_month   age  \n",
              "216685            Sunday           2020-09  52.0  \n",
              "297007            Sunday           2020-10  30.0  \n",
              "200927            Monday           2020-08  48.0  \n",
              "534867            Sunday           2020-12  34.0  \n",
              "332587            Monday           2020-10  40.0  \n",
              "371394          Thursday           2020-11  25.0  \n",
              "234093            Sunday           2020-09  24.0  \n",
              "453564           Tuesday           2020-12  23.0  \n",
              "396664            Monday           2020-11  47.0  \n",
              "440848            Sunday           2020-12  77.0  \n",
              "\n",
              "[10 rows x 26 columns]"
            ],
            "text/html": [
              "\n",
              "  <div id=\"df-ddeb8ec7-d8fc-4e3f-9f48-dd007b60f0a2\">\n",
              "    <div class=\"colab-df-container\">\n",
              "      <div>\n",
              "<style scoped>\n",
              "    .dataframe tbody tr th:only-of-type {\n",
              "        vertical-align: middle;\n",
              "    }\n",
              "\n",
              "    .dataframe tbody tr th {\n",
              "        vertical-align: top;\n",
              "    }\n",
              "\n",
              "    .dataframe thead th {\n",
              "        text-align: right;\n",
              "    }\n",
              "</style>\n",
              "<table border=\"1\" class=\"dataframe\">\n",
              "  <thead>\n",
              "    <tr style=\"text-align: right;\">\n",
              "      <th></th>\n",
              "      <th>trans_details</th>\n",
              "      <th>cc_num</th>\n",
              "      <th>merchant</th>\n",
              "      <th>category</th>\n",
              "      <th>amt</th>\n",
              "      <th>first</th>\n",
              "      <th>last</th>\n",
              "      <th>gender</th>\n",
              "      <th>street</th>\n",
              "      <th>city</th>\n",
              "      <th>...</th>\n",
              "      <th>dob</th>\n",
              "      <th>trans_num</th>\n",
              "      <th>unix_time</th>\n",
              "      <th>merch_lat</th>\n",
              "      <th>merch_long</th>\n",
              "      <th>is_fraud</th>\n",
              "      <th>trans_hour</th>\n",
              "      <th>trans_day_of_week</th>\n",
              "      <th>trans_year_month</th>\n",
              "      <th>age</th>\n",
              "    </tr>\n",
              "  </thead>\n",
              "  <tbody>\n",
              "    <tr>\n",
              "      <th>216685</th>\n",
              "      <td>2020-09-06 12:23:12</td>\n",
              "      <td>6573561108825071</td>\n",
              "      <td>fraud_Crona and Sons</td>\n",
              "      <td>kids_pets</td>\n",
              "      <td>44.56</td>\n",
              "      <td>Kristina</td>\n",
              "      <td>Lewis</td>\n",
              "      <td>F</td>\n",
              "      <td>5449 Brandi Heights Apt. 111</td>\n",
              "      <td>Tulsa</td>\n",
              "      <td>...</td>\n",
              "      <td>1968-06-18</td>\n",
              "      <td>9b14b44855366649cee5d3e8b85da5c3</td>\n",
              "      <td>1378470192</td>\n",
              "      <td>35.547943</td>\n",
              "      <td>-95.531015</td>\n",
              "      <td>0</td>\n",
              "      <td>12</td>\n",
              "      <td>Sunday</td>\n",
              "      <td>2020-09</td>\n",
              "      <td>52.0</td>\n",
              "    </tr>\n",
              "    <tr>\n",
              "      <th>297007</th>\n",
              "      <td>2020-10-11 14:10:32</td>\n",
              "      <td>4822367783500458</td>\n",
              "      <td>fraud_Morissette LLC</td>\n",
              "      <td>entertainment</td>\n",
              "      <td>28.83</td>\n",
              "      <td>Christopher</td>\n",
              "      <td>Farrell</td>\n",
              "      <td>M</td>\n",
              "      <td>97070 Anderson Land</td>\n",
              "      <td>Haines City</td>\n",
              "      <td>...</td>\n",
              "      <td>1991-01-01</td>\n",
              "      <td>2686541e959e56724924f3e329aaf197</td>\n",
              "      <td>1381500632</td>\n",
              "      <td>28.735373</td>\n",
              "      <td>-81.220985</td>\n",
              "      <td>0</td>\n",
              "      <td>14</td>\n",
              "      <td>Sunday</td>\n",
              "      <td>2020-10</td>\n",
              "      <td>30.0</td>\n",
              "    </tr>\n",
              "    <tr>\n",
              "      <th>200927</th>\n",
              "      <td>2020-08-31 02:30:11</td>\n",
              "      <td>180094419304907</td>\n",
              "      <td>fraud_Kuphal-Bartoletti</td>\n",
              "      <td>misc_net</td>\n",
              "      <td>24.06</td>\n",
              "      <td>Sharon</td>\n",
              "      <td>Smith</td>\n",
              "      <td>F</td>\n",
              "      <td>17666 David Valleys</td>\n",
              "      <td>Sun City</td>\n",
              "      <td>...</td>\n",
              "      <td>1972-09-22</td>\n",
              "      <td>7c6953644395bff8c85e14b5d32dfa26</td>\n",
              "      <td>1377916211</td>\n",
              "      <td>33.850349</td>\n",
              "      <td>-116.588643</td>\n",
              "      <td>0</td>\n",
              "      <td>2</td>\n",
              "      <td>Monday</td>\n",
              "      <td>2020-08</td>\n",
              "      <td>48.0</td>\n",
              "    </tr>\n",
              "    <tr>\n",
              "      <th>534867</th>\n",
              "      <td>2020-12-27 16:43:59</td>\n",
              "      <td>4653178848915023204</td>\n",
              "      <td>fraud_Parker, Nolan and Trantow</td>\n",
              "      <td>entertainment</td>\n",
              "      <td>226.04</td>\n",
              "      <td>Robert</td>\n",
              "      <td>Hall</td>\n",
              "      <td>M</td>\n",
              "      <td>371 Anthony Trail Suite 354</td>\n",
              "      <td>Glade Spring</td>\n",
              "      <td>...</td>\n",
              "      <td>1987-04-29</td>\n",
              "      <td>d3656bf4d16dc27a5a3d64ae177aa836</td>\n",
              "      <td>1388162639</td>\n",
              "      <td>37.253381</td>\n",
              "      <td>-81.538928</td>\n",
              "      <td>0</td>\n",
              "      <td>16</td>\n",
              "      <td>Sunday</td>\n",
              "      <td>2020-12</td>\n",
              "      <td>34.0</td>\n",
              "    </tr>\n",
              "    <tr>\n",
              "      <th>332587</th>\n",
              "      <td>2020-10-26 18:16:52</td>\n",
              "      <td>4469777115158234880</td>\n",
              "      <td>fraud_Quitzon-Goyette</td>\n",
              "      <td>home</td>\n",
              "      <td>16.99</td>\n",
              "      <td>Gregory</td>\n",
              "      <td>Graham</td>\n",
              "      <td>M</td>\n",
              "      <td>4005 Dana Glens</td>\n",
              "      <td>Methuen</td>\n",
              "      <td>...</td>\n",
              "      <td>1980-11-22</td>\n",
              "      <td>561ad83bbcdd8c01e9d46126776ba60f</td>\n",
              "      <td>1382811412</td>\n",
              "      <td>43.289276</td>\n",
              "      <td>-70.839745</td>\n",
              "      <td>0</td>\n",
              "      <td>18</td>\n",
              "      <td>Monday</td>\n",
              "      <td>2020-10</td>\n",
              "      <td>40.0</td>\n",
              "    </tr>\n",
              "    <tr>\n",
              "      <th>371394</th>\n",
              "      <td>2020-11-12 18:59:54</td>\n",
              "      <td>571365235126</td>\n",
              "      <td>fraud_Hudson-Grady</td>\n",
              "      <td>shopping_pos</td>\n",
              "      <td>1.60</td>\n",
              "      <td>Barbara</td>\n",
              "      <td>Taylor</td>\n",
              "      <td>F</td>\n",
              "      <td>0069 Robin Brooks Apt. 695</td>\n",
              "      <td>Elberta</td>\n",
              "      <td>...</td>\n",
              "      <td>1995-07-12</td>\n",
              "      <td>8490d86d0d279242efed77a48abeed59</td>\n",
              "      <td>1384282794</td>\n",
              "      <td>44.352729</td>\n",
              "      <td>-85.981312</td>\n",
              "      <td>0</td>\n",
              "      <td>18</td>\n",
              "      <td>Thursday</td>\n",
              "      <td>2020-11</td>\n",
              "      <td>25.0</td>\n",
              "    </tr>\n",
              "    <tr>\n",
              "      <th>234093</th>\n",
              "      <td>2020-09-13 21:15:48</td>\n",
              "      <td>4364010865167176</td>\n",
              "      <td>fraud_Jones, Sawayn and Romaguera</td>\n",
              "      <td>misc_net</td>\n",
              "      <td>26.78</td>\n",
              "      <td>Gary</td>\n",
              "      <td>Martinez</td>\n",
              "      <td>M</td>\n",
              "      <td>03512 Jackson Ports</td>\n",
              "      <td>Reno</td>\n",
              "      <td>...</td>\n",
              "      <td>1997-03-12</td>\n",
              "      <td>16503fef391f641d03414c81af5b4ad7</td>\n",
              "      <td>1379106948</td>\n",
              "      <td>38.636481</td>\n",
              "      <td>-120.530124</td>\n",
              "      <td>0</td>\n",
              "      <td>21</td>\n",
              "      <td>Sunday</td>\n",
              "      <td>2020-09</td>\n",
              "      <td>24.0</td>\n",
              "    </tr>\n",
              "    <tr>\n",
              "      <th>453564</th>\n",
              "      <td>2020-12-08 22:07:51</td>\n",
              "      <td>6538441737335434</td>\n",
              "      <td>fraud_Auer-Mosciski</td>\n",
              "      <td>grocery_pos</td>\n",
              "      <td>36.96</td>\n",
              "      <td>Gina</td>\n",
              "      <td>Grimes</td>\n",
              "      <td>F</td>\n",
              "      <td>444 Robert Mews</td>\n",
              "      <td>Clarks Mills</td>\n",
              "      <td>...</td>\n",
              "      <td>1997-09-22</td>\n",
              "      <td>59d904f6fb518963407d2ee50340fed8</td>\n",
              "      <td>1386540471</td>\n",
              "      <td>41.540453</td>\n",
              "      <td>-79.658305</td>\n",
              "      <td>0</td>\n",
              "      <td>22</td>\n",
              "      <td>Tuesday</td>\n",
              "      <td>2020-12</td>\n",
              "      <td>23.0</td>\n",
              "    </tr>\n",
              "    <tr>\n",
              "      <th>396664</th>\n",
              "      <td>2020-11-23 20:47:17</td>\n",
              "      <td>581686439828</td>\n",
              "      <td>fraud_Kulas Group</td>\n",
              "      <td>health_fitness</td>\n",
              "      <td>95.43</td>\n",
              "      <td>Larry</td>\n",
              "      <td>House</td>\n",
              "      <td>M</td>\n",
              "      <td>911 Sabrina Trafficway</td>\n",
              "      <td>Cochranton</td>\n",
              "      <td>...</td>\n",
              "      <td>1973-07-28</td>\n",
              "      <td>3fb9d7676f9b6ecf547625339f6742c3</td>\n",
              "      <td>1385239637</td>\n",
              "      <td>41.542013</td>\n",
              "      <td>-80.514905</td>\n",
              "      <td>0</td>\n",
              "      <td>20</td>\n",
              "      <td>Monday</td>\n",
              "      <td>2020-11</td>\n",
              "      <td>47.0</td>\n",
              "    </tr>\n",
              "    <tr>\n",
              "      <th>440848</th>\n",
              "      <td>2020-12-06 21:39:24</td>\n",
              "      <td>4428154703770710</td>\n",
              "      <td>fraud_Botsford and Sons</td>\n",
              "      <td>home</td>\n",
              "      <td>46.99</td>\n",
              "      <td>Brittany</td>\n",
              "      <td>Guerra</td>\n",
              "      <td>F</td>\n",
              "      <td>79209 Gary Dale</td>\n",
              "      <td>Colton</td>\n",
              "      <td>...</td>\n",
              "      <td>1943-06-30</td>\n",
              "      <td>d08b45f6044a4eb5015f951beee9b9bb</td>\n",
              "      <td>1386365964</td>\n",
              "      <td>46.580722</td>\n",
              "      <td>-117.191971</td>\n",
              "      <td>0</td>\n",
              "      <td>21</td>\n",
              "      <td>Sunday</td>\n",
              "      <td>2020-12</td>\n",
              "      <td>77.0</td>\n",
              "    </tr>\n",
              "  </tbody>\n",
              "</table>\n",
              "<p>10 rows × 26 columns</p>\n",
              "</div>\n",
              "      <button class=\"colab-df-convert\" onclick=\"convertToInteractive('df-ddeb8ec7-d8fc-4e3f-9f48-dd007b60f0a2')\"\n",
              "              title=\"Convert this dataframe to an interactive table.\"\n",
              "              style=\"display:none;\">\n",
              "        \n",
              "  <svg xmlns=\"http://www.w3.org/2000/svg\" height=\"24px\"viewBox=\"0 0 24 24\"\n",
              "       width=\"24px\">\n",
              "    <path d=\"M0 0h24v24H0V0z\" fill=\"none\"/>\n",
              "    <path d=\"M18.56 5.44l.94 2.06.94-2.06 2.06-.94-2.06-.94-.94-2.06-.94 2.06-2.06.94zm-11 1L8.5 8.5l.94-2.06 2.06-.94-2.06-.94L8.5 2.5l-.94 2.06-2.06.94zm10 10l.94 2.06.94-2.06 2.06-.94-2.06-.94-.94-2.06-.94 2.06-2.06.94z\"/><path d=\"M17.41 7.96l-1.37-1.37c-.4-.4-.92-.59-1.43-.59-.52 0-1.04.2-1.43.59L10.3 9.45l-7.72 7.72c-.78.78-.78 2.05 0 2.83L4 21.41c.39.39.9.59 1.41.59.51 0 1.02-.2 1.41-.59l7.78-7.78 2.81-2.81c.8-.78.8-2.07 0-2.86zM5.41 20L4 18.59l7.72-7.72 1.47 1.35L5.41 20z\"/>\n",
              "  </svg>\n",
              "      </button>\n",
              "      \n",
              "  <style>\n",
              "    .colab-df-container {\n",
              "      display:flex;\n",
              "      flex-wrap:wrap;\n",
              "      gap: 12px;\n",
              "    }\n",
              "\n",
              "    .colab-df-convert {\n",
              "      background-color: #E8F0FE;\n",
              "      border: none;\n",
              "      border-radius: 50%;\n",
              "      cursor: pointer;\n",
              "      display: none;\n",
              "      fill: #1967D2;\n",
              "      height: 32px;\n",
              "      padding: 0 0 0 0;\n",
              "      width: 32px;\n",
              "    }\n",
              "\n",
              "    .colab-df-convert:hover {\n",
              "      background-color: #E2EBFA;\n",
              "      box-shadow: 0px 1px 2px rgba(60, 64, 67, 0.3), 0px 1px 3px 1px rgba(60, 64, 67, 0.15);\n",
              "      fill: #174EA6;\n",
              "    }\n",
              "\n",
              "    [theme=dark] .colab-df-convert {\n",
              "      background-color: #3B4455;\n",
              "      fill: #D2E3FC;\n",
              "    }\n",
              "\n",
              "    [theme=dark] .colab-df-convert:hover {\n",
              "      background-color: #434B5C;\n",
              "      box-shadow: 0px 1px 3px 1px rgba(0, 0, 0, 0.15);\n",
              "      filter: drop-shadow(0px 1px 2px rgba(0, 0, 0, 0.3));\n",
              "      fill: #FFFFFF;\n",
              "    }\n",
              "  </style>\n",
              "\n",
              "      <script>\n",
              "        const buttonEl =\n",
              "          document.querySelector('#df-ddeb8ec7-d8fc-4e3f-9f48-dd007b60f0a2 button.colab-df-convert');\n",
              "        buttonEl.style.display =\n",
              "          google.colab.kernel.accessAllowed ? 'block' : 'none';\n",
              "\n",
              "        async function convertToInteractive(key) {\n",
              "          const element = document.querySelector('#df-ddeb8ec7-d8fc-4e3f-9f48-dd007b60f0a2');\n",
              "          const dataTable =\n",
              "            await google.colab.kernel.invokeFunction('convertToInteractive',\n",
              "                                                     [key], {});\n",
              "          if (!dataTable) return;\n",
              "\n",
              "          const docLinkHtml = 'Like what you see? Visit the ' +\n",
              "            '<a target=\"_blank\" href=https://colab.research.google.com/notebooks/data_table.ipynb>data table notebook</a>'\n",
              "            + ' to learn more about interactive tables.';\n",
              "          element.innerHTML = '';\n",
              "          dataTable['output_type'] = 'display_data';\n",
              "          await google.colab.output.renderOutput(dataTable, element);\n",
              "          const docLink = document.createElement('div');\n",
              "          docLink.innerHTML = docLinkHtml;\n",
              "          element.appendChild(docLink);\n",
              "        }\n",
              "      </script>\n",
              "    </div>\n",
              "  </div>\n",
              "  "
            ]
          },
          "metadata": {},
          "execution_count": 37
        }
      ]
    },
    {
      "cell_type": "code",
      "source": [
        "print(fraud_data_new1.dtypes)\n",
        "print(fraud_data_new1.shape)"
      ],
      "metadata": {
        "colab": {
          "base_uri": "https://localhost:8080/"
        },
        "id": "32imPuV4rj9R",
        "outputId": "3214b8e3-5c87-4570-d28c-11db1335921d"
      },
      "execution_count": null,
      "outputs": [
        {
          "output_type": "stream",
          "name": "stdout",
          "text": [
            "trans_details        datetime64[ns]\n",
            "cc_num                        int64\n",
            "merchant                     object\n",
            "category                     object\n",
            "amt                         float64\n",
            "first                        object\n",
            "last                         object\n",
            "gender                       object\n",
            "street                       object\n",
            "city                         object\n",
            "state                        object\n",
            "zip                           int64\n",
            "lat                         float64\n",
            "long                        float64\n",
            "city_pop                      int64\n",
            "job                          object\n",
            "dob                  datetime64[ns]\n",
            "trans_num                    object\n",
            "unix_time                     int64\n",
            "merch_lat                   float64\n",
            "merch_long                  float64\n",
            "is_fraud                      int64\n",
            "trans_hour                    int64\n",
            "trans_day_of_week            object\n",
            "trans_year_month          period[M]\n",
            "age                         float64\n",
            "dtype: object\n",
            "(55572, 26)\n"
          ]
        }
      ]
    },
    {
      "cell_type": "markdown",
      "source": [
        "Since some of the features such as the customer Name, Credit Card number and Transaction number are not that important it can be dropped before the model bulinding is done.\n"
      ],
      "metadata": {
        "id": "iOPqteb2zwoy"
      }
    },
    {
      "cell_type": "code",
      "source": [
        "fraud_data_new1.drop([ 'cc_num','first','last', 'trans_num'], axis=1, inplace=True)\n",
        "print(fraud_data_new1.shape)\n",
        "fraud_data_new1.columns"
      ],
      "metadata": {
        "colab": {
          "base_uri": "https://localhost:8080/"
        },
        "id": "-MfGa-ofrkIw",
        "outputId": "5d5bc82f-431c-40a1-af13-5c0fb731d90c"
      },
      "execution_count": null,
      "outputs": [
        {
          "output_type": "stream",
          "name": "stdout",
          "text": [
            "(55572, 22)\n"
          ]
        },
        {
          "output_type": "execute_result",
          "data": {
            "text/plain": [
              "Index(['trans_details', 'merchant', 'category', 'amt', 'gender', 'street',\n",
              "       'city', 'state', 'zip', 'lat', 'long', 'city_pop', 'job', 'dob',\n",
              "       'unix_time', 'merch_lat', 'merch_long', 'is_fraud', 'trans_hour',\n",
              "       'trans_day_of_week', 'trans_year_month', 'age'],\n",
              "      dtype='object')"
            ]
          },
          "metadata": {},
          "execution_count": 39
        }
      ]
    },
    {
      "cell_type": "code",
      "source": [
        "print(fraud_data_new1.shape)\n",
        "print(fraud_data_new1.dtypes)"
      ],
      "metadata": {
        "id": "2xIotfxUS8RC",
        "colab": {
          "base_uri": "https://localhost:8080/"
        },
        "outputId": "dec62be1-8fce-4a93-f914-01b50029de49"
      },
      "execution_count": null,
      "outputs": [
        {
          "output_type": "stream",
          "name": "stdout",
          "text": [
            "(55572, 22)\n",
            "trans_details        datetime64[ns]\n",
            "merchant                     object\n",
            "category                     object\n",
            "amt                         float64\n",
            "gender                       object\n",
            "street                       object\n",
            "city                         object\n",
            "state                        object\n",
            "zip                           int64\n",
            "lat                         float64\n",
            "long                        float64\n",
            "city_pop                      int64\n",
            "job                          object\n",
            "dob                  datetime64[ns]\n",
            "unix_time                     int64\n",
            "merch_lat                   float64\n",
            "merch_long                  float64\n",
            "is_fraud                      int64\n",
            "trans_hour                    int64\n",
            "trans_day_of_week            object\n",
            "trans_year_month          period[M]\n",
            "age                         float64\n",
            "dtype: object\n"
          ]
        }
      ]
    },
    {
      "cell_type": "markdown",
      "source": [
        "Before performing OHE of discreate data types let us take a look at the number of unique values on each column just to get idea on the complexity of the featured engineering process."
      ],
      "metadata": {
        "id": "BTRohyi-1o9V"
      }
    },
    {
      "cell_type": "code",
      "source": [
        "print(fraud_data_new1.state.nunique())\n",
        "print(fraud_data_new1.street.nunique())\n",
        "print(fraud_data_new1.city.nunique())\n",
        "print(fraud_data_new1.job.nunique())\n",
        "print(fraud_data_new1.merchant.nunique())\n",
        "print(fraud_data_new1.category.nunique())"
      ],
      "metadata": {
        "colab": {
          "base_uri": "https://localhost:8080/"
        },
        "id": "R_j3e-WE1nL7",
        "outputId": "5fe13236-785c-481c-f089-56d39d94c06c"
      },
      "execution_count": null,
      "outputs": [
        {
          "output_type": "stream",
          "name": "stdout",
          "text": [
            "50\n",
            "917\n",
            "844\n",
            "477\n",
            "693\n",
            "14\n"
          ]
        }
      ]
    },
    {
      "cell_type": "markdown",
      "source": [
        "From the above count of the unique values it can be seen that there are lot of unique values in the above 5 columns. So this should be dropped in order to keep our model simple. Else One Hot encoding these categorical variable would form a lot of bins. Also after dropping we will be having more than 15 columns for our model building."
      ],
      "metadata": {
        "id": "uaiHPFYH3XxG"
      }
    },
    {
      "cell_type": "code",
      "source": [
        "fraud_data_new1.drop(['merchant','street','city','state','job'],axis=1, inplace=True)\n",
        "          \n",
        "          "
      ],
      "metadata": {
        "id": "7usbPxch1ovQ"
      },
      "execution_count": null,
      "outputs": []
    },
    {
      "cell_type": "code",
      "source": [
        "fraud_data_new1.shape"
      ],
      "metadata": {
        "colab": {
          "base_uri": "https://localhost:8080/"
        },
        "id": "m7psntwC1clU",
        "outputId": "3fa3381c-8e3a-433d-c155-e186fb0aef2e"
      },
      "execution_count": null,
      "outputs": [
        {
          "output_type": "execute_result",
          "data": {
            "text/plain": [
              "(55572, 17)"
            ]
          },
          "metadata": {},
          "execution_count": 44
        }
      ]
    },
    {
      "cell_type": "code",
      "source": [
        "print(fraud_data_new1.dtypes)"
      ],
      "metadata": {
        "colab": {
          "base_uri": "https://localhost:8080/"
        },
        "id": "KXF91Mx5B-Re",
        "outputId": "357be496-9273-4aa7-f0f0-beea8dd08149"
      },
      "execution_count": null,
      "outputs": [
        {
          "output_type": "stream",
          "name": "stdout",
          "text": [
            "trans_details        datetime64[ns]\n",
            "category                     object\n",
            "amt                         float64\n",
            "gender                       object\n",
            "zip                           int64\n",
            "lat                         float64\n",
            "long                        float64\n",
            "city_pop                      int64\n",
            "dob                  datetime64[ns]\n",
            "unix_time                     int64\n",
            "merch_lat                   float64\n",
            "merch_long                  float64\n",
            "is_fraud                      int64\n",
            "trans_hour                    int64\n",
            "trans_day_of_week            object\n",
            "trans_year_month          period[M]\n",
            "age                         float64\n",
            "dtype: object\n"
          ]
        }
      ]
    },
    {
      "cell_type": "markdown",
      "source": [
        "## **One-Hot Encoding of categorical variables**"
      ],
      "metadata": {
        "id": "qXFy-fXiA1CH"
      }
    },
    {
      "cell_type": "code",
      "source": [
        "#one-hot encoding the category variable\n",
        "category_onehot = pd.get_dummies(fraud_data_new1.category, prefix='category', drop_first=True)\n",
        "#one-hot encoding the gender variable\n",
        "gender_onehot = pd.get_dummies(fraud_data_new1.gender, prefix='gender', drop_first=True)\n",
        "#one-hot encoding the day_of_week variable\n",
        "day_of_week_onehot = pd.get_dummies(fraud_data_new1.trans_day_of_week, prefix='day', drop_first=True)\n"
      ],
      "metadata": {
        "id": "3oyNNeD0Azp8"
      },
      "execution_count": null,
      "outputs": []
    },
    {
      "cell_type": "code",
      "source": [
        "fraud_ohe = pd.concat([fraud_data_new1, category_onehot,gender_onehot,day_of_week_onehot], axis=1)\n",
        "fraud_ohe.head()"
      ],
      "metadata": {
        "colab": {
          "base_uri": "https://localhost:8080/",
          "height": 386
        },
        "id": "-l2S6VtxAzsg",
        "outputId": "f31745ed-5364-4c56-c59f-7c3859ab57a8"
      },
      "execution_count": null,
      "outputs": [
        {
          "output_type": "execute_result",
          "data": {
            "text/plain": [
              "             trans_details       category     amt gender    zip      lat  \\\n",
              "216685 2020-09-06 12:23:12      kids_pets   44.56      F  74130  36.2395   \n",
              "297007 2020-10-11 14:10:32  entertainment   28.83      M  33844  28.0758   \n",
              "200927 2020-08-31 02:30:11       misc_net   24.06      F  92585  33.7467   \n",
              "534867 2020-12-27 16:43:59  entertainment  226.04      M  24340  36.7779   \n",
              "332587 2020-10-26 18:16:52           home   16.99      M   1844  42.7280   \n",
              "\n",
              "            long  city_pop        dob   unix_time  ...  category_shopping_net  \\\n",
              "216685  -95.9596    413574 1968-06-18  1378470192  ...                      0   \n",
              "297007  -81.5929     33804 1991-01-01  1381500632  ...                      0   \n",
              "200927 -117.1721     54287 1972-09-22  1377916211  ...                      0   \n",
              "534867  -81.7676      5657 1987-04-29  1388162639  ...                      0   \n",
              "332587  -71.1810     47249 1980-11-22  1382811412  ...                      0   \n",
              "\n",
              "        category_shopping_pos  category_travel  gender_M day_Monday  \\\n",
              "216685                      0                0         0          0   \n",
              "297007                      0                0         1          0   \n",
              "200927                      0                0         0          1   \n",
              "534867                      0                0         1          0   \n",
              "332587                      0                0         1          1   \n",
              "\n",
              "       day_Saturday  day_Sunday  day_Thursday  day_Tuesday  day_Wednesday  \n",
              "216685            0           1             0            0              0  \n",
              "297007            0           1             0            0              0  \n",
              "200927            0           0             0            0              0  \n",
              "534867            0           1             0            0              0  \n",
              "332587            0           0             0            0              0  \n",
              "\n",
              "[5 rows x 37 columns]"
            ],
            "text/html": [
              "\n",
              "  <div id=\"df-dbb12ef3-ccaf-4d8d-8963-4384a4e7bac8\">\n",
              "    <div class=\"colab-df-container\">\n",
              "      <div>\n",
              "<style scoped>\n",
              "    .dataframe tbody tr th:only-of-type {\n",
              "        vertical-align: middle;\n",
              "    }\n",
              "\n",
              "    .dataframe tbody tr th {\n",
              "        vertical-align: top;\n",
              "    }\n",
              "\n",
              "    .dataframe thead th {\n",
              "        text-align: right;\n",
              "    }\n",
              "</style>\n",
              "<table border=\"1\" class=\"dataframe\">\n",
              "  <thead>\n",
              "    <tr style=\"text-align: right;\">\n",
              "      <th></th>\n",
              "      <th>trans_details</th>\n",
              "      <th>category</th>\n",
              "      <th>amt</th>\n",
              "      <th>gender</th>\n",
              "      <th>zip</th>\n",
              "      <th>lat</th>\n",
              "      <th>long</th>\n",
              "      <th>city_pop</th>\n",
              "      <th>dob</th>\n",
              "      <th>unix_time</th>\n",
              "      <th>...</th>\n",
              "      <th>category_shopping_net</th>\n",
              "      <th>category_shopping_pos</th>\n",
              "      <th>category_travel</th>\n",
              "      <th>gender_M</th>\n",
              "      <th>day_Monday</th>\n",
              "      <th>day_Saturday</th>\n",
              "      <th>day_Sunday</th>\n",
              "      <th>day_Thursday</th>\n",
              "      <th>day_Tuesday</th>\n",
              "      <th>day_Wednesday</th>\n",
              "    </tr>\n",
              "  </thead>\n",
              "  <tbody>\n",
              "    <tr>\n",
              "      <th>216685</th>\n",
              "      <td>2020-09-06 12:23:12</td>\n",
              "      <td>kids_pets</td>\n",
              "      <td>44.56</td>\n",
              "      <td>F</td>\n",
              "      <td>74130</td>\n",
              "      <td>36.2395</td>\n",
              "      <td>-95.9596</td>\n",
              "      <td>413574</td>\n",
              "      <td>1968-06-18</td>\n",
              "      <td>1378470192</td>\n",
              "      <td>...</td>\n",
              "      <td>0</td>\n",
              "      <td>0</td>\n",
              "      <td>0</td>\n",
              "      <td>0</td>\n",
              "      <td>0</td>\n",
              "      <td>0</td>\n",
              "      <td>1</td>\n",
              "      <td>0</td>\n",
              "      <td>0</td>\n",
              "      <td>0</td>\n",
              "    </tr>\n",
              "    <tr>\n",
              "      <th>297007</th>\n",
              "      <td>2020-10-11 14:10:32</td>\n",
              "      <td>entertainment</td>\n",
              "      <td>28.83</td>\n",
              "      <td>M</td>\n",
              "      <td>33844</td>\n",
              "      <td>28.0758</td>\n",
              "      <td>-81.5929</td>\n",
              "      <td>33804</td>\n",
              "      <td>1991-01-01</td>\n",
              "      <td>1381500632</td>\n",
              "      <td>...</td>\n",
              "      <td>0</td>\n",
              "      <td>0</td>\n",
              "      <td>0</td>\n",
              "      <td>1</td>\n",
              "      <td>0</td>\n",
              "      <td>0</td>\n",
              "      <td>1</td>\n",
              "      <td>0</td>\n",
              "      <td>0</td>\n",
              "      <td>0</td>\n",
              "    </tr>\n",
              "    <tr>\n",
              "      <th>200927</th>\n",
              "      <td>2020-08-31 02:30:11</td>\n",
              "      <td>misc_net</td>\n",
              "      <td>24.06</td>\n",
              "      <td>F</td>\n",
              "      <td>92585</td>\n",
              "      <td>33.7467</td>\n",
              "      <td>-117.1721</td>\n",
              "      <td>54287</td>\n",
              "      <td>1972-09-22</td>\n",
              "      <td>1377916211</td>\n",
              "      <td>...</td>\n",
              "      <td>0</td>\n",
              "      <td>0</td>\n",
              "      <td>0</td>\n",
              "      <td>0</td>\n",
              "      <td>1</td>\n",
              "      <td>0</td>\n",
              "      <td>0</td>\n",
              "      <td>0</td>\n",
              "      <td>0</td>\n",
              "      <td>0</td>\n",
              "    </tr>\n",
              "    <tr>\n",
              "      <th>534867</th>\n",
              "      <td>2020-12-27 16:43:59</td>\n",
              "      <td>entertainment</td>\n",
              "      <td>226.04</td>\n",
              "      <td>M</td>\n",
              "      <td>24340</td>\n",
              "      <td>36.7779</td>\n",
              "      <td>-81.7676</td>\n",
              "      <td>5657</td>\n",
              "      <td>1987-04-29</td>\n",
              "      <td>1388162639</td>\n",
              "      <td>...</td>\n",
              "      <td>0</td>\n",
              "      <td>0</td>\n",
              "      <td>0</td>\n",
              "      <td>1</td>\n",
              "      <td>0</td>\n",
              "      <td>0</td>\n",
              "      <td>1</td>\n",
              "      <td>0</td>\n",
              "      <td>0</td>\n",
              "      <td>0</td>\n",
              "    </tr>\n",
              "    <tr>\n",
              "      <th>332587</th>\n",
              "      <td>2020-10-26 18:16:52</td>\n",
              "      <td>home</td>\n",
              "      <td>16.99</td>\n",
              "      <td>M</td>\n",
              "      <td>1844</td>\n",
              "      <td>42.7280</td>\n",
              "      <td>-71.1810</td>\n",
              "      <td>47249</td>\n",
              "      <td>1980-11-22</td>\n",
              "      <td>1382811412</td>\n",
              "      <td>...</td>\n",
              "      <td>0</td>\n",
              "      <td>0</td>\n",
              "      <td>0</td>\n",
              "      <td>1</td>\n",
              "      <td>1</td>\n",
              "      <td>0</td>\n",
              "      <td>0</td>\n",
              "      <td>0</td>\n",
              "      <td>0</td>\n",
              "      <td>0</td>\n",
              "    </tr>\n",
              "  </tbody>\n",
              "</table>\n",
              "<p>5 rows × 37 columns</p>\n",
              "</div>\n",
              "      <button class=\"colab-df-convert\" onclick=\"convertToInteractive('df-dbb12ef3-ccaf-4d8d-8963-4384a4e7bac8')\"\n",
              "              title=\"Convert this dataframe to an interactive table.\"\n",
              "              style=\"display:none;\">\n",
              "        \n",
              "  <svg xmlns=\"http://www.w3.org/2000/svg\" height=\"24px\"viewBox=\"0 0 24 24\"\n",
              "       width=\"24px\">\n",
              "    <path d=\"M0 0h24v24H0V0z\" fill=\"none\"/>\n",
              "    <path d=\"M18.56 5.44l.94 2.06.94-2.06 2.06-.94-2.06-.94-.94-2.06-.94 2.06-2.06.94zm-11 1L8.5 8.5l.94-2.06 2.06-.94-2.06-.94L8.5 2.5l-.94 2.06-2.06.94zm10 10l.94 2.06.94-2.06 2.06-.94-2.06-.94-.94-2.06-.94 2.06-2.06.94z\"/><path d=\"M17.41 7.96l-1.37-1.37c-.4-.4-.92-.59-1.43-.59-.52 0-1.04.2-1.43.59L10.3 9.45l-7.72 7.72c-.78.78-.78 2.05 0 2.83L4 21.41c.39.39.9.59 1.41.59.51 0 1.02-.2 1.41-.59l7.78-7.78 2.81-2.81c.8-.78.8-2.07 0-2.86zM5.41 20L4 18.59l7.72-7.72 1.47 1.35L5.41 20z\"/>\n",
              "  </svg>\n",
              "      </button>\n",
              "      \n",
              "  <style>\n",
              "    .colab-df-container {\n",
              "      display:flex;\n",
              "      flex-wrap:wrap;\n",
              "      gap: 12px;\n",
              "    }\n",
              "\n",
              "    .colab-df-convert {\n",
              "      background-color: #E8F0FE;\n",
              "      border: none;\n",
              "      border-radius: 50%;\n",
              "      cursor: pointer;\n",
              "      display: none;\n",
              "      fill: #1967D2;\n",
              "      height: 32px;\n",
              "      padding: 0 0 0 0;\n",
              "      width: 32px;\n",
              "    }\n",
              "\n",
              "    .colab-df-convert:hover {\n",
              "      background-color: #E2EBFA;\n",
              "      box-shadow: 0px 1px 2px rgba(60, 64, 67, 0.3), 0px 1px 3px 1px rgba(60, 64, 67, 0.15);\n",
              "      fill: #174EA6;\n",
              "    }\n",
              "\n",
              "    [theme=dark] .colab-df-convert {\n",
              "      background-color: #3B4455;\n",
              "      fill: #D2E3FC;\n",
              "    }\n",
              "\n",
              "    [theme=dark] .colab-df-convert:hover {\n",
              "      background-color: #434B5C;\n",
              "      box-shadow: 0px 1px 3px 1px rgba(0, 0, 0, 0.15);\n",
              "      filter: drop-shadow(0px 1px 2px rgba(0, 0, 0, 0.3));\n",
              "      fill: #FFFFFF;\n",
              "    }\n",
              "  </style>\n",
              "\n",
              "      <script>\n",
              "        const buttonEl =\n",
              "          document.querySelector('#df-dbb12ef3-ccaf-4d8d-8963-4384a4e7bac8 button.colab-df-convert');\n",
              "        buttonEl.style.display =\n",
              "          google.colab.kernel.accessAllowed ? 'block' : 'none';\n",
              "\n",
              "        async function convertToInteractive(key) {\n",
              "          const element = document.querySelector('#df-dbb12ef3-ccaf-4d8d-8963-4384a4e7bac8');\n",
              "          const dataTable =\n",
              "            await google.colab.kernel.invokeFunction('convertToInteractive',\n",
              "                                                     [key], {});\n",
              "          if (!dataTable) return;\n",
              "\n",
              "          const docLinkHtml = 'Like what you see? Visit the ' +\n",
              "            '<a target=\"_blank\" href=https://colab.research.google.com/notebooks/data_table.ipynb>data table notebook</a>'\n",
              "            + ' to learn more about interactive tables.';\n",
              "          element.innerHTML = '';\n",
              "          dataTable['output_type'] = 'display_data';\n",
              "          await google.colab.output.renderOutput(dataTable, element);\n",
              "          const docLink = document.createElement('div');\n",
              "          docLink.innerHTML = docLinkHtml;\n",
              "          element.appendChild(docLink);\n",
              "        }\n",
              "      </script>\n",
              "    </div>\n",
              "  </div>\n",
              "  "
            ]
          },
          "metadata": {},
          "execution_count": 47
        }
      ]
    },
    {
      "cell_type": "code",
      "source": [
        "print(fraud_ohe.columns)\n",
        "print(fraud_ohe.shape)"
      ],
      "metadata": {
        "colab": {
          "base_uri": "https://localhost:8080/"
        },
        "id": "ZUWe_Nn9LsOB",
        "outputId": "dcdc87e2-564a-4ca1-e303-07dc14177ebc"
      },
      "execution_count": null,
      "outputs": [
        {
          "output_type": "stream",
          "name": "stdout",
          "text": [
            "Index(['trans_details', 'category', 'amt', 'gender', 'zip', 'lat', 'long',\n",
            "       'city_pop', 'dob', 'unix_time', 'merch_lat', 'merch_long', 'is_fraud',\n",
            "       'trans_hour', 'trans_day_of_week', 'trans_year_month', 'age',\n",
            "       'category_food_dining', 'category_gas_transport',\n",
            "       'category_grocery_net', 'category_grocery_pos',\n",
            "       'category_health_fitness', 'category_home', 'category_kids_pets',\n",
            "       'category_misc_net', 'category_misc_pos', 'category_personal_care',\n",
            "       'category_shopping_net', 'category_shopping_pos', 'category_travel',\n",
            "       'gender_M', 'day_Monday', 'day_Saturday', 'day_Sunday', 'day_Thursday',\n",
            "       'day_Tuesday', 'day_Wednesday'],\n",
            "      dtype='object')\n",
            "(55572, 37)\n"
          ]
        }
      ]
    },
    {
      "cell_type": "code",
      "source": [
        "#Drop the category gender and day_of_weak variable as they are already OHC.\n",
        "fraud_ohe.drop(['category','gender','trans_day_of_week'],axis=1, inplace=True)"
      ],
      "metadata": {
        "id": "gFXV9DxoL6Pr"
      },
      "execution_count": null,
      "outputs": []
    },
    {
      "cell_type": "code",
      "source": [
        "print(fraud_ohe.shape)"
      ],
      "metadata": {
        "colab": {
          "base_uri": "https://localhost:8080/"
        },
        "id": "c55pRyfiMgQA",
        "outputId": "f1a68511-84bc-46e5-97bf-8b7602e82ee8"
      },
      "execution_count": null,
      "outputs": [
        {
          "output_type": "stream",
          "name": "stdout",
          "text": [
            "(55572, 34)\n"
          ]
        }
      ]
    },
    {
      "cell_type": "code",
      "source": [
        "#Copying the OHE datatype into another dataset so that we can work on that and the original data can be refered when required.\n",
        "fraud_ohe1 = fraud_ohe.copy(deep = True)"
      ],
      "metadata": {
        "id": "6uFgIZmzLWI_"
      },
      "execution_count": null,
      "outputs": []
    },
    {
      "cell_type": "markdown",
      "source": [
        "Before Binning the continous variable like age and amt let us take this \n",
        "data and build a model.\n",
        "The latitude and logitude parameters will be dropped and taken care again in the coming section of the project."
      ],
      "metadata": {
        "id": "TiduDB4lLWrM"
      }
    },
    {
      "cell_type": "code",
      "source": [
        "fraud_ohe1.drop(['zip', 'lat', 'long', 'city_pop', 'unix_time', 'merch_lat','merch_long'],axis=1, inplace=True)"
      ],
      "metadata": {
        "id": "NNmsQs3DNwV-"
      },
      "execution_count": null,
      "outputs": []
    },
    {
      "cell_type": "markdown",
      "source": [
        "We should also be dropping the trans_details and trans_year_month as we have already got the valuable information from these columns"
      ],
      "metadata": {
        "id": "zhk8qZ5dOlED"
      }
    },
    {
      "cell_type": "code",
      "source": [
        "fraud_ohe1.drop(['trans_details','trans_year_month'],axis=1, inplace=True)\n"
      ],
      "metadata": {
        "id": "IPv8N-geO0Z3"
      },
      "execution_count": null,
      "outputs": []
    },
    {
      "cell_type": "code",
      "source": [
        "#Dropping the Dob part as we have got the age from that.\n",
        "fraud_ohe1.drop(['dob'],axis=1,inplace=True)"
      ],
      "metadata": {
        "id": "6peMuK-hZd14"
      },
      "execution_count": null,
      "outputs": []
    },
    {
      "cell_type": "code",
      "source": [
        "fraud_ohe1.dtypes"
      ],
      "metadata": {
        "colab": {
          "base_uri": "https://localhost:8080/"
        },
        "id": "zcBJpnkZOEls",
        "outputId": "ad0613f1-e8d2-4271-e8dd-2589b2b59b89"
      },
      "execution_count": null,
      "outputs": [
        {
          "output_type": "execute_result",
          "data": {
            "text/plain": [
              "amt                        float64\n",
              "is_fraud                     int64\n",
              "trans_hour                   int64\n",
              "age                        float64\n",
              "category_food_dining         uint8\n",
              "category_gas_transport       uint8\n",
              "category_grocery_net         uint8\n",
              "category_grocery_pos         uint8\n",
              "category_health_fitness      uint8\n",
              "category_home                uint8\n",
              "category_kids_pets           uint8\n",
              "category_misc_net            uint8\n",
              "category_misc_pos            uint8\n",
              "category_personal_care       uint8\n",
              "category_shopping_net        uint8\n",
              "category_shopping_pos        uint8\n",
              "category_travel              uint8\n",
              "gender_M                     uint8\n",
              "day_Monday                   uint8\n",
              "day_Saturday                 uint8\n",
              "day_Sunday                   uint8\n",
              "day_Thursday                 uint8\n",
              "day_Tuesday                  uint8\n",
              "day_Wednesday                uint8\n",
              "dtype: object"
            ]
          },
          "metadata": {},
          "execution_count": 55
        }
      ]
    },
    {
      "cell_type": "markdown",
      "source": [
        "# **Model Building**"
      ],
      "metadata": {
        "id": "U9E1s0sKPCpN"
      }
    },
    {
      "cell_type": "markdown",
      "source": [
        "## **Logistic Regression Model**"
      ],
      "metadata": {
        "id": "zwIbBl_hPHQP"
      }
    },
    {
      "cell_type": "code",
      "source": [
        "# Creating X array that will contain features and y array will contain the target vector\n",
        "X=fraud_ohe1.drop('is_fraud',axis=1)\n",
        "y=fraud_ohe1['is_fraud']\n",
        "\n",
        "# Importing the package\n",
        "from sklearn.model_selection import train_test_split\n",
        "\n",
        "# Using train_test_split() function to split the whole data to train data of 80% and test data of 20%.\n",
        "X_train, X_test, y_train, y_test = train_test_split(X, y, test_size=0.2, random_state=50)\n",
        "\n",
        "# Checking the shapes of the train and test data\n",
        "print('X_train',X_train.shape)\n",
        "print('X_test',X_test.shape)\n",
        "print('y_train',y_train.shape)\n",
        "print('y_test',y_test.shape)"
      ],
      "metadata": {
        "colab": {
          "base_uri": "https://localhost:8080/"
        },
        "id": "Eh68319OS_if",
        "outputId": "e5712f59-f0b8-40dd-b067-05ae05f7ef19"
      },
      "execution_count": null,
      "outputs": [
        {
          "output_type": "stream",
          "name": "stdout",
          "text": [
            "X_train (44457, 23)\n",
            "X_test (11115, 23)\n",
            "y_train (44457,)\n",
            "y_test (11115,)\n"
          ]
        }
      ]
    },
    {
      "cell_type": "code",
      "source": [
        "# Importing the Library\n",
        "from sklearn.linear_model import LogisticRegression\n",
        "\n",
        "logistic=LogisticRegression(max_iter=2000)\n",
        "\n",
        "\n",
        "# Building a Multiple Logistic Regression Model by fitting the target and the features\n",
        "logistic.fit(X_train,y_train)"
      ],
      "metadata": {
        "colab": {
          "base_uri": "https://localhost:8080/"
        },
        "id": "EYeEsnLSS_dI",
        "outputId": "06d17946-45ac-42a2-937d-dcad4ebfb81d"
      },
      "execution_count": null,
      "outputs": [
        {
          "output_type": "execute_result",
          "data": {
            "text/plain": [
              "LogisticRegression(max_iter=2000)"
            ]
          },
          "metadata": {},
          "execution_count": 57
        }
      ]
    },
    {
      "cell_type": "code",
      "source": [
        "# Coefficient and intercept\n",
        "print(logistic.coef_)\n",
        "print(logistic.intercept_)"
      ],
      "metadata": {
        "colab": {
          "base_uri": "https://localhost:8080/"
        },
        "id": "EPXyY_m1TZJh",
        "outputId": "9df6170b-4250-4457-87e5-a936a498ce3b"
      },
      "execution_count": null,
      "outputs": [
        {
          "output_type": "stream",
          "name": "stdout",
          "text": [
            "[[ 0.00605315  0.10012968  0.01625135 -0.14445636  0.95702348  1.31763036\n",
            "   2.00936218 -0.48904151 -0.7058558  -0.40114606  1.61651089 -0.19363533\n",
            "  -0.91387991  1.77830899  1.03536329 -0.40136669  0.19306976 -0.14637169\n",
            "  -0.05365749  0.05250921  0.09067368 -0.31005357  0.05712327]]\n",
            "[-8.80587626]\n"
          ]
        }
      ]
    },
    {
      "cell_type": "code",
      "source": [
        "# Prediction of target using the features\n",
        "pred=logistic.predict(X_test)\n",
        "pred"
      ],
      "metadata": {
        "colab": {
          "base_uri": "https://localhost:8080/"
        },
        "id": "XFmPoC6FTZrG",
        "outputId": "0b6e03bf-fab4-409c-de35-7efbf1a6047e"
      },
      "execution_count": null,
      "outputs": [
        {
          "output_type": "execute_result",
          "data": {
            "text/plain": [
              "array([0, 0, 0, ..., 0, 0, 0])"
            ]
          },
          "metadata": {},
          "execution_count": 59
        }
      ]
    },
    {
      "cell_type": "markdown",
      "source": [
        "### **Model Validation**"
      ],
      "metadata": {
        "id": "r04knI0fTnU2"
      }
    },
    {
      "cell_type": "code",
      "source": [
        "# Importing the sklearn package for creating the confusion matrix\n",
        "from sklearn.metrics import confusion_matrix\n",
        "cm=confusion_matrix(y_test,pred)\n",
        "cm"
      ],
      "metadata": {
        "colab": {
          "base_uri": "https://localhost:8080/"
        },
        "id": "--ueWd62Tgpj",
        "outputId": "861d527e-691e-4a06-8fc5-298802f5a0fb"
      },
      "execution_count": null,
      "outputs": [
        {
          "output_type": "execute_result",
          "data": {
            "text/plain": [
              "array([[11074,     0],\n",
              "       [   41,     0]])"
            ]
          },
          "metadata": {},
          "execution_count": 60
        }
      ]
    },
    {
      "cell_type": "code",
      "source": [
        "# Calculating the accuracy of the model\n",
        "total=sum(sum(cm))\n",
        "accuracy=(cm[0,0]+cm[1,1])/total\n",
        "round(accuracy*100,3)"
      ],
      "metadata": {
        "colab": {
          "base_uri": "https://localhost:8080/"
        },
        "id": "FInrD-yqTwtw",
        "outputId": "72dabe0f-461a-49de-df59-42f1d3d14a9c"
      },
      "execution_count": null,
      "outputs": [
        {
          "output_type": "execute_result",
          "data": {
            "text/plain": [
              "99.631"
            ]
          },
          "metadata": {},
          "execution_count": 61
        }
      ]
    },
    {
      "cell_type": "markdown",
      "source": [
        "Note- Although the accuracy comes out to be very high this accuracy can be deceptive due to the class imbalance we had. So we will treat this class imbalance using Under Sampling and oversampling and SMOTE technique in further Section."
      ],
      "metadata": {
        "id": "y2gO7g5UT00f"
      }
    },
    {
      "cell_type": "markdown",
      "source": [
        "### **Checking Multicolinearity**"
      ],
      "metadata": {
        "id": "nGUTI0whUF71"
      }
    },
    {
      "cell_type": "code",
      "source": [
        "# Importing the package\n",
        "import statsmodels.formula.api as sm\n",
        "# Creating function for calculating VIF\n",
        "def vif_cal(input_data):\n",
        "    x_vars = input_data\n",
        "    xvar_names=x_vars.columns\n",
        "    for i in range(0,xvar_names.shape[0]):\n",
        "        y=x_vars[xvar_names[i]] \n",
        "        x=x_vars[xvar_names.drop(xvar_names[i])]\n",
        "        rsq=sm.ols(formula=\"y~x\", data=x_vars).fit().rsquared  \n",
        "        vif=round(1/(1-rsq),2)\n",
        "        print (xvar_names[i], \" VIF = \" , vif)"
      ],
      "metadata": {
        "id": "spklGHloPB7d",
        "colab": {
          "base_uri": "https://localhost:8080/"
        },
        "outputId": "f133a649-d4fe-46a9-c5a9-90d367f7f713"
      },
      "execution_count": null,
      "outputs": [
        {
          "output_type": "stream",
          "name": "stderr",
          "text": [
            "/usr/local/lib/python3.7/dist-packages/statsmodels/tools/_testing.py:19: FutureWarning:\n",
            "\n",
            "pandas.util.testing is deprecated. Use the functions in the public API at pandas.testing instead.\n",
            "\n"
          ]
        }
      ]
    },
    {
      "cell_type": "code",
      "source": [
        "# Calculating VIF for all the Features\n",
        "vif_cal(input_data=X_train)"
      ],
      "metadata": {
        "colab": {
          "base_uri": "https://localhost:8080/"
        },
        "id": "DCQF6l0DQBnU",
        "outputId": "c531ff1f-9d11-4aab-c7b4-d7378555bf0a"
      },
      "execution_count": null,
      "outputs": [
        {
          "output_type": "stream",
          "name": "stdout",
          "text": [
            "amt  VIF =  1.1\n",
            "trans_hour  VIF =  2.1\n",
            "age  VIF =  1.09\n",
            "category_food_dining  VIF =  1.84\n",
            "category_gas_transport  VIF =  2.55\n",
            "category_grocery_net  VIF =  1.61\n",
            "category_grocery_pos  VIF =  2.46\n",
            "category_health_fitness  VIF =  1.8\n",
            "category_home  VIF =  2.1\n",
            "category_kids_pets  VIF =  2.03\n",
            "category_misc_net  VIF =  1.73\n",
            "category_misc_pos  VIF =  1.82\n",
            "category_personal_care  VIF =  1.87\n",
            "category_shopping_net  VIF =  1.94\n",
            "category_shopping_pos  VIF =  2.09\n",
            "category_travel  VIF =  1.4\n",
            "gender_M  VIF =  1.01\n",
            "day_Monday  VIF =  2.22\n",
            "day_Saturday  VIF =  1.75\n",
            "day_Sunday  VIF =  2.04\n",
            "day_Thursday  VIF =  1.71\n",
            "day_Tuesday  VIF =  2.18\n",
            "day_Wednesday  VIF =  1.65\n"
          ]
        }
      ]
    },
    {
      "cell_type": "markdown",
      "source": [
        "From the VIF it is clearly seen that none of the features are interdepent on each other. So we need not drop any of them. Now let's Check the P-vale to check their impact and drop the non impactfull variables."
      ],
      "metadata": {
        "id": "inuy1PLIRYkn"
      }
    },
    {
      "cell_type": "markdown",
      "source": [
        "### **Checking the Individual Impact of Variables**"
      ],
      "metadata": {
        "id": "tW1pZMEpUabv"
      }
    },
    {
      "cell_type": "code",
      "source": [
        "# Importing the statsmodel library\n",
        "import statsmodels.discrete.discrete_model as sm\n",
        "m=sm.Logit(y,X)\n",
        "# Fitting feature to the model\n",
        "Res=m.fit()\n",
        "# Printing Summary\n",
        "print(Res.summary())"
      ],
      "metadata": {
        "colab": {
          "base_uri": "https://localhost:8080/"
        },
        "id": "axLSdnWGbBzA",
        "outputId": "317cf8de-aad0-4f87-8444-5972cc2b9380"
      },
      "execution_count": null,
      "outputs": [
        {
          "output_type": "stream",
          "name": "stdout",
          "text": [
            "Optimization terminated successfully.\n",
            "         Current function value: 0.028121\n",
            "         Iterations 11\n",
            "                           Logit Regression Results                           \n",
            "==============================================================================\n",
            "Dep. Variable:               is_fraud   No. Observations:                55572\n",
            "Model:                          Logit   Df Residuals:                    55549\n",
            "Method:                           MLE   Df Model:                           22\n",
            "Date:                Wed, 03 Aug 2022   Pseudo R-squ.:                -0.05937\n",
            "Time:                        04:16:30   Log-Likelihood:                -1562.7\n",
            "converged:                       True   LL-Null:                       -1475.1\n",
            "Covariance Type:            nonrobust   LLR p-value:                     1.000\n",
            "===========================================================================================\n",
            "                              coef    std err          z      P>|z|      [0.025      0.975]\n",
            "-------------------------------------------------------------------------------------------\n",
            "amt                         0.0034      0.001      5.354      0.000       0.002       0.005\n",
            "trans_hour                 -0.0879      0.009    -10.331      0.000      -0.105      -0.071\n",
            "age                        -0.0435      0.003    -13.553      0.000      -0.050      -0.037\n",
            "category_food_dining       -1.9875      0.374     -5.313      0.000      -2.721      -1.254\n",
            "category_gas_transport     -2.7415      0.289     -9.498      0.000      -3.307      -2.176\n",
            "category_grocery_net       -2.5561      0.393     -6.509      0.000      -3.326      -1.786\n",
            "category_grocery_pos       -1.4402      0.187     -7.722      0.000      -1.806      -1.075\n",
            "category_health_fitness    -1.9765      0.399     -4.957      0.000      -2.758      -1.195\n",
            "category_home              -2.2485      0.399     -5.631      0.000      -3.031      -1.466\n",
            "category_kids_pets         -1.8416      0.341     -5.400      0.000      -2.510      -1.173\n",
            "category_misc_net          -1.2841      0.232     -5.531      0.000      -1.739      -0.829\n",
            "category_misc_pos          -3.1405      0.512     -6.133      0.000      -4.144      -2.137\n",
            "category_personal_care     -2.5707      0.516     -4.982      0.000      -3.582      -1.559\n",
            "category_shopping_net      -0.4892      0.179     -2.729      0.006      -0.841      -0.138\n",
            "category_shopping_pos      -1.2724      0.224     -5.670      0.000      -1.712      -0.833\n",
            "category_travel            -1.7290      0.520     -3.324      0.001      -2.748      -0.710\n",
            "gender_M                   -0.5391      0.124     -4.361      0.000      -0.781      -0.297\n",
            "day_Monday                 -1.3302      0.183     -7.265      0.000      -1.689      -0.971\n",
            "day_Saturday               -1.3131      0.234     -5.616      0.000      -1.771      -0.855\n",
            "day_Sunday                 -1.1654      0.186     -6.262      0.000      -1.530      -0.801\n",
            "day_Thursday               -0.8738      0.204     -4.290      0.000      -1.273      -0.475\n",
            "day_Tuesday                -1.5110      0.201     -7.529      0.000      -1.904      -1.118\n",
            "day_Wednesday              -1.2109      0.238     -5.087      0.000      -1.677      -0.744\n",
            "===========================================================================================\n"
          ]
        }
      ]
    },
    {
      "cell_type": "markdown",
      "source": [
        "From the result it was concluded that all the features were impactfull. So none of them will be dropped."
      ],
      "metadata": {
        "id": "9YRgLMmpSPa4"
      }
    },
    {
      "cell_type": "markdown",
      "source": [
        "### Confusion Matrix,Accuracy,Sensitivity,Specificity"
      ],
      "metadata": {
        "id": "pVdngFNechLF"
      }
    },
    {
      "cell_type": "code",
      "source": [
        "# Creating confusion matrix\n",
        "cm=confusion_matrix(y_test,pred)\n",
        "cm\n",
        "# Calculating Accuracy\n",
        "total=sum(sum(cm))\n",
        "accuracy=(cm[0,0]+cm[1,1])/total\n",
        "print('Accuracy=',round(accuracy*100,3))\n",
        "\n",
        "# Calculating Sensitivity\n",
        "Sensitivity=cm[0,0]/(cm[0,0]+cm[0,1])\n",
        "print('Sensitivity-',round(Sensitivity*100,2))\n",
        "\n",
        "# Calculating Specificity\n",
        "Specificity = cm[1,1]/(cm[1,0]+cm[1,1])\n",
        "print('Specificity-',round(Specificity*100,2))"
      ],
      "metadata": {
        "id": "BuoNidrWRE_b",
        "colab": {
          "base_uri": "https://localhost:8080/"
        },
        "outputId": "21906ab7-c423-45ac-9df4-3a47d9a5f55f"
      },
      "execution_count": null,
      "outputs": [
        {
          "output_type": "stream",
          "name": "stdout",
          "text": [
            "Accuracy= 99.631\n",
            "Sensitivity- 100.0\n",
            "Specificity- 0.0\n"
          ]
        }
      ]
    },
    {
      "cell_type": "markdown",
      "source": [
        "From the Specificity it can be concluded that there is a huge class imbalance present in the data."
      ],
      "metadata": {
        "id": "oZr45HWmcyuD"
      }
    },
    {
      "cell_type": "markdown",
      "source": [
        "# **Model Selection and Cross Validation**"
      ],
      "metadata": {
        "id": "nmhdyrr6c8vR"
      }
    },
    {
      "cell_type": "code",
      "source": [
        "X=fraud_ohe1.drop('is_fraud',axis=1)\n",
        "y=fraud_ohe1['is_fraud']"
      ],
      "metadata": {
        "id": "4LEOHUUfXM2p"
      },
      "execution_count": null,
      "outputs": []
    },
    {
      "cell_type": "code",
      "source": [
        "# Importing the statsmodel library\n",
        "import statsmodels.discrete.discrete_model as sm\n",
        "m=sm.Logit(y,X)\n",
        "# Fitting feature to the model\n",
        "results=m.fit()\n",
        "# Printing Summary\n",
        "print(results.summary())"
      ],
      "metadata": {
        "colab": {
          "base_uri": "https://localhost:8080/"
        },
        "id": "waHd4hFoeZO6",
        "outputId": "a358a0e5-db2c-4fab-c33b-90c10f13b6cc"
      },
      "execution_count": null,
      "outputs": [
        {
          "output_type": "stream",
          "name": "stdout",
          "text": [
            "Optimization terminated successfully.\n",
            "         Current function value: 0.028121\n",
            "         Iterations 11\n",
            "                           Logit Regression Results                           \n",
            "==============================================================================\n",
            "Dep. Variable:               is_fraud   No. Observations:                55572\n",
            "Model:                          Logit   Df Residuals:                    55549\n",
            "Method:                           MLE   Df Model:                           22\n",
            "Date:                Wed, 03 Aug 2022   Pseudo R-squ.:                -0.05937\n",
            "Time:                        04:17:12   Log-Likelihood:                -1562.7\n",
            "converged:                       True   LL-Null:                       -1475.1\n",
            "Covariance Type:            nonrobust   LLR p-value:                     1.000\n",
            "===========================================================================================\n",
            "                              coef    std err          z      P>|z|      [0.025      0.975]\n",
            "-------------------------------------------------------------------------------------------\n",
            "amt                         0.0034      0.001      5.354      0.000       0.002       0.005\n",
            "trans_hour                 -0.0879      0.009    -10.331      0.000      -0.105      -0.071\n",
            "age                        -0.0435      0.003    -13.553      0.000      -0.050      -0.037\n",
            "category_food_dining       -1.9875      0.374     -5.313      0.000      -2.721      -1.254\n",
            "category_gas_transport     -2.7415      0.289     -9.498      0.000      -3.307      -2.176\n",
            "category_grocery_net       -2.5561      0.393     -6.509      0.000      -3.326      -1.786\n",
            "category_grocery_pos       -1.4402      0.187     -7.722      0.000      -1.806      -1.075\n",
            "category_health_fitness    -1.9765      0.399     -4.957      0.000      -2.758      -1.195\n",
            "category_home              -2.2485      0.399     -5.631      0.000      -3.031      -1.466\n",
            "category_kids_pets         -1.8416      0.341     -5.400      0.000      -2.510      -1.173\n",
            "category_misc_net          -1.2841      0.232     -5.531      0.000      -1.739      -0.829\n",
            "category_misc_pos          -3.1405      0.512     -6.133      0.000      -4.144      -2.137\n",
            "category_personal_care     -2.5707      0.516     -4.982      0.000      -3.582      -1.559\n",
            "category_shopping_net      -0.4892      0.179     -2.729      0.006      -0.841      -0.138\n",
            "category_shopping_pos      -1.2724      0.224     -5.670      0.000      -1.712      -0.833\n",
            "category_travel            -1.7290      0.520     -3.324      0.001      -2.748      -0.710\n",
            "gender_M                   -0.5391      0.124     -4.361      0.000      -0.781      -0.297\n",
            "day_Monday                 -1.3302      0.183     -7.265      0.000      -1.689      -0.971\n",
            "day_Saturday               -1.3131      0.234     -5.616      0.000      -1.771      -0.855\n",
            "day_Sunday                 -1.1654      0.186     -6.262      0.000      -1.530      -0.801\n",
            "day_Thursday               -0.8738      0.204     -4.290      0.000      -1.273      -0.475\n",
            "day_Tuesday                -1.5110      0.201     -7.529      0.000      -1.904      -1.118\n",
            "day_Wednesday              -1.2109      0.238     -5.087      0.000      -1.677      -0.744\n",
            "===========================================================================================\n"
          ]
        }
      ]
    },
    {
      "cell_type": "code",
      "source": [
        "# Predict the traget using the features\n",
        "predict1=results.predict()"
      ],
      "metadata": {
        "id": "ewwXZIBXeZV8"
      },
      "execution_count": null,
      "outputs": []
    },
    {
      "cell_type": "markdown",
      "source": [
        "## Confusion Matrix,Accuracy,Sensitivity,Specificity"
      ],
      "metadata": {
        "id": "HtQCUrvbePXL"
      }
    },
    {
      "cell_type": "code",
      "source": [
        "# Taking the threshold value 0.5 as it is logistic regression\n",
        "threshold=0.5\n",
        "predictions1=[ 0 if x < threshold else 1 for x in predict1]\n",
        "\n",
        "# Confusion Matrix and Accuracy\n",
        "from sklearn.metrics import confusion_matrix,classification_report\n",
        "cm=confusion_matrix(y,predictions1)\n",
        "print(cm)\n",
        "\n",
        "total=sum(sum(cm))\n",
        "accuracy=(cm[0,0]+cm[1,1])/total\n",
        "print('Accuracy=',round(accuracy*100,2))\n",
        "\n",
        "# Calculating Sensitivity\n",
        "Sensitivity=cm[0,0]/(cm[0,0]+cm[0,1])\n",
        "print('Sensitivity-',round(Sensitivity*100,2))\n",
        "\n",
        "# Calculating Specificity\n",
        "Specificity = cm[1,1]/(cm[1,0]+cm[1,1])\n",
        "print('Specificity-',round(Specificity*100,2))"
      ],
      "metadata": {
        "id": "QRuvAckCXM5V",
        "colab": {
          "base_uri": "https://localhost:8080/"
        },
        "outputId": "813a33c7-a8c1-41c9-fdd8-6b9f49ae8a5d"
      },
      "execution_count": null,
      "outputs": [
        {
          "output_type": "stream",
          "name": "stdout",
          "text": [
            "[[55345     0]\n",
            " [  227     0]]\n",
            "Accuracy= 99.59\n",
            "Sensitivity- 100.0\n",
            "Specificity- 0.0\n"
          ]
        }
      ]
    },
    {
      "cell_type": "markdown",
      "source": [
        "# **Handling Class imbalance**"
      ],
      "metadata": {
        "id": "fdpUrU3qfLhZ"
      }
    },
    {
      "cell_type": "markdown",
      "source": [
        "## **ROC Curve**"
      ],
      "metadata": {
        "id": "RzqN3XcnfR-9"
      }
    },
    {
      "cell_type": "code",
      "source": [
        "# Importing the roc_curve,auc\n",
        "from sklearn.metrics import roc_curve,auc,accuracy_score\n",
        "\n",
        "fpr, tpr, thresholds = roc_curve(y,predict1)\n",
        "\n",
        "# Drawing ROC_Curve\n",
        "plt.plot(fpr,tpr)\n",
        "plt.title('ROC Curve')\n",
        "#X and Y  Axis Limits \n",
        "plt.xlim([-0,1])\n",
        "plt.ylim([-0,1])\n",
        "\n",
        "# Labels \n",
        "plt.ylabel('True Positive Rate(Sensitivity)')\n",
        "plt.xlabel('False Positive Rate(Specificity)')\n",
        "plt.show()"
      ],
      "metadata": {
        "colab": {
          "base_uri": "https://localhost:8080/",
          "height": 295
        },
        "id": "8ycJBGUjfY0_",
        "outputId": "4139909e-7afc-4909-9946-ac79482d961b"
      },
      "execution_count": null,
      "outputs": [
        {
          "output_type": "display_data",
          "data": {
            "text/plain": [
              "<Figure size 432x288 with 1 Axes>"
            ],
            "image/png": "[encoded data removed]"
          },
          "metadata": {
            "needs_background": "light"
          }
        }
      ]
    },
    {
      "cell_type": "markdown",
      "source": [
        "Just by looking as the ROC curve there was no clear evident of the threshold as the graph turned out be quite linear."
      ],
      "metadata": {
        "id": "a_EVwTG47KXL"
      }
    },
    {
      "cell_type": "markdown",
      "source": [
        "## **Area Under Curve (AUC)**"
      ],
      "metadata": {
        "id": "66ppqBJZfmOV"
      }
    },
    {
      "cell_type": "code",
      "source": [
        "auc(fpr,tpr)\n",
        "# The AUC should be value higher for a better model"
      ],
      "metadata": {
        "colab": {
          "base_uri": "https://localhost:8080/"
        },
        "id": "HvqjVrksfjRC",
        "outputId": "5d872c64-643b-4ddc-e159-17d809afc02d"
      },
      "execution_count": null,
      "outputs": [
        {
          "output_type": "execute_result",
          "data": {
            "text/plain": [
              "0.5927956912646065"
            ]
          },
          "metadata": {},
          "execution_count": 71
        }
      ]
    },
    {
      "cell_type": "markdown",
      "source": [
        "## **Updated Accuracy, Sensitivity and Specificity**"
      ],
      "metadata": {
        "id": "7XWYRIMQf2VE"
      }
    },
    {
      "cell_type": "code",
      "source": [
        "# Choosing thershold of 0.2 as the optimum value for better accuracy. This was also done as for us class-1 is important.\n",
        "threshold2=0.2\n",
        "predictions2=[ 0 if x < threshold2 else 1 for x in predict1]\n",
        "\n",
        "# Creating confusion matrix\n",
        "cm=confusion_matrix(y,predictions2)\n",
        "print(cm)\n",
        "\n",
        "# Calculating Accuracy\n",
        "total=sum(sum(cm))\n",
        "accuracy=(cm[0,0]+cm[1,1])/total\n",
        "print('Accuracy-',round(accuracy*100,2))\n",
        "\n",
        "# Calculating Sensitivity\n",
        "Sensitivity=cm[0,0]/(cm[0,0]+cm[0,1])\n",
        "print('Sensitivity-',round(Sensitivity*100,2))\n",
        "\n",
        "# Calculating Specificity\n",
        "Specificity = cm[1,1]/(cm[1,0]+cm[1,1])\n",
        "print('Specificity-',round(Specificity*100,2))"
      ],
      "metadata": {
        "colab": {
          "base_uri": "https://localhost:8080/"
        },
        "id": "gMJTDCmHf8TC",
        "outputId": "f394425f-fda7-4a99-8991-df174e7220d9"
      },
      "execution_count": null,
      "outputs": [
        {
          "output_type": "stream",
          "name": "stdout",
          "text": [
            "[[55343     2]\n",
            " [  227     0]]\n",
            "Accuracy- 99.59\n",
            "Sensitivity- 100.0\n",
            "Specificity- 0.0\n"
          ]
        }
      ]
    },
    {
      "cell_type": "markdown",
      "source": [
        "Even after changing the threshold there was no improvent in specificity."
      ],
      "metadata": {
        "id": "lhM8HGapgHVj"
      }
    },
    {
      "cell_type": "markdown",
      "source": [
        "## **Precision,Recall and F1 Score**"
      ],
      "metadata": {
        "id": "BONgxzIFgQLr"
      }
    },
    {
      "cell_type": "code",
      "source": [
        "# Importing classification report from sklearn library\n",
        "from sklearn.metrics import classification_report\n",
        "print(classification_report(y,predictions1))"
      ],
      "metadata": {
        "colab": {
          "base_uri": "https://localhost:8080/"
        },
        "id": "OEjOFEq_gPSH",
        "outputId": "75a72e9f-a667-4963-9cf3-33a96478313f"
      },
      "execution_count": null,
      "outputs": [
        {
          "output_type": "stream",
          "name": "stdout",
          "text": [
            "              precision    recall  f1-score   support\n",
            "\n",
            "           0       1.00      1.00      1.00     55345\n",
            "           1       0.00      0.00      0.00       227\n",
            "\n",
            "    accuracy                           1.00     55572\n",
            "   macro avg       0.50      0.50      0.50     55572\n",
            "weighted avg       0.99      1.00      0.99     55572\n",
            "\n"
          ]
        },
        {
          "output_type": "stream",
          "name": "stderr",
          "text": [
            "/usr/local/lib/python3.7/dist-packages/sklearn/metrics/_classification.py:1318: UndefinedMetricWarning:\n",
            "\n",
            "Precision and F-score are ill-defined and being set to 0.0 in labels with no predicted samples. Use `zero_division` parameter to control this behavior.\n",
            "\n",
            "/usr/local/lib/python3.7/dist-packages/sklearn/metrics/_classification.py:1318: UndefinedMetricWarning:\n",
            "\n",
            "Precision and F-score are ill-defined and being set to 0.0 in labels with no predicted samples. Use `zero_division` parameter to control this behavior.\n",
            "\n",
            "/usr/local/lib/python3.7/dist-packages/sklearn/metrics/_classification.py:1318: UndefinedMetricWarning:\n",
            "\n",
            "Precision and F-score are ill-defined and being set to 0.0 in labels with no predicted samples. Use `zero_division` parameter to control this behavior.\n",
            "\n"
          ]
        }
      ]
    },
    {
      "cell_type": "markdown",
      "source": [
        "## **Oversampling and under sampling**"
      ],
      "metadata": {
        "id": "dY24F5cfgcmR"
      }
    },
    {
      "cell_type": "code",
      "source": [
        "freq=fraud_ohe1['is_fraud'].value_counts()\n",
        "print(freq)\n",
        "print((freq/freq.sum())*100)"
      ],
      "metadata": {
        "colab": {
          "base_uri": "https://localhost:8080/"
        },
        "id": "Nm5bEDZJghAj",
        "outputId": "324266fc-7d0d-42fb-d278-e18e8b568c38"
      },
      "execution_count": null,
      "outputs": [
        {
          "output_type": "stream",
          "name": "stdout",
          "text": [
            "0    55345\n",
            "1      227\n",
            "Name: is_fraud, dtype: int64\n",
            "0    99.591521\n",
            "1     0.408479\n",
            "Name: is_fraud, dtype: float64\n"
          ]
        }
      ]
    },
    {
      "cell_type": "code",
      "source": [
        "# Oversampling of minority class\n",
        "# Lets increase the size by 40 times. Increasing the size of minor class to 40 times was important as it was very less in number.\n",
        "df=fraud_ohe1[fraud_ohe1['is_fraud']==1]\n",
        "df_oversample=df.sample(40*len(df),replace=True)\n",
        "df_oversample.shape"
      ],
      "metadata": {
        "colab": {
          "base_uri": "https://localhost:8080/"
        },
        "id": "L6BHghbUghDN",
        "outputId": "601f805f-9a9b-4fe6-d3d3-b7af7aeddc77"
      },
      "execution_count": null,
      "outputs": [
        {
          "output_type": "execute_result",
          "data": {
            "text/plain": [
              "(9080, 24)"
            ]
          },
          "metadata": {},
          "execution_count": 75
        }
      ]
    },
    {
      "cell_type": "code",
      "source": [
        "# Undersampling the majority class\n",
        "## Considering 40% of class-0\n",
        "df1=fraud_ohe1[fraud_ohe1['is_fraud']==0]\n",
        "df_undersample=df1.sample(int(0.5*len(df1)))\n",
        "df_undersample.shape"
      ],
      "metadata": {
        "colab": {
          "base_uri": "https://localhost:8080/"
        },
        "id": "CFdTX_FRghFh",
        "outputId": "72fcfe85-ad78-4c43-be90-b1a975b7197f"
      },
      "execution_count": null,
      "outputs": [
        {
          "output_type": "execute_result",
          "data": {
            "text/plain": [
              "(27672, 24)"
            ]
          },
          "metadata": {},
          "execution_count": 76
        }
      ]
    },
    {
      "cell_type": "code",
      "source": [
        "# Concatenating both undersample data and oversample data to create a balanced dataset\n",
        "fraud_ohe1b=pd.concat([df_oversample,df_undersample])\n",
        "fraud_ohe1b.shape"
      ],
      "metadata": {
        "colab": {
          "base_uri": "https://localhost:8080/"
        },
        "id": "saZhrUyciIcL",
        "outputId": "83f6814d-b21f-432a-cc1e-fedb0ac8c75e"
      },
      "execution_count": null,
      "outputs": [
        {
          "output_type": "execute_result",
          "data": {
            "text/plain": [
              "(36752, 24)"
            ]
          },
          "metadata": {},
          "execution_count": 77
        }
      ]
    },
    {
      "cell_type": "code",
      "source": [
        "# Chceking the percentage of balanced data after oversampling and undersampling\n",
        "freq=fraud_ohe1b['is_fraud'].value_counts()\n",
        "print((freq/freq.sum())*100)"
      ],
      "metadata": {
        "colab": {
          "base_uri": "https://localhost:8080/"
        },
        "id": "08sZUKzMiLoN",
        "outputId": "1bcc3aa7-293a-48af-df2e-0c0a5353e021"
      },
      "execution_count": null,
      "outputs": [
        {
          "output_type": "stream",
          "name": "stdout",
          "text": [
            "0    75.293862\n",
            "1    24.706138\n",
            "Name: is_fraud, dtype: float64\n"
          ]
        }
      ]
    },
    {
      "cell_type": "markdown",
      "source": [
        "### **Updated Sensitivity and Specificity**"
      ],
      "metadata": {
        "id": "tIfUsITvjcRs"
      }
    },
    {
      "cell_type": "code",
      "source": [
        "## Function for OLS formula\n",
        "def ols_formula(df, dependent_var, *excluded_cols):\n",
        "    '''\n",
        "    Generates the y~X style formula for statsmodels (patsy) given\n",
        "    the dataframe, dependent variable and optional excluded columns\n",
        "    as strings\n",
        "    '''\n",
        "    df_columns = list(df.columns.values)\n",
        "    df_columns.remove(dependent_var)\n",
        "    for col in excluded_cols:\n",
        "        df_columns.remove(col)\n",
        "    return dependent_var + ' ~ ' + ' + '.join(df_columns)"
      ],
      "metadata": {
        "id": "pGwGtaySjhiZ"
      },
      "execution_count": null,
      "outputs": []
    },
    {
      "cell_type": "code",
      "source": [
        "model_formula=ols_formula(fraud_ohe1b.iloc[:,1:], dependent_var=\"is_fraud\")\n",
        "print(model_formula)"
      ],
      "metadata": {
        "colab": {
          "base_uri": "https://localhost:8080/"
        },
        "id": "IIwtdXSdjjUZ",
        "outputId": "8f1f8313-905d-4145-b36a-496ea72a1026"
      },
      "execution_count": null,
      "outputs": [
        {
          "output_type": "stream",
          "name": "stdout",
          "text": [
            "is_fraud ~ trans_hour + age + category_food_dining + category_gas_transport + category_grocery_net + category_grocery_pos + category_health_fitness + category_home + category_kids_pets + category_misc_net + category_misc_pos + category_personal_care + category_shopping_net + category_shopping_pos + category_travel + gender_M + day_Monday + day_Saturday + day_Sunday + day_Thursday + day_Tuesday + day_Wednesday\n"
          ]
        }
      ]
    },
    {
      "cell_type": "code",
      "source": [
        "import statsmodels.formula.api as sm\n",
        "\n",
        "risk_model=sm.logit(model_formula, data=fraud_ohe1b)\n",
        "results=risk_model.fit()\n",
        "print(results.summary())"
      ],
      "metadata": {
        "colab": {
          "base_uri": "https://localhost:8080/"
        },
        "id": "VKazEk4Kjjb5",
        "outputId": "80e0fce2-261c-4ba9-9c68-a22515efce60"
      },
      "execution_count": null,
      "outputs": [
        {
          "output_type": "stream",
          "name": "stdout",
          "text": [
            "Optimization terminated successfully.\n",
            "         Current function value: 0.470454\n",
            "         Iterations 7\n",
            "                           Logit Regression Results                           \n",
            "==============================================================================\n",
            "Dep. Variable:               is_fraud   No. Observations:                36752\n",
            "Model:                          Logit   Df Residuals:                    36729\n",
            "Method:                           MLE   Df Model:                           22\n",
            "Date:                Wed, 03 Aug 2022   Pseudo R-squ.:                  0.1585\n",
            "Time:                        04:20:47   Log-Likelihood:                -17290.\n",
            "converged:                       True   LL-Null:                       -20547.\n",
            "Covariance Type:            nonrobust   LLR p-value:                     0.000\n",
            "===========================================================================================\n",
            "                              coef    std err          z      P>|z|      [0.025      0.975]\n",
            "-------------------------------------------------------------------------------------------\n",
            "Intercept                  -4.3154      0.122    -35.346      0.000      -4.555      -4.076\n",
            "trans_hour                  0.0741      0.002     32.132      0.000       0.070       0.079\n",
            "age                         0.0062      0.001      8.291      0.000       0.005       0.008\n",
            "category_food_dining        1.2799      0.119     10.799      0.000       1.048       1.512\n",
            "category_gas_transport      2.2394      0.117     19.214      0.000       2.011       2.468\n",
            "category_grocery_net        2.7319      0.125     21.827      0.000       2.487       2.977\n",
            "category_grocery_pos        3.7042      0.111     33.367      0.000       3.487       3.922\n",
            "category_health_fitness     1.0492      0.121      8.694      0.000       0.813       1.286\n",
            "category_home               0.6440      0.120      5.352      0.000       0.408       0.880\n",
            "category_kids_pets          0.9489      0.117      8.092      0.000       0.719       1.179\n",
            "category_misc_net           2.9775      0.113     26.427      0.000       2.757       3.198\n",
            "category_misc_pos           0.8015      0.134      5.984      0.000       0.539       1.064\n",
            "category_personal_care      0.3567      0.132      2.703      0.007       0.098       0.615\n",
            "category_shopping_net       3.0587      0.108     28.287      0.000       2.847       3.271\n",
            "category_shopping_pos       2.2519      0.110     20.489      0.000       2.036       2.467\n",
            "category_travel             1.1204      0.136      8.257      0.000       0.854       1.386\n",
            "gender_M                   -0.0739      0.027     -2.733      0.006      -0.127      -0.021\n",
            "day_Monday                 -0.1786      0.048     -3.690      0.000      -0.273      -0.084\n",
            "day_Saturday               -0.3668      0.056     -6.513      0.000      -0.477      -0.256\n",
            "day_Sunday                  0.0009      0.049      0.019      0.985      -0.095       0.097\n",
            "day_Thursday                0.2420      0.053      4.585      0.000       0.139       0.345\n",
            "day_Tuesday                -0.5198      0.051    -10.227      0.000      -0.619      -0.420\n",
            "day_Wednesday              -0.2796      0.058     -4.802      0.000      -0.394      -0.166\n",
            "===========================================================================================\n"
          ]
        }
      ]
    },
    {
      "cell_type": "code",
      "source": [
        "# Predicting the probability of predictor \n",
        "predict_balanced=results.predict()\n",
        "predict_balanced"
      ],
      "metadata": {
        "colab": {
          "base_uri": "https://localhost:8080/"
        },
        "id": "padRaUoqjjeY",
        "outputId": "dd878227-011c-4542-9369-a86b0f65b018"
      },
      "execution_count": null,
      "outputs": [
        {
          "output_type": "execute_result",
          "data": {
            "text/plain": [
              "array([0.43389806, 0.32959514, 0.5708864 , ..., 0.18171353, 0.08378127,\n",
              "       0.1430901 ])"
            ]
          },
          "metadata": {},
          "execution_count": 82
        }
      ]
    },
    {
      "cell_type": "code",
      "source": [
        "# Choosing thershold of 0.5 as it is a Logistic regression Model\n",
        "threshold1=0.5\n",
        "predictions1=[ 0 if x < threshold1 else 1 for x in predict_balanced]\n",
        "\n",
        "# Creating confusion matrix\n",
        "cm=confusion_matrix(fraud_ohe1b['is_fraud'],predictions1)\n",
        "print(cm)\n",
        "\n",
        "# Calculating Accuracy\n",
        "total=sum(sum(cm))\n",
        "accuracy=(cm[0,0]+cm[1,1])/total\n",
        "print('Accuracy-',round(accuracy*100,2))\n",
        "\n",
        "# Calculating Sensitivity\n",
        "Sensitivity=cm[0,0]/(cm[0,0]+cm[0,1])\n",
        "print('Sensitivity-',round(Sensitivity*100,2))\n",
        "\n",
        "# Calculating Specificity\n",
        "Specificity = cm[1,1]/(cm[1,0]+cm[1,1])\n",
        "print('Specificity-',round(Specificity*100,2))"
      ],
      "metadata": {
        "colab": {
          "base_uri": "https://localhost:8080/"
        },
        "id": "kw_ONRwtjjg6",
        "outputId": "0d2f3ba1-7bfd-405f-c55c-35b307f64aef"
      },
      "execution_count": null,
      "outputs": [
        {
          "output_type": "stream",
          "name": "stdout",
          "text": [
            "[[25887  1785]\n",
            " [ 6149  2931]]\n",
            "Accuracy- 78.41\n",
            "Sensitivity- 93.55\n",
            "Specificity- 32.28\n"
          ]
        }
      ]
    },
    {
      "cell_type": "code",
      "source": [
        "from sklearn.metrics import classification_report\n",
        "print(classification_report(fraud_ohe1b[\"is_fraud\"],predictions1))"
      ],
      "metadata": {
        "colab": {
          "base_uri": "https://localhost:8080/"
        },
        "id": "qfxcZ2sSjjjn",
        "outputId": "a13f60c3-5808-4fc0-fe75-662ed306911b"
      },
      "execution_count": null,
      "outputs": [
        {
          "output_type": "stream",
          "name": "stdout",
          "text": [
            "              precision    recall  f1-score   support\n",
            "\n",
            "           0       0.81      0.94      0.87     27672\n",
            "           1       0.62      0.32      0.42      9080\n",
            "\n",
            "    accuracy                           0.78     36752\n",
            "   macro avg       0.71      0.63      0.65     36752\n",
            "weighted avg       0.76      0.78      0.76     36752\n",
            "\n"
          ]
        }
      ]
    },
    {
      "cell_type": "markdown",
      "source": [
        "There was a clear lift in specificity with the balanced data set which was made using Under and Over sampling Techniques. Now let us move forward with another way of treating imbalanced data set called SMOTE."
      ],
      "metadata": {
        "id": "ihT54pP2lWlS"
      }
    },
    {
      "cell_type": "markdown",
      "source": [
        "## **SMOTE Technique**"
      ],
      "metadata": {
        "id": "73VsVINMllF1"
      }
    },
    {
      "cell_type": "markdown",
      "source": [
        "\n",
        "\n",
        "  \n",
        "\n",
        "\n",
        "\n",
        "\n",
        "\n",
        "\n",
        "*   SMOTE is an algorithm that performs data augmentation by creating \n",
        "synthetic data points based on the original data points. SMOTE can be seen as an advanced version of oversampling, or as a specific algorithm for data augmentation. The advantage of SMOTE is that you are not generating duplicates, but rather creating synthetic data points that are slightly different from the original data points.\n",
        "\n",
        "\n",
        "\n",
        "\n",
        "\n",
        "\n",
        "\n",
        "\n",
        "\n",
        "\n",
        "\n"
      ],
      "metadata": {
        "id": "4KxEqba_8Pz8"
      }
    },
    {
      "cell_type": "code",
      "source": [
        "X=fraud_ohe1.drop('is_fraud',axis=1)\n",
        "y=fraud_ohe1['is_fraud']\n",
        "\n",
        "# Importing imblearn library for importing SMOTE Function\n",
        "from imblearn.over_sampling import SMOTE\n",
        "smote=SMOTE(sampling_strategy=0.9,random_state=32)\n",
        "X_train_smote,y_train_smote=smote.fit_resample(X,y)\n",
        "\n",
        "# Getting the collection of counts of each class\n",
        "import collections\n",
        "print(\"Before_Smote\",collections.Counter(y))\n",
        "print(\"After_Smote\",collections.Counter(y_train_smote))"
      ],
      "metadata": {
        "colab": {
          "base_uri": "https://localhost:8080/"
        },
        "id": "oAYrAzYTqEMs",
        "outputId": "b0d69545-4d8e-4a7f-b376-ddd36c0e8521"
      },
      "execution_count": null,
      "outputs": [
        {
          "output_type": "stream",
          "name": "stdout",
          "text": [
            "Before_Smote Counter({0: 55345, 1: 227})\n",
            "After_Smote Counter({0: 55345, 1: 49810})\n"
          ]
        }
      ]
    },
    {
      "cell_type": "code",
      "source": [
        "# Creating a new dataset having the balanced data\n",
        "fraud_ohe1_smote=X_train_smote\n",
        "fraud_ohe1_smote['is_fraud']=y_train_smote\n",
        "fraud_ohe1_smote.head()"
      ],
      "metadata": {
        "colab": {
          "base_uri": "https://localhost:8080/",
          "height": 299
        },
        "id": "48vk9FKFsDvy",
        "outputId": "def5c271-7395-4792-daa0-5b3250568d82"
      },
      "execution_count": null,
      "outputs": [
        {
          "output_type": "execute_result",
          "data": {
            "text/plain": [
              "      amt  trans_hour   age  category_food_dining  category_gas_transport  \\\n",
              "0   44.56          12  52.0                     0                       0   \n",
              "1   28.83          14  30.0                     0                       0   \n",
              "2   24.06           2  48.0                     0                       0   \n",
              "3  226.04          16  34.0                     0                       0   \n",
              "4   16.99          18  40.0                     0                       0   \n",
              "\n",
              "   category_grocery_net  category_grocery_pos  category_health_fitness  \\\n",
              "0                     0                     0                        0   \n",
              "1                     0                     0                        0   \n",
              "2                     0                     0                        0   \n",
              "3                     0                     0                        0   \n",
              "4                     0                     0                        0   \n",
              "\n",
              "   category_home  category_kids_pets  ...  category_shopping_pos  \\\n",
              "0              0                   1  ...                      0   \n",
              "1              0                   0  ...                      0   \n",
              "2              0                   0  ...                      0   \n",
              "3              0                   0  ...                      0   \n",
              "4              1                   0  ...                      0   \n",
              "\n",
              "   category_travel  gender_M  day_Monday  day_Saturday  day_Sunday  \\\n",
              "0                0         0           0             0           1   \n",
              "1                0         1           0             0           1   \n",
              "2                0         0           1             0           0   \n",
              "3                0         1           0             0           1   \n",
              "4                0         1           1             0           0   \n",
              "\n",
              "   day_Thursday  day_Tuesday  day_Wednesday  is_fraud  \n",
              "0             0            0              0         0  \n",
              "1             0            0              0         0  \n",
              "2             0            0              0         0  \n",
              "3             0            0              0         0  \n",
              "4             0            0              0         0  \n",
              "\n",
              "[5 rows x 24 columns]"
            ],
            "text/html": [
              "\n",
              "  <div id=\"df-ba77f95f-694f-44e7-a776-16306793a4cd\">\n",
              "    <div class=\"colab-df-container\">\n",
              "      <div>\n",
              "<style scoped>\n",
              "    .dataframe tbody tr th:only-of-type {\n",
              "        vertical-align: middle;\n",
              "    }\n",
              "\n",
              "    .dataframe tbody tr th {\n",
              "        vertical-align: top;\n",
              "    }\n",
              "\n",
              "    .dataframe thead th {\n",
              "        text-align: right;\n",
              "    }\n",
              "</style>\n",
              "<table border=\"1\" class=\"dataframe\">\n",
              "  <thead>\n",
              "    <tr style=\"text-align: right;\">\n",
              "      <th></th>\n",
              "      <th>amt</th>\n",
              "      <th>trans_hour</th>\n",
              "      <th>age</th>\n",
              "      <th>category_food_dining</th>\n",
              "      <th>category_gas_transport</th>\n",
              "      <th>category_grocery_net</th>\n",
              "      <th>category_grocery_pos</th>\n",
              "      <th>category_health_fitness</th>\n",
              "      <th>category_home</th>\n",
              "      <th>category_kids_pets</th>\n",
              "      <th>...</th>\n",
              "      <th>category_shopping_pos</th>\n",
              "      <th>category_travel</th>\n",
              "      <th>gender_M</th>\n",
              "      <th>day_Monday</th>\n",
              "      <th>day_Saturday</th>\n",
              "      <th>day_Sunday</th>\n",
              "      <th>day_Thursday</th>\n",
              "      <th>day_Tuesday</th>\n",
              "      <th>day_Wednesday</th>\n",
              "      <th>is_fraud</th>\n",
              "    </tr>\n",
              "  </thead>\n",
              "  <tbody>\n",
              "    <tr>\n",
              "      <th>0</th>\n",
              "      <td>44.56</td>\n",
              "      <td>12</td>\n",
              "      <td>52.0</td>\n",
              "      <td>0</td>\n",
              "      <td>0</td>\n",
              "      <td>0</td>\n",
              "      <td>0</td>\n",
              "      <td>0</td>\n",
              "      <td>0</td>\n",
              "      <td>1</td>\n",
              "      <td>...</td>\n",
              "      <td>0</td>\n",
              "      <td>0</td>\n",
              "      <td>0</td>\n",
              "      <td>0</td>\n",
              "      <td>0</td>\n",
              "      <td>1</td>\n",
              "      <td>0</td>\n",
              "      <td>0</td>\n",
              "      <td>0</td>\n",
              "      <td>0</td>\n",
              "    </tr>\n",
              "    <tr>\n",
              "      <th>1</th>\n",
              "      <td>28.83</td>\n",
              "      <td>14</td>\n",
              "      <td>30.0</td>\n",
              "      <td>0</td>\n",
              "      <td>0</td>\n",
              "      <td>0</td>\n",
              "      <td>0</td>\n",
              "      <td>0</td>\n",
              "      <td>0</td>\n",
              "      <td>0</td>\n",
              "      <td>...</td>\n",
              "      <td>0</td>\n",
              "      <td>0</td>\n",
              "      <td>1</td>\n",
              "      <td>0</td>\n",
              "      <td>0</td>\n",
              "      <td>1</td>\n",
              "      <td>0</td>\n",
              "      <td>0</td>\n",
              "      <td>0</td>\n",
              "      <td>0</td>\n",
              "    </tr>\n",
              "    <tr>\n",
              "      <th>2</th>\n",
              "      <td>24.06</td>\n",
              "      <td>2</td>\n",
              "      <td>48.0</td>\n",
              "      <td>0</td>\n",
              "      <td>0</td>\n",
              "      <td>0</td>\n",
              "      <td>0</td>\n",
              "      <td>0</td>\n",
              "      <td>0</td>\n",
              "      <td>0</td>\n",
              "      <td>...</td>\n",
              "      <td>0</td>\n",
              "      <td>0</td>\n",
              "      <td>0</td>\n",
              "      <td>1</td>\n",
              "      <td>0</td>\n",
              "      <td>0</td>\n",
              "      <td>0</td>\n",
              "      <td>0</td>\n",
              "      <td>0</td>\n",
              "      <td>0</td>\n",
              "    </tr>\n",
              "    <tr>\n",
              "      <th>3</th>\n",
              "      <td>226.04</td>\n",
              "      <td>16</td>\n",
              "      <td>34.0</td>\n",
              "      <td>0</td>\n",
              "      <td>0</td>\n",
              "      <td>0</td>\n",
              "      <td>0</td>\n",
              "      <td>0</td>\n",
              "      <td>0</td>\n",
              "      <td>0</td>\n",
              "      <td>...</td>\n",
              "      <td>0</td>\n",
              "      <td>0</td>\n",
              "      <td>1</td>\n",
              "      <td>0</td>\n",
              "      <td>0</td>\n",
              "      <td>1</td>\n",
              "      <td>0</td>\n",
              "      <td>0</td>\n",
              "      <td>0</td>\n",
              "      <td>0</td>\n",
              "    </tr>\n",
              "    <tr>\n",
              "      <th>4</th>\n",
              "      <td>16.99</td>\n",
              "      <td>18</td>\n",
              "      <td>40.0</td>\n",
              "      <td>0</td>\n",
              "      <td>0</td>\n",
              "      <td>0</td>\n",
              "      <td>0</td>\n",
              "      <td>0</td>\n",
              "      <td>1</td>\n",
              "      <td>0</td>\n",
              "      <td>...</td>\n",
              "      <td>0</td>\n",
              "      <td>0</td>\n",
              "      <td>1</td>\n",
              "      <td>1</td>\n",
              "      <td>0</td>\n",
              "      <td>0</td>\n",
              "      <td>0</td>\n",
              "      <td>0</td>\n",
              "      <td>0</td>\n",
              "      <td>0</td>\n",
              "    </tr>\n",
              "  </tbody>\n",
              "</table>\n",
              "<p>5 rows × 24 columns</p>\n",
              "</div>\n",
              "      <button class=\"colab-df-convert\" onclick=\"convertToInteractive('df-ba77f95f-694f-44e7-a776-16306793a4cd')\"\n",
              "              title=\"Convert this dataframe to an interactive table.\"\n",
              "              style=\"display:none;\">\n",
              "        \n",
              "  <svg xmlns=\"http://www.w3.org/2000/svg\" height=\"24px\"viewBox=\"0 0 24 24\"\n",
              "       width=\"24px\">\n",
              "    <path d=\"M0 0h24v24H0V0z\" fill=\"none\"/>\n",
              "    <path d=\"M18.56 5.44l.94 2.06.94-2.06 2.06-.94-2.06-.94-.94-2.06-.94 2.06-2.06.94zm-11 1L8.5 8.5l.94-2.06 2.06-.94-2.06-.94L8.5 2.5l-.94 2.06-2.06.94zm10 10l.94 2.06.94-2.06 2.06-.94-2.06-.94-.94-2.06-.94 2.06-2.06.94z\"/><path d=\"M17.41 7.96l-1.37-1.37c-.4-.4-.92-.59-1.43-.59-.52 0-1.04.2-1.43.59L10.3 9.45l-7.72 7.72c-.78.78-.78 2.05 0 2.83L4 21.41c.39.39.9.59 1.41.59.51 0 1.02-.2 1.41-.59l7.78-7.78 2.81-2.81c.8-.78.8-2.07 0-2.86zM5.41 20L4 18.59l7.72-7.72 1.47 1.35L5.41 20z\"/>\n",
              "  </svg>\n",
              "      </button>\n",
              "      \n",
              "  <style>\n",
              "    .colab-df-container {\n",
              "      display:flex;\n",
              "      flex-wrap:wrap;\n",
              "      gap: 12px;\n",
              "    }\n",
              "\n",
              "    .colab-df-convert {\n",
              "      background-color: #E8F0FE;\n",
              "      border: none;\n",
              "      border-radius: 50%;\n",
              "      cursor: pointer;\n",
              "      display: none;\n",
              "      fill: #1967D2;\n",
              "      height: 32px;\n",
              "      padding: 0 0 0 0;\n",
              "      width: 32px;\n",
              "    }\n",
              "\n",
              "    .colab-df-convert:hover {\n",
              "      background-color: #E2EBFA;\n",
              "      box-shadow: 0px 1px 2px rgba(60, 64, 67, 0.3), 0px 1px 3px 1px rgba(60, 64, 67, 0.15);\n",
              "      fill: #174EA6;\n",
              "    }\n",
              "\n",
              "    [theme=dark] .colab-df-convert {\n",
              "      background-color: #3B4455;\n",
              "      fill: #D2E3FC;\n",
              "    }\n",
              "\n",
              "    [theme=dark] .colab-df-convert:hover {\n",
              "      background-color: #434B5C;\n",
              "      box-shadow: 0px 1px 3px 1px rgba(0, 0, 0, 0.15);\n",
              "      filter: drop-shadow(0px 1px 2px rgba(0, 0, 0, 0.3));\n",
              "      fill: #FFFFFF;\n",
              "    }\n",
              "  </style>\n",
              "\n",
              "      <script>\n",
              "        const buttonEl =\n",
              "          document.querySelector('#df-ba77f95f-694f-44e7-a776-16306793a4cd button.colab-df-convert');\n",
              "        buttonEl.style.display =\n",
              "          google.colab.kernel.accessAllowed ? 'block' : 'none';\n",
              "\n",
              "        async function convertToInteractive(key) {\n",
              "          const element = document.querySelector('#df-ba77f95f-694f-44e7-a776-16306793a4cd');\n",
              "          const dataTable =\n",
              "            await google.colab.kernel.invokeFunction('convertToInteractive',\n",
              "                                                     [key], {});\n",
              "          if (!dataTable) return;\n",
              "\n",
              "          const docLinkHtml = 'Like what you see? Visit the ' +\n",
              "            '<a target=\"_blank\" href=https://colab.research.google.com/notebooks/data_table.ipynb>data table notebook</a>'\n",
              "            + ' to learn more about interactive tables.';\n",
              "          element.innerHTML = '';\n",
              "          dataTable['output_type'] = 'display_data';\n",
              "          await google.colab.output.renderOutput(dataTable, element);\n",
              "          const docLink = document.createElement('div');\n",
              "          docLink.innerHTML = docLinkHtml;\n",
              "          element.appendChild(docLink);\n",
              "        }\n",
              "      </script>\n",
              "    </div>\n",
              "  </div>\n",
              "  "
            ]
          },
          "metadata": {},
          "execution_count": 86
        }
      ]
    },
    {
      "cell_type": "code",
      "source": [
        "freq=fraud_ohe1_smote['is_fraud'].value_counts()\n",
        "print((freq/freq.sum())*100)"
      ],
      "metadata": {
        "colab": {
          "base_uri": "https://localhost:8080/"
        },
        "id": "meTAYd6xsu1B",
        "outputId": "bf77c434-1300-41df-9c72-a69efccbbfce"
      },
      "execution_count": null,
      "outputs": [
        {
          "output_type": "stream",
          "name": "stdout",
          "text": [
            "0    52.631829\n",
            "1    47.368171\n",
            "Name: is_fraud, dtype: float64\n"
          ]
        }
      ]
    },
    {
      "cell_type": "markdown",
      "source": [
        "### **Sensitivity and Specificity after SMOTE using Stats model**"
      ],
      "metadata": {
        "id": "3vusLOm7ru9y"
      }
    },
    {
      "cell_type": "code",
      "source": [
        "## Function for OLS formula\n",
        "def ols_formula(df, dependent_var, *excluded_cols):\n",
        "    '''\n",
        "    Generates the y~X style formula for statsmodels (patsy) given\n",
        "    the dataframe, dependent variable and optional excluded columns\n",
        "    as strings\n",
        "    '''\n",
        "    df_columns = list(df.columns.values)\n",
        "    df_columns.remove(dependent_var)\n",
        "    for col in excluded_cols:\n",
        "        df_columns.remove(col)\n",
        "    return dependent_var + ' ~ ' + ' + '.join(df_columns)\n",
        "\n",
        "## Function Calling\n",
        "model_formula=ols_formula(fraud_ohe1_smote.iloc[:,1:], dependent_var=\"is_fraud\")\n",
        "print(model_formula)"
      ],
      "metadata": {
        "colab": {
          "base_uri": "https://localhost:8080/"
        },
        "id": "fJ913-Y8lknH",
        "outputId": "2253514e-e626-4102-dc7d-d401c5629e05"
      },
      "execution_count": null,
      "outputs": [
        {
          "output_type": "stream",
          "name": "stdout",
          "text": [
            "is_fraud ~ trans_hour + age + category_food_dining + category_gas_transport + category_grocery_net + category_grocery_pos + category_health_fitness + category_home + category_kids_pets + category_misc_net + category_misc_pos + category_personal_care + category_shopping_net + category_shopping_pos + category_travel + gender_M + day_Monday + day_Saturday + day_Sunday + day_Thursday + day_Tuesday + day_Wednesday\n"
          ]
        }
      ]
    },
    {
      "cell_type": "code",
      "source": [
        "import statsmodels.formula.api as sm\n",
        "\n",
        "# Building Statistical Logistic Regression Model\n",
        "m=sm.logit(model_formula,data=fraud_ohe1_smote)\n",
        "\n",
        "results=m.fit()\n",
        "\n",
        "# Printing the result summary\n",
        "print(results.summary())\n",
        "\n",
        "pred_smote = results.predict()"
      ],
      "metadata": {
        "colab": {
          "base_uri": "https://localhost:8080/"
        },
        "id": "zkpD4YlPruni",
        "outputId": "0cefa1c7-ecd7-4215-afcb-2f9cd0fc64bc"
      },
      "execution_count": null,
      "outputs": [
        {
          "output_type": "stream",
          "name": "stdout",
          "text": [
            "Optimization terminated successfully.\n",
            "         Current function value: 0.291347\n",
            "         Iterations 8\n",
            "                           Logit Regression Results                           \n",
            "==============================================================================\n",
            "Dep. Variable:               is_fraud   No. Observations:               105155\n",
            "Model:                          Logit   Df Residuals:                   105132\n",
            "Method:                           MLE   Df Model:                           22\n",
            "Date:                Wed, 03 Aug 2022   Pseudo R-squ.:                  0.5788\n",
            "Time:                        04:24:09   Log-Likelihood:                -30637.\n",
            "converged:                       True   LL-Null:                       -72742.\n",
            "Covariance Type:            nonrobust   LLR p-value:                     0.000\n",
            "===========================================================================================\n",
            "                              coef    std err          z      P>|z|      [0.025      0.975]\n",
            "-------------------------------------------------------------------------------------------\n",
            "Intercept                   3.6567      0.048     76.630      0.000       3.563       3.750\n",
            "trans_hour                  0.0352      0.002     21.698      0.000       0.032       0.038\n",
            "age                        -0.0031      0.001     -4.993      0.000      -0.004      -0.002\n",
            "category_food_dining       -2.5750      0.048    -54.112      0.000      -2.668      -2.482\n",
            "category_gas_transport     -2.1456      0.046    -47.044      0.000      -2.235      -2.056\n",
            "category_grocery_net       -2.5033      0.071    -35.506      0.000      -2.641      -2.365\n",
            "category_grocery_pos       -0.6264      0.037    -17.011      0.000      -0.699      -0.554\n",
            "category_health_fitness    -3.9326      0.069    -56.793      0.000      -4.068      -3.797\n",
            "category_home              -4.3860      0.067    -65.409      0.000      -4.517      -4.255\n",
            "category_kids_pets         -3.5167      0.057    -61.792      0.000      -3.628      -3.405\n",
            "category_misc_net          -2.2717      0.055    -41.426      0.000      -2.379      -2.164\n",
            "category_misc_pos          -5.2699      0.112    -46.959      0.000      -5.490      -5.050\n",
            "category_personal_care     -5.1253      0.093    -55.391      0.000      -5.307      -4.944\n",
            "category_shopping_net      -1.0172      0.035    -28.894      0.000      -1.086      -0.948\n",
            "category_shopping_pos      -2.4387      0.042    -57.490      0.000      -2.522      -2.356\n",
            "category_travel            -4.3045      0.101    -42.759      0.000      -4.502      -4.107\n",
            "gender_M                   -1.0221      0.023    -44.610      0.000      -1.067      -0.977\n",
            "day_Monday                 -3.6381      0.033   -108.739      0.000      -3.704      -3.573\n",
            "day_Saturday               -3.8356      0.044    -87.469      0.000      -3.921      -3.750\n",
            "day_Sunday                 -3.5229      0.034   -102.680      0.000      -3.590      -3.456\n",
            "day_Thursday               -3.2916      0.040    -82.285      0.000      -3.370      -3.213\n",
            "day_Tuesday                -4.0632      0.038   -105.900      0.000      -4.138      -3.988\n",
            "day_Wednesday              -3.9144      0.049    -79.818      0.000      -4.011      -3.818\n",
            "===========================================================================================\n"
          ]
        }
      ]
    },
    {
      "cell_type": "code",
      "source": [
        "# Choosing thershold of 0.5 for Logistic Regression\n",
        "threshold4=0.5\n",
        "predictions4=[ 0 if x < threshold4 else 1 for x in pred_smote]\n",
        "\n",
        "from sklearn.metrics import confusion_matrix\n",
        "\n",
        "# Creating confusion matrix\n",
        "cm=confusion_matrix(fraud_ohe1_smote['is_fraud'],predictions4)\n",
        "print(cm)\n",
        "\n",
        "# Calculating Accuracy\n",
        "total=sum(sum(cm))\n",
        "accuracy=(cm[0,0]+cm[1,1])/total\n",
        "print('Accuracy-',round(accuracy*100,2))\n",
        "\n",
        "# Calculating Sensitivity\n",
        "Sensitivity=cm[0,0]/(cm[0,0]+cm[0,1])\n",
        "print('Sensitivity-',round(Sensitivity*100,2))\n",
        "\n",
        "# Calculating Specificity\n",
        "Specificity = cm[1,1]/(cm[1,0]+cm[1,1])\n",
        "print('Specificity-',round(Specificity*100,2))"
      ],
      "metadata": {
        "colab": {
          "base_uri": "https://localhost:8080/"
        },
        "id": "K01AXekFs_pA",
        "outputId": "703d87bf-1063-4723-de5b-b3e5902053f3"
      },
      "execution_count": null,
      "outputs": [
        {
          "output_type": "stream",
          "name": "stdout",
          "text": [
            "[[49486  5859]\n",
            " [ 6289 43521]]\n",
            "Accuracy- 88.45\n",
            "Sensitivity- 89.41\n",
            "Specificity- 87.37\n"
          ]
        }
      ]
    },
    {
      "cell_type": "markdown",
      "source": [
        "Here there is a very good rise in the specificity which we aimed at and there is also not much compromise in the over all accuracy. (Accuracy over 80% is good from any business point of view)"
      ],
      "metadata": {
        "id": "4XO3_lamtnEf"
      }
    },
    {
      "cell_type": "markdown",
      "source": [
        "### **Specificity and Sesitivity using Sklearn**"
      ],
      "metadata": {
        "id": "1e_OSSTtwZrk"
      }
    },
    {
      "cell_type": "code",
      "source": [
        "X=fraud_ohe1_smote.drop('is_fraud',axis=1)\n",
        "y=fraud_ohe1_smote['is_fraud']\n",
        "\n",
        "from sklearn.model_selection import train_test_split\n",
        "from sklearn.linear_model import LogisticRegression\n",
        "X_train, X_test, y_train, y_test = train_test_split(X, y, test_size=0.2, random_state=50)\n",
        "\n",
        "logistic=LogisticRegression(solver='newton-cg',max_iter=200)\n",
        "# Fitting the target and the features\n",
        "logistic.fit(X_train,y_train)\n",
        "\n",
        "#predict\n",
        "pred1_smote=logistic.predict(X_train)"
      ],
      "metadata": {
        "id": "LzRhBIGTs_xQ"
      },
      "execution_count": null,
      "outputs": []
    },
    {
      "cell_type": "code",
      "source": [
        "# Creating confusion matrix\n",
        "from sklearn.metrics import confusion_matrix,classification_report\n",
        "cm=confusion_matrix(y_train,pred1_smote)\n",
        "print(cm)\n",
        "\n",
        "# Calculating Accuracy\n",
        "total=sum(sum(cm))\n",
        "accuracy=(cm[0,0]+cm[1,1])/total\n",
        "print('Accuracy-',round(accuracy*100,2))\n",
        "\n",
        "# Calculating Sensitivity\n",
        "Sensitivity=cm[0,0]/(cm[0,0]+cm[0,1])\n",
        "print('Sensitivity-',round(Sensitivity*100,2))\n",
        "\n",
        "# Calculating Specificity\n",
        "Specificity = cm[1,1]/(cm[1,0]+cm[1,1])\n",
        "print('Specificity-',round(Specificity*100,2))"
      ],
      "metadata": {
        "colab": {
          "base_uri": "https://localhost:8080/"
        },
        "id": "JajrshN1wLAm",
        "outputId": "c16d4ce9-f351-444d-f4c7-63fcf1021959"
      },
      "execution_count": null,
      "outputs": [
        {
          "output_type": "stream",
          "name": "stdout",
          "text": [
            "[[39488  4752]\n",
            " [ 5013 34871]]\n",
            "Accuracy- 88.39\n",
            "Sensitivity- 89.26\n",
            "Specificity- 87.43\n"
          ]
        }
      ]
    },
    {
      "cell_type": "markdown",
      "source": [
        "**Checking for overfitting and underfitting**"
      ],
      "metadata": {
        "id": "Q7uYI3nTt8wN"
      }
    },
    {
      "cell_type": "code",
      "source": [
        "pred2_smote=logistic.predict(X_test)\n",
        "# Creating confusion matrix\n",
        "cm1=confusion_matrix(y_test,pred2_smote)\n",
        "print(cm1)\n",
        "\n",
        "# Calculating Train Accuracy\n",
        "total=sum(sum(cm))\n",
        "accuracy=(cm[0,0]+cm[1,1])/total\n",
        "print('Train Accuracy-',round(accuracy*100,2))\n",
        "\n",
        "# Calculating Test Accuracy\n",
        "total1=sum(sum(cm1))\n",
        "accuracy1=(cm1[0,0]+cm1[1,1])/total1\n",
        "print('Test Accuracy-',round(accuracy1*100,2))"
      ],
      "metadata": {
        "colab": {
          "base_uri": "https://localhost:8080/"
        },
        "id": "oDI9RqdpwOqO",
        "outputId": "2a6f2abc-6a5d-409c-ef27-51a4cbbbcd64"
      },
      "execution_count": null,
      "outputs": [
        {
          "output_type": "stream",
          "name": "stdout",
          "text": [
            "[[9939 1166]\n",
            " [1290 8636]]\n",
            "Train Accuracy- 88.39\n",
            "Test Accuracy- 88.32\n"
          ]
        }
      ]
    },
    {
      "cell_type": "markdown",
      "source": [
        "There is almost negligible difference between the Test and Train result. So the it is okay."
      ],
      "metadata": {
        "id": "7bTae8tWwoxI"
      }
    },
    {
      "cell_type": "markdown",
      "source": [
        "# **Decision Tree Model**"
      ],
      "metadata": {
        "id": "dAoQI-Nkw_rP"
      }
    },
    {
      "cell_type": "code",
      "source": [
        "# Creating X array that will contain features and y array will contain the target vector\n",
        "X=fraud_ohe1_smote.drop('is_fraud',axis=1)\n",
        "y=fraud_ohe1_smote['is_fraud']\n",
        "\n",
        "# Importing the package\n",
        "from sklearn.model_selection import train_test_split\n",
        "\n",
        "# Using train_test_split() function to split the whole data to train data of 80% and test data of 20%.\n",
        "X_train, X_test, y_train, y_test = train_test_split(X, y, test_size=0.25, random_state=42)\n",
        "\n",
        "# Checking the shapes of the train and test data\n",
        "print('X_train',X_train.shape)\n",
        "print('X_test',X_test.shape)\n",
        "print('y_train',y_train.shape)\n",
        "print('y_test',y_test.shape)"
      ],
      "metadata": {
        "colab": {
          "base_uri": "https://localhost:8080/"
        },
        "id": "-krm0UfZwO14",
        "outputId": "e98c8eab-0969-4679-b336-1d4b67be7942"
      },
      "execution_count": null,
      "outputs": [
        {
          "output_type": "stream",
          "name": "stdout",
          "text": [
            "X_train (78866, 23)\n",
            "X_test (26289, 23)\n",
            "y_train (78866,)\n",
            "y_test (26289,)\n"
          ]
        }
      ]
    },
    {
      "cell_type": "code",
      "source": [
        "#Building Tree Model\n",
        "from sklearn.tree import DecisionTreeClassifier\n",
        "\n",
        "# Instantiating the DecisionTreeClassifier and keeping the max_depth as 8(choosen by fine tuning the pruning parameter) for optimal IGV\n",
        "DTree = DecisionTreeClassifier(max_depth=8)\n",
        "\n",
        "# Building a Decision Tree Model by fitting the train target and the train features\n",
        "DTree.fit(X_train,y_train)"
      ],
      "metadata": {
        "colab": {
          "base_uri": "https://localhost:8080/"
        },
        "id": "VSa5MY6ks_0C",
        "outputId": "afc08991-b214-48d5-fdaa-f4ddedadabb3"
      },
      "execution_count": null,
      "outputs": [
        {
          "output_type": "execute_result",
          "data": {
            "text/plain": [
              "DecisionTreeClassifier(max_depth=8)"
            ]
          },
          "metadata": {},
          "execution_count": 95
        }
      ]
    },
    {
      "cell_type": "code",
      "source": [
        "#Plotting the trees \n",
        "import matplotlib.pyplot as plt\n",
        "from sklearn.tree import plot_tree,export_text\n",
        "plt.figure(figsize=(20,10))\n",
        "plot_tree(DTree, filled=True,rounded=True,impurity=False,feature_names=list(X_train.columns))\n",
        "print(export_text(DTree,feature_names=list(X_train.columns)))"
      ],
      "metadata": {
        "colab": {
          "base_uri": "https://localhost:8080/",
          "height": 1000
        },
        "id": "IfS5WVJss_5f",
        "outputId": "aa4d971b-04ab-4fe8-e579-69ce7d147b8b"
      },
      "execution_count": null,
      "outputs": [
        {
          "output_type": "stream",
          "name": "stdout",
          "text": [
            "|--- trans_hour <= 21.50\n",
            "|   |--- trans_hour <= 2.50\n",
            "|   |   |--- amt <= 252.37\n",
            "|   |   |   |--- amt <= 47.30\n",
            "|   |   |   |   |--- amt <= 6.82\n",
            "|   |   |   |   |   |--- category_gas_transport <= 0.50\n",
            "|   |   |   |   |   |   |--- age <= 39.59\n",
            "|   |   |   |   |   |   |   |--- age <= 38.01\n",
            "|   |   |   |   |   |   |   |   |--- class: 0\n",
            "|   |   |   |   |   |   |   |--- age >  38.01\n",
            "|   |   |   |   |   |   |   |   |--- class: 1\n",
            "|   |   |   |   |   |   |--- age >  39.59\n",
            "|   |   |   |   |   |   |   |--- class: 0\n",
            "|   |   |   |   |   |--- category_gas_transport >  0.50\n",
            "|   |   |   |   |   |   |--- class: 1\n",
            "|   |   |   |   |--- amt >  6.82\n",
            "|   |   |   |   |   |--- category_misc_pos <= 0.50\n",
            "|   |   |   |   |   |   |--- age <= 71.97\n",
            "|   |   |   |   |   |   |   |--- day_Saturday <= 0.50\n",
            "|   |   |   |   |   |   |   |   |--- class: 1\n",
            "|   |   |   |   |   |   |   |--- day_Saturday >  0.50\n",
            "|   |   |   |   |   |   |   |   |--- class: 0\n",
            "|   |   |   |   |   |   |--- age >  71.97\n",
            "|   |   |   |   |   |   |   |--- age <= 72.50\n",
            "|   |   |   |   |   |   |   |   |--- class: 0\n",
            "|   |   |   |   |   |   |   |--- age >  72.50\n",
            "|   |   |   |   |   |   |   |   |--- class: 0\n",
            "|   |   |   |   |   |--- category_misc_pos >  0.50\n",
            "|   |   |   |   |   |   |--- class: 0\n",
            "|   |   |   |--- amt >  47.30\n",
            "|   |   |   |   |--- category_food_dining <= 0.50\n",
            "|   |   |   |   |   |--- amt <= 250.24\n",
            "|   |   |   |   |   |   |--- class: 0\n",
            "|   |   |   |   |   |--- amt >  250.24\n",
            "|   |   |   |   |   |   |--- age <= 38.00\n",
            "|   |   |   |   |   |   |   |--- class: 0\n",
            "|   |   |   |   |   |   |--- age >  38.00\n",
            "|   |   |   |   |   |   |   |--- class: 1\n",
            "|   |   |   |   |--- category_food_dining >  0.50\n",
            "|   |   |   |   |   |--- age <= 48.25\n",
            "|   |   |   |   |   |   |--- class: 1\n",
            "|   |   |   |   |   |--- age >  48.25\n",
            "|   |   |   |   |   |   |--- class: 0\n",
            "|   |   |--- amt >  252.37\n",
            "|   |   |   |--- amt <= 365.23\n",
            "|   |   |   |   |--- category_misc_net <= 0.50\n",
            "|   |   |   |   |   |--- category_misc_pos <= 0.50\n",
            "|   |   |   |   |   |   |--- category_shopping_pos <= 0.50\n",
            "|   |   |   |   |   |   |   |--- category_shopping_net <= 0.50\n",
            "|   |   |   |   |   |   |   |   |--- class: 1\n",
            "|   |   |   |   |   |   |   |--- category_shopping_net >  0.50\n",
            "|   |   |   |   |   |   |   |   |--- class: 0\n",
            "|   |   |   |   |   |   |--- category_shopping_pos >  0.50\n",
            "|   |   |   |   |   |   |   |--- class: 0\n",
            "|   |   |   |   |   |--- category_misc_pos >  0.50\n",
            "|   |   |   |   |   |   |--- class: 0\n",
            "|   |   |   |   |--- category_misc_net >  0.50\n",
            "|   |   |   |   |   |--- class: 0\n",
            "|   |   |   |--- amt >  365.23\n",
            "|   |   |   |   |--- class: 0\n",
            "|   |--- trans_hour >  2.50\n",
            "|   |   |--- amt <= 220.56\n",
            "|   |   |   |--- amt <= 47.31\n",
            "|   |   |   |   |--- amt <= 47.28\n",
            "|   |   |   |   |   |--- gender_M <= 0.50\n",
            "|   |   |   |   |   |   |--- category_grocery_net <= 0.50\n",
            "|   |   |   |   |   |   |   |--- amt <= 24.16\n",
            "|   |   |   |   |   |   |   |   |--- class: 0\n",
            "|   |   |   |   |   |   |   |--- amt >  24.16\n",
            "|   |   |   |   |   |   |   |   |--- class: 0\n",
            "|   |   |   |   |   |   |--- category_grocery_net >  0.50\n",
            "|   |   |   |   |   |   |   |--- amt <= 14.88\n",
            "|   |   |   |   |   |   |   |   |--- class: 1\n",
            "|   |   |   |   |   |   |   |--- amt >  14.88\n",
            "|   |   |   |   |   |   |   |   |--- class: 0\n",
            "|   |   |   |   |   |--- gender_M >  0.50\n",
            "|   |   |   |   |   |   |--- trans_hour <= 3.50\n",
            "|   |   |   |   |   |   |   |--- age <= 56.50\n",
            "|   |   |   |   |   |   |   |   |--- class: 0\n",
            "|   |   |   |   |   |   |   |--- age >  56.50\n",
            "|   |   |   |   |   |   |   |   |--- class: 0\n",
            "|   |   |   |   |   |   |--- trans_hour >  3.50\n",
            "|   |   |   |   |   |   |   |--- category_health_fitness <= 0.50\n",
            "|   |   |   |   |   |   |   |   |--- class: 0\n",
            "|   |   |   |   |   |   |   |--- category_health_fitness >  0.50\n",
            "|   |   |   |   |   |   |   |   |--- class: 0\n",
            "|   |   |   |   |--- amt >  47.28\n",
            "|   |   |   |   |   |--- day_Monday <= 0.50\n",
            "|   |   |   |   |   |   |--- category_travel <= 0.50\n",
            "|   |   |   |   |   |   |   |--- category_misc_pos <= 0.50\n",
            "|   |   |   |   |   |   |   |   |--- class: 1\n",
            "|   |   |   |   |   |   |   |--- category_misc_pos >  0.50\n",
            "|   |   |   |   |   |   |   |   |--- class: 0\n",
            "|   |   |   |   |   |   |--- category_travel >  0.50\n",
            "|   |   |   |   |   |   |   |--- class: 0\n",
            "|   |   |   |   |   |--- day_Monday >  0.50\n",
            "|   |   |   |   |   |   |--- class: 0\n",
            "|   |   |   |--- amt >  47.31\n",
            "|   |   |   |   |--- category_food_dining <= 0.50\n",
            "|   |   |   |   |   |--- amt <= 219.23\n",
            "|   |   |   |   |   |   |--- class: 0\n",
            "|   |   |   |   |   |--- amt >  219.23\n",
            "|   |   |   |   |   |   |--- trans_hour <= 19.00\n",
            "|   |   |   |   |   |   |   |--- class: 0\n",
            "|   |   |   |   |   |   |--- trans_hour >  19.00\n",
            "|   |   |   |   |   |   |   |--- class: 1\n",
            "|   |   |   |   |--- category_food_dining >  0.50\n",
            "|   |   |   |   |   |--- amt <= 108.36\n",
            "|   |   |   |   |   |   |--- amt <= 107.62\n",
            "|   |   |   |   |   |   |   |--- class: 0\n",
            "|   |   |   |   |   |   |--- amt >  107.62\n",
            "|   |   |   |   |   |   |   |--- trans_hour <= 20.50\n",
            "|   |   |   |   |   |   |   |   |--- class: 0\n",
            "|   |   |   |   |   |   |   |--- trans_hour >  20.50\n",
            "|   |   |   |   |   |   |   |   |--- class: 1\n",
            "|   |   |   |   |   |--- amt >  108.36\n",
            "|   |   |   |   |   |   |--- gender_M <= 0.50\n",
            "|   |   |   |   |   |   |   |--- amt <= 149.82\n",
            "|   |   |   |   |   |   |   |   |--- class: 1\n",
            "|   |   |   |   |   |   |   |--- amt >  149.82\n",
            "|   |   |   |   |   |   |   |   |--- class: 0\n",
            "|   |   |   |   |   |   |--- gender_M >  0.50\n",
            "|   |   |   |   |   |   |   |--- class: 0\n",
            "|   |   |--- amt >  220.56\n",
            "|   |   |   |--- category_grocery_pos <= 0.50\n",
            "|   |   |   |   |--- gender_M <= 0.50\n",
            "|   |   |   |   |   |--- category_shopping_net <= 0.50\n",
            "|   |   |   |   |   |   |--- category_misc_net <= 0.50\n",
            "|   |   |   |   |   |   |   |--- category_misc_pos <= 0.50\n",
            "|   |   |   |   |   |   |   |   |--- class: 1\n",
            "|   |   |   |   |   |   |   |--- category_misc_pos >  0.50\n",
            "|   |   |   |   |   |   |   |   |--- class: 0\n",
            "|   |   |   |   |   |   |--- category_misc_net >  0.50\n",
            "|   |   |   |   |   |   |   |--- class: 0\n",
            "|   |   |   |   |   |--- category_shopping_net >  0.50\n",
            "|   |   |   |   |   |   |--- class: 0\n",
            "|   |   |   |   |--- gender_M >  0.50\n",
            "|   |   |   |   |   |--- class: 0\n",
            "|   |   |   |--- category_grocery_pos >  0.50\n",
            "|   |   |   |   |--- amt <= 241.54\n",
            "|   |   |   |   |   |--- age <= 53.00\n",
            "|   |   |   |   |   |   |--- class: 0\n",
            "|   |   |   |   |   |--- age >  53.00\n",
            "|   |   |   |   |   |   |--- class: 1\n",
            "|   |   |   |   |--- amt >  241.54\n",
            "|   |   |   |   |   |--- amt <= 277.82\n",
            "|   |   |   |   |   |   |--- gender_M <= 0.50\n",
            "|   |   |   |   |   |   |   |--- age <= 23.00\n",
            "|   |   |   |   |   |   |   |   |--- class: 1\n",
            "|   |   |   |   |   |   |   |--- age >  23.00\n",
            "|   |   |   |   |   |   |   |   |--- class: 0\n",
            "|   |   |   |   |   |   |--- gender_M >  0.50\n",
            "|   |   |   |   |   |   |   |--- class: 1\n",
            "|   |   |   |   |   |--- amt >  277.82\n",
            "|   |   |   |   |   |   |--- day_Monday <= 0.50\n",
            "|   |   |   |   |   |   |   |--- class: 1\n",
            "|   |   |   |   |   |   |--- day_Monday >  0.50\n",
            "|   |   |   |   |   |   |   |--- amt <= 290.90\n",
            "|   |   |   |   |   |   |   |   |--- class: 1\n",
            "|   |   |   |   |   |   |   |--- amt >  290.90\n",
            "|   |   |   |   |   |   |   |   |--- class: 1\n",
            "|--- trans_hour >  21.50\n",
            "|   |--- amt <= 9.08\n",
            "|   |   |--- age <= 54.08\n",
            "|   |   |   |--- age <= 21.97\n",
            "|   |   |   |   |--- age <= 21.02\n",
            "|   |   |   |   |   |--- category_misc_pos <= 0.50\n",
            "|   |   |   |   |   |   |--- class: 0\n",
            "|   |   |   |   |   |--- category_misc_pos >  0.50\n",
            "|   |   |   |   |   |   |--- day_Monday <= 0.50\n",
            "|   |   |   |   |   |   |   |--- class: 0\n",
            "|   |   |   |   |   |   |--- day_Monday >  0.50\n",
            "|   |   |   |   |   |   |   |--- class: 1\n",
            "|   |   |   |   |--- age >  21.02\n",
            "|   |   |   |   |   |--- class: 1\n",
            "|   |   |   |--- age >  21.97\n",
            "|   |   |   |   |--- age <= 52.10\n",
            "|   |   |   |   |   |--- age <= 22.60\n",
            "|   |   |   |   |   |   |--- age <= 22.03\n",
            "|   |   |   |   |   |   |   |--- class: 0\n",
            "|   |   |   |   |   |   |--- age >  22.03\n",
            "|   |   |   |   |   |   |   |--- class: 1\n",
            "|   |   |   |   |   |--- age >  22.60\n",
            "|   |   |   |   |   |   |--- class: 0\n",
            "|   |   |   |   |--- age >  52.10\n",
            "|   |   |   |   |   |--- amt <= 8.85\n",
            "|   |   |   |   |   |   |--- class: 0\n",
            "|   |   |   |   |   |--- amt >  8.85\n",
            "|   |   |   |   |   |   |--- class: 1\n",
            "|   |   |--- age >  54.08\n",
            "|   |   |   |--- gender_M <= 0.50\n",
            "|   |   |   |   |--- trans_hour <= 22.50\n",
            "|   |   |   |   |   |--- amt <= 3.47\n",
            "|   |   |   |   |   |   |--- amt <= 3.16\n",
            "|   |   |   |   |   |   |   |--- class: 0\n",
            "|   |   |   |   |   |   |--- amt >  3.16\n",
            "|   |   |   |   |   |   |   |--- category_travel <= 0.50\n",
            "|   |   |   |   |   |   |   |   |--- class: 1\n",
            "|   |   |   |   |   |   |   |--- category_travel >  0.50\n",
            "|   |   |   |   |   |   |   |   |--- class: 0\n",
            "|   |   |   |   |   |--- amt >  3.47\n",
            "|   |   |   |   |   |   |--- age <= 74.46\n",
            "|   |   |   |   |   |   |   |--- category_home <= 0.50\n",
            "|   |   |   |   |   |   |   |   |--- class: 1\n",
            "|   |   |   |   |   |   |   |--- category_home >  0.50\n",
            "|   |   |   |   |   |   |   |   |--- class: 0\n",
            "|   |   |   |   |   |   |--- age >  74.46\n",
            "|   |   |   |   |   |   |   |--- class: 0\n",
            "|   |   |   |   |--- trans_hour >  22.50\n",
            "|   |   |   |   |   |--- class: 0\n",
            "|   |   |   |--- gender_M >  0.50\n",
            "|   |   |   |   |--- class: 0\n",
            "|   |--- amt >  9.08\n",
            "|   |   |--- amt <= 49.15\n",
            "|   |   |   |--- amt <= 47.25\n",
            "|   |   |   |   |--- amt <= 23.11\n",
            "|   |   |   |   |   |--- gender_M <= 0.50\n",
            "|   |   |   |   |   |   |--- day_Tuesday <= 0.50\n",
            "|   |   |   |   |   |   |   |--- age <= 56.98\n",
            "|   |   |   |   |   |   |   |   |--- class: 1\n",
            "|   |   |   |   |   |   |   |--- age >  56.98\n",
            "|   |   |   |   |   |   |   |   |--- class: 0\n",
            "|   |   |   |   |   |   |--- day_Tuesday >  0.50\n",
            "|   |   |   |   |   |   |   |--- amt <= 21.08\n",
            "|   |   |   |   |   |   |   |   |--- class: 0\n",
            "|   |   |   |   |   |   |   |--- amt >  21.08\n",
            "|   |   |   |   |   |   |   |   |--- class: 1\n",
            "|   |   |   |   |   |--- gender_M >  0.50\n",
            "|   |   |   |   |   |   |--- class: 0\n",
            "|   |   |   |   |--- amt >  23.11\n",
            "|   |   |   |   |   |--- class: 0\n",
            "|   |   |   |--- amt >  47.25\n",
            "|   |   |   |   |--- amt <= 47.70\n",
            "|   |   |   |   |   |--- category_travel <= 0.50\n",
            "|   |   |   |   |   |   |--- category_misc_pos <= 0.50\n",
            "|   |   |   |   |   |   |   |--- age <= 17.50\n",
            "|   |   |   |   |   |   |   |   |--- class: 0\n",
            "|   |   |   |   |   |   |   |--- age >  17.50\n",
            "|   |   |   |   |   |   |   |   |--- class: 1\n",
            "|   |   |   |   |   |   |--- category_misc_pos >  0.50\n",
            "|   |   |   |   |   |   |   |--- class: 0\n",
            "|   |   |   |   |   |--- category_travel >  0.50\n",
            "|   |   |   |   |   |   |--- class: 0\n",
            "|   |   |   |   |--- amt >  47.70\n",
            "|   |   |   |   |   |--- age <= 55.11\n",
            "|   |   |   |   |   |   |--- class: 0\n",
            "|   |   |   |   |   |--- age >  55.11\n",
            "|   |   |   |   |   |   |--- age <= 58.38\n",
            "|   |   |   |   |   |   |   |--- class: 1\n",
            "|   |   |   |   |   |   |--- age >  58.38\n",
            "|   |   |   |   |   |   |   |--- class: 0\n",
            "|   |   |--- amt >  49.15\n",
            "|   |   |   |--- amt <= 218.69\n",
            "|   |   |   |   |--- category_food_dining <= 0.50\n",
            "|   |   |   |   |   |--- amt <= 49.25\n",
            "|   |   |   |   |   |   |--- age <= 51.48\n",
            "|   |   |   |   |   |   |   |--- class: 0\n",
            "|   |   |   |   |   |   |--- age >  51.48\n",
            "|   |   |   |   |   |   |   |--- age <= 66.02\n",
            "|   |   |   |   |   |   |   |   |--- class: 1\n",
            "|   |   |   |   |   |   |   |--- age >  66.02\n",
            "|   |   |   |   |   |   |   |   |--- class: 0\n",
            "|   |   |   |   |   |--- amt >  49.25\n",
            "|   |   |   |   |   |   |--- class: 0\n",
            "|   |   |   |   |--- category_food_dining >  0.50\n",
            "|   |   |   |   |   |--- amt <= 107.39\n",
            "|   |   |   |   |   |   |--- class: 0\n",
            "|   |   |   |   |   |--- amt >  107.39\n",
            "|   |   |   |   |   |   |--- amt <= 138.21\n",
            "|   |   |   |   |   |   |   |--- age <= 34.50\n",
            "|   |   |   |   |   |   |   |   |--- class: 0\n",
            "|   |   |   |   |   |   |   |--- age >  34.50\n",
            "|   |   |   |   |   |   |   |   |--- class: 1\n",
            "|   |   |   |   |   |   |--- amt >  138.21\n",
            "|   |   |   |   |   |   |   |--- class: 0\n",
            "|   |   |   |--- amt >  218.69\n",
            "|   |   |   |   |--- day_Tuesday <= 0.50\n",
            "|   |   |   |   |   |--- day_Sunday <= 0.50\n",
            "|   |   |   |   |   |   |--- category_shopping_net <= 0.50\n",
            "|   |   |   |   |   |   |   |--- category_travel <= 0.50\n",
            "|   |   |   |   |   |   |   |   |--- class: 1\n",
            "|   |   |   |   |   |   |   |--- category_travel >  0.50\n",
            "|   |   |   |   |   |   |   |   |--- class: 0\n",
            "|   |   |   |   |   |   |--- category_shopping_net >  0.50\n",
            "|   |   |   |   |   |   |   |--- class: 0\n",
            "|   |   |   |   |   |--- day_Sunday >  0.50\n",
            "|   |   |   |   |   |   |--- age <= 53.94\n",
            "|   |   |   |   |   |   |   |--- class: 0\n",
            "|   |   |   |   |   |   |--- age >  53.94\n",
            "|   |   |   |   |   |   |   |--- age <= 59.94\n",
            "|   |   |   |   |   |   |   |   |--- class: 1\n",
            "|   |   |   |   |   |   |   |--- age >  59.94\n",
            "|   |   |   |   |   |   |   |   |--- class: 0\n",
            "|   |   |   |   |--- day_Tuesday >  0.50\n",
            "|   |   |   |   |   |--- category_grocery_pos <= 0.50\n",
            "|   |   |   |   |   |   |--- class: 0\n",
            "|   |   |   |   |   |--- category_grocery_pos >  0.50\n",
            "|   |   |   |   |   |   |--- class: 1\n",
            "\n"
          ]
        },
        {
          "output_type": "display_data",
          "data": {
            "text/plain": [
              "<Figure size 1440x720 with 1 Axes>"
            ],
            "image/png": "[encoded data removed]"
          },
          "metadata": {
            "needs_background": "light"
          }
        }
      ]
    },
    {
      "cell_type": "code",
      "source": [
        "# Predicting the target using the test data features\n",
        "pred_dtree=DTree.predict(X_test)\n",
        "pred_dtree"
      ],
      "metadata": {
        "colab": {
          "base_uri": "https://localhost:8080/"
        },
        "id": "2_NbgDakxr7x",
        "outputId": "286bb47b-044d-4e95-e428-be1e36cf6968"
      },
      "execution_count": null,
      "outputs": [
        {
          "output_type": "execute_result",
          "data": {
            "text/plain": [
              "array([1, 0, 0, ..., 1, 0, 1])"
            ]
          },
          "metadata": {},
          "execution_count": 97
        }
      ]
    },
    {
      "cell_type": "markdown",
      "source": [
        "## **Model Validation**"
      ],
      "metadata": {
        "id": "i0B1JO9_xyi-"
      }
    },
    {
      "cell_type": "code",
      "source": [
        "# Importing confusion_matrix\n",
        "from sklearn.metrics import confusion_matrix\n",
        "\n",
        "# Creating Confusion Matrix using the test data and the predicted value\n",
        "cm=confusion_matrix(y_test,pred_dtree)\n",
        "print(cm)\n",
        "\n",
        "# Calculating the accuracy of the predicted value of the test data\n",
        "total=sum(sum(cm))\n",
        "accuracy=(cm[0,0]+cm[1,1])/total\n",
        "print('Accuracy=',round(accuracy*100,2))\n",
        "\n",
        "# Calculating Sensitivity\n",
        "Sensitivity=cm[0,0]/(cm[0,0]+cm[0,1])\n",
        "print('Sensitivity-',round(Sensitivity*100,2))\n",
        "\n",
        "# Calculating Specificity\n",
        "Specificity = cm[1,1]/(cm[1,0]+cm[1,1])\n",
        "print('Specificity-',round(Specificity*100,2))"
      ],
      "metadata": {
        "colab": {
          "base_uri": "https://localhost:8080/"
        },
        "id": "cU2AX2gMxsGC",
        "outputId": "7c42a730-9b2a-4c94-82b5-fa389ca4f380"
      },
      "execution_count": null,
      "outputs": [
        {
          "output_type": "stream",
          "name": "stdout",
          "text": [
            "[[13444   495]\n",
            " [  459 11891]]\n",
            "Accuracy= 96.37\n",
            "Sensitivity- 96.45\n",
            "Specificity- 96.28\n"
          ]
        }
      ]
    },
    {
      "cell_type": "markdown",
      "source": [
        "## **Check of Overfitting and underfitting**"
      ],
      "metadata": {
        "id": "vmH9DelvyDE6"
      }
    },
    {
      "cell_type": "code",
      "source": [
        "# Predicting the target using the train data features\n",
        "pred_dtree1=DTree.predict(X_train)\n",
        "\n",
        "# Creating Confusion matrix using the train data and the predicted value\n",
        "cm1=confusion_matrix(y_train,pred_dtree1)\n",
        "print(cm1)\n",
        "\n",
        "# Calculating the accuracy of the train data\n",
        "total1=sum(sum(cm1))\n",
        "accuracy1=(cm1[0,0]+cm1[1,1])/total1\n",
        "print('Train Accuracy=',round(accuracy1*100,2))\n",
        "\n",
        "# Calculating the accuracy of the test data\n",
        "total=sum(sum(cm))\n",
        "accuracy=(cm[0,0]+cm[1,1])/total\n",
        "print('Test Accuracy=',round(accuracy*100,2))"
      ],
      "metadata": {
        "colab": {
          "base_uri": "https://localhost:8080/"
        },
        "id": "-5bF02aOyIKk",
        "outputId": "3b6967e7-03b2-4746-d062-dbc18514a793"
      },
      "execution_count": null,
      "outputs": [
        {
          "output_type": "stream",
          "name": "stdout",
          "text": [
            "[[40017  1389]\n",
            " [ 1239 36221]]\n",
            "Train Accuracy= 96.67\n",
            "Test Accuracy= 96.37\n"
          ]
        }
      ]
    },
    {
      "cell_type": "markdown",
      "source": [
        "\n",
        "\n",
        "*   Sometimes usually when there are lot of data points present in the dataset the model may memorise both the test and train data behaviour. So to theck upon this K-Fold validation is done.\n",
        "\n",
        "\n"
      ],
      "metadata": {
        "id": "dCK2Ctxhyhn6"
      }
    },
    {
      "cell_type": "markdown",
      "source": [
        "## **K-Fold Cross Validation**"
      ],
      "metadata": {
        "id": "i4Vu5CcvzCjo"
      }
    },
    {
      "cell_type": "markdown",
      "source": [
        "\n",
        "\n",
        "*   In k-fold cross-validation, we make an assumption that all observations in the dataset are nicely distributed in a way that the data are not biased.\n",
        "\n",
        "\n"
      ],
      "metadata": {
        "id": "FHOW1HLx9Of7"
      }
    },
    {
      "cell_type": "code",
      "source": [
        "#Simple K-Fold cross validation. 10 folds.\n",
        "from sklearn.model_selection import KFold\n",
        "kfold_models = KFold(n_splits=10)\n",
        "\n",
        "from sklearn import model_selection\n",
        "scores = model_selection.cross_val_score(DTree,X, y,cv=kfold_models)\n",
        "print(scores)\n",
        "print(\"Avg K-Fold Accuracy\", scores.mean())"
      ],
      "metadata": {
        "id": "ILJFbmUtIcEu",
        "colab": {
          "base_uri": "https://localhost:8080/"
        },
        "outputId": "8d64c838-fcb5-4324-ff94-6c9ad330c2c8"
      },
      "execution_count": null,
      "outputs": [
        {
          "output_type": "stream",
          "name": "stdout",
          "text": [
            "[0.95977558 0.96034614 0.95958539 0.94484595 0.95910993 0.96376605\n",
            " 0.95520685 0.92990965 0.94655254 0.94588683]\n",
            "Avg K-Fold Accuracy 0.952498491079508\n"
          ]
        }
      ]
    },
    {
      "cell_type": "markdown",
      "source": [
        "# **Advanced Machine Learning Algorithms**"
      ],
      "metadata": {
        "id": "gZQkx5JU9W1b"
      }
    },
    {
      "cell_type": "markdown",
      "source": [
        "## **Random Forest**"
      ],
      "metadata": {
        "id": "jWjHNLgy9dgi"
      }
    },
    {
      "cell_type": "markdown",
      "source": [
        "### **Random Forest Model building**"
      ],
      "metadata": {
        "id": "uLm4rJVm_3pj"
      }
    },
    {
      "cell_type": "code",
      "source": [
        "import time"
      ],
      "metadata": {
        "id": "kowjcQke_HNu"
      },
      "execution_count": null,
      "outputs": []
    },
    {
      "cell_type": "code",
      "source": [
        "X=fraud_ohe1_smote.drop('is_fraud',axis=1)\n",
        "y=fraud_ohe1_smote['is_fraud']\n",
        "\n",
        "# Importing the package\n",
        "from sklearn.model_selection import train_test_split\n",
        "\n",
        "# Using train_test_split() function to split the whole data to train data of 80% and test data of 20%.\n",
        "X_train, X_test, y_train, y_test = train_test_split(X, y, test_size=0.2,random_state=42)\n",
        "\n",
        "from sklearn.ensemble import RandomForestClassifier\n",
        "\n",
        "start_time = time.time()\n",
        "\n",
        "forest=RandomForestClassifier(n_estimators=100,max_features=7,max_depth=10,random_state=42)\n",
        "\n",
        "forest.fit(X_train,y_train)\n",
        "\n",
        "prediction=forest.predict(X_train)\n",
        "\n",
        "print(\"Time taken by Random Forest \"+ str((time.time() - start_time))+ \" Seconds\")"
      ],
      "metadata": {
        "id": "68HdkuWDIcQS",
        "colab": {
          "base_uri": "https://localhost:8080/"
        },
        "outputId": "dc726809-50bb-438d-d0ce-97a7604964ae"
      },
      "execution_count": null,
      "outputs": [
        {
          "output_type": "stream",
          "name": "stdout",
          "text": [
            "Time taken by Random Forest 9.702592134475708 Seconds\n"
          ]
        }
      ]
    },
    {
      "cell_type": "markdown",
      "source": [
        "### **Confusion Matrix,Accuracy,Sensitivity and Specificity**"
      ],
      "metadata": {
        "id": "2PF2-DsH_gie"
      }
    },
    {
      "cell_type": "code",
      "source": [
        "# Importing confusion_matrix\n",
        "from sklearn.metrics import confusion_matrix\n",
        "\n",
        "# Creating Confusion Matrix using the test data and the predicted value\n",
        "cm=confusion_matrix(y_train,prediction)\n",
        "print(cm)\n",
        "\n",
        "# Calculating the accuracy of the predicted value of the test data\n",
        "total=sum(sum(cm))\n",
        "accuracy=(cm[0,0]+cm[1,1])/total\n",
        "print('Accuracy=',round(accuracy*100,2))\n",
        "\n",
        "# Calculating Sensitivity\n",
        "Sensitivity=cm[0,0]/(cm[0,0]+cm[0,1])\n",
        "print('Sensitivity-',round(Sensitivity*100,2))\n",
        "\n",
        "# Calculating Specificity\n",
        "Specificity = cm[1,1]/(cm[1,0]+cm[1,1])\n",
        "print('Specificity-',round(Specificity*100,2))"
      ],
      "metadata": {
        "id": "A5Xvpe3RAz5V",
        "colab": {
          "base_uri": "https://localhost:8080/"
        },
        "outputId": "2b0e3325-6ec3-4301-8caf-1a3ffb7d5b7c"
      },
      "execution_count": null,
      "outputs": [
        {
          "output_type": "stream",
          "name": "stdout",
          "text": [
            "[[43647   516]\n",
            " [ 1361 38600]]\n",
            "Accuracy= 97.77\n",
            "Sensitivity- 98.83\n",
            "Specificity- 96.59\n"
          ]
        }
      ]
    },
    {
      "cell_type": "code",
      "source": [
        "# Predicting the target using the test data features\n",
        "prediction1=forest.predict(X_test)\n",
        "\n",
        "# Creating Confusion matrix using the test data and the predicted value\n",
        "cm1=confusion_matrix(y_test,prediction1)\n",
        "print(cm1)\n",
        "\n",
        "# Calculating the accuracy of the train data\n",
        "total=sum(sum(cm))\n",
        "accuracy=(cm[0,0]+cm[1,1])/total\n",
        "print('Train Accuracy=',round(accuracy*100,2))\n",
        "\n",
        "# Calculating the accuracy of the test data\n",
        "total1=sum(sum(cm1))\n",
        "accuracy1=(cm1[0,0]+cm1[1,1])/total1\n",
        "print('Test Accuracy=',round(accuracy1*100,2))"
      ],
      "metadata": {
        "id": "CK6p57MxAz8C",
        "colab": {
          "base_uri": "https://localhost:8080/"
        },
        "outputId": "31c4660e-502f-4184-e3c2-1674ad1e0fac"
      },
      "execution_count": null,
      "outputs": [
        {
          "output_type": "stream",
          "name": "stdout",
          "text": [
            "[[11034   148]\n",
            " [  369  9480]]\n",
            "Train Accuracy= 97.77\n",
            "Test Accuracy= 97.54\n"
          ]
        }
      ]
    },
    {
      "cell_type": "markdown",
      "source": [
        "## **XGBOOST**"
      ],
      "metadata": {
        "id": "P1wvxN5__v8j"
      }
    },
    {
      "cell_type": "markdown",
      "source": [
        "### **XGBOOST model building**"
      ],
      "metadata": {
        "id": "MxGTYMO7ACW-"
      }
    },
    {
      "cell_type": "code",
      "source": [
        "X=fraud_ohe1_smote.drop('is_fraud',axis=1)\n",
        "y=fraud_ohe1_smote['is_fraud']\n",
        "\n",
        "# Importing the package\n",
        "from xgboost import XGBClassifier\n",
        "import time\n",
        "\n",
        "start_time = time.time()\n",
        "\n",
        "# Building XGB model for binary classification\n",
        "model_new=XGBClassifier(n_estimators=100,max_depth=5,learning_rate=0.1,eval_metric='error',\n",
        "                        early_stopping_rounds=4,tree_method='hist')\n",
        "\n",
        "model_new.fit(X_train,y_train)\n",
        "\n",
        "predict2=model_new.predict(X_train)\n",
        "\n",
        "print(\"Time taken by XGB \"+ str((time.time() - start_time))+ \" Seconds\")"
      ],
      "metadata": {
        "id": "1YoRSWcC5bRJ",
        "colab": {
          "base_uri": "https://localhost:8080/"
        },
        "outputId": "e45c7f30-391e-4de7-ea38-587dc4b9da38"
      },
      "execution_count": null,
      "outputs": [
        {
          "output_type": "stream",
          "name": "stdout",
          "text": [
            "Time taken by XGB 2.105809450149536 Seconds\n"
          ]
        }
      ]
    },
    {
      "cell_type": "markdown",
      "source": [
        "### **Checking Accuracy,Sensitivity and Specificity**"
      ],
      "metadata": {
        "id": "ZqUR4R5FARUL"
      }
    },
    {
      "cell_type": "code",
      "source": [
        "# Importing confusion_matrix\n",
        "from sklearn.metrics import confusion_matrix\n",
        "\n",
        "# Creating Confusion Matrix using the train data and the predicted value\n",
        "cm=confusion_matrix(y_train,predict2)\n",
        "print(cm)\n",
        "\n",
        "# Calculating the accuracy of the predicted value of the test data\n",
        "total=sum(sum(cm))\n",
        "accuracy=(cm[0,0]+cm[1,1])/total\n",
        "print('Accuracy=',round(accuracy*100,2))\n",
        "\n",
        "# Calculating Sensitivity\n",
        "Sensitivity=cm[0,0]/(cm[0,0]+cm[0,1])\n",
        "print('Sensitivity-',round(Sensitivity*100,2))\n",
        "\n",
        "# Calculating Specificity\n",
        "Specificity = cm[1,1]/(cm[1,0]+cm[1,1])\n",
        "print('Specificity-',round(Specificity*100,2))"
      ],
      "metadata": {
        "id": "6RHq0EfVvkkz",
        "colab": {
          "base_uri": "https://localhost:8080/"
        },
        "outputId": "e65bac64-e83e-4760-bb4f-188b07eca227"
      },
      "execution_count": null,
      "outputs": [
        {
          "output_type": "stream",
          "name": "stdout",
          "text": [
            "[[43651   512]\n",
            " [  210 39751]]\n",
            "Accuracy= 99.14\n",
            "Sensitivity- 98.84\n",
            "Specificity- 99.47\n"
          ]
        }
      ]
    },
    {
      "cell_type": "code",
      "source": [
        "# Predicting the target using the train data features\n",
        "predict3=model_new.predict(X_test)\n",
        "\n",
        "# Creating Confusion matrix using the test data and the predicted value\n",
        "cm1=confusion_matrix(y_test,predict3)\n",
        "print(cm1)\n",
        "\n",
        "# Calculating the accuracy of the train data\n",
        "total=sum(sum(cm))\n",
        "accuracy=(cm[0,0]+cm[1,1])/total\n",
        "print('Train Accuracy=',round(accuracy*100,2))\n",
        "\n",
        "# Calculating the accuracy of the test data\n",
        "total1=sum(sum(cm1))\n",
        "accuracy1=(cm1[0,0]+cm1[1,1])/total1\n",
        "print('Test Accuracy=',round(accuracy1*100,2))"
      ],
      "metadata": {
        "id": "CRmdwZDIvkrP",
        "colab": {
          "base_uri": "https://localhost:8080/"
        },
        "outputId": "c1c3ce79-c3eb-4a6c-bb7c-8d3e84437686"
      },
      "execution_count": null,
      "outputs": [
        {
          "output_type": "stream",
          "name": "stdout",
          "text": [
            "[[11050   132]\n",
            " [   62  9787]]\n",
            "Train Accuracy= 99.14\n",
            "Test Accuracy= 99.08\n"
          ]
        }
      ]
    },
    {
      "cell_type": "markdown",
      "source": [
        "# **Final Findings of the Project**"
      ],
      "metadata": {
        "id": "Loa7twEDAm2W"
      }
    },
    {
      "cell_type": "markdown",
      "source": [
        "\n",
        "\n",
        "1.   When the data exploration was done there was observed a huge class imbalance in the dataset. Later this imbalance was treated was using techniques like SMOTE and Oversampling and undersampling.\n",
        "2.   Featured engineering was done to get few important additional features like age.\n",
        "\n",
        "1.   OHE of the categorical variables were done so that they can fitted in the model like logistic Regression\n",
        "2.   Using the logistic regression on the balanced data (through SMOTE)  gave us a accuracy of almost **90%**  and the specificity also increased to **88%** from **0%**\n",
        "\n",
        "1.   On using the Decision Tree alogorithm the accuracy was further increased to **96%** and the model was also fine tuned using K-Fold cross validation measure. It was found out to be perfectly Fit.\n",
        "2.   Using algorithm such as Random-Forest the accuracy was lifted to **97%** and the total running time of this algo was around **9.6 sec**\n",
        "\n",
        "1.   By using XGBOOST we got an accuray close to **90%**, moreover the running time of this model was **2 sec** which is less than anyother model\n",
        "2.   So finally it can be concluded that the XGBOOST model worked best and it can be implemented\n",
        "\n",
        "\n",
        "\n",
        "\n",
        "\n",
        "\n",
        "\n"
      ],
      "metadata": {
        "id": "e1-u5ifcAtX6"
      }
    },
    {
      "cell_type": "markdown",
      "source": [
        "# Model  Deployment\n",
        "Optional step"
      ],
      "metadata": {
        "id": "CWYNRwm2vlDs"
      }
    },
    {
      "cell_type": "code",
      "source": [],
      "metadata": {
        "id": "ubQzEKTHvsUu"
      },
      "execution_count": null,
      "outputs": []
    },
    {
      "cell_type": "code",
      "source": [],
      "metadata": {
        "id": "456tAxZGvsYJ"
      },
      "execution_count": null,
      "outputs": []
    }
  ]
}